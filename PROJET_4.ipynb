{
 "cells": [
  {
   "cell_type": "markdown",
   "metadata": {},
   "source": [
    "# CREATION DE L'ENVIRONNEMENT VIRTUEL"
   ]
  },
  {
   "cell_type": "code",
   "execution_count": 430,
   "metadata": {},
   "outputs": [],
   "source": [
    "import sys\n",
    "import subprocess\n",
    "import os\n"
   ]
  },
  {
   "cell_type": "code",
   "execution_count": 431,
   "metadata": {},
   "outputs": [],
   "source": [
    "# NOM DE L'ENVIRONNEMENT VIRTUEL\n",
    "\n",
    "venv_name = \"environnement_virtuel_projet_4\"\n"
   ]
  },
  {
   "cell_type": "code",
   "execution_count": 432,
   "metadata": {},
   "outputs": [
    {
     "name": "stdout",
     "output_type": "stream",
     "text": [
      "c:\\Users\\lenovo\\Desktop\\OpenClassrooms\\PROJET_OC\\PROJET_4\\environnement_virtuel_projet_4\n"
     ]
    }
   ],
   "source": [
    "# DEFINITION DU PATH DE L'ENVIRONNEMENT VIRTUEL\n",
    "\n",
    "venv_path = os.path.abspath(venv_name)\n",
    "print(venv_path)\n"
   ]
  },
  {
   "cell_type": "code",
   "execution_count": 433,
   "metadata": {},
   "outputs": [
    {
     "name": "stderr",
     "output_type": "stream",
     "text": [
      "Error: [Errno 13] Permission denied: 'c:\\\\Users\\\\lenovo\\\\Desktop\\\\OpenClassrooms\\\\PROJET_OC\\\\PROJET_4\\\\environnement_virtuel_projet_4\\\\Scripts\\\\python.exe'\n"
     ]
    }
   ],
   "source": [
    "# CREER L'ENVIRONNEMENT VIRTUEL\n",
    "\n",
    "!{sys.executable} -m venv {venv_name}\n"
   ]
  },
  {
   "cell_type": "code",
   "execution_count": 434,
   "metadata": {},
   "outputs": [],
   "source": [
    "# ACTIVER L'ENVIRONNEMENT VIRTUEL\n",
    "\n",
    "activate_script = os.path.join(venv_path, \"Scripts\", \"activate.bat\")\n"
   ]
  },
  {
   "cell_type": "code",
   "execution_count": 435,
   "metadata": {},
   "outputs": [
    {
     "name": "stdout",
     "output_type": "stream",
     "text": [
      "Environnement virtuel trouvé à : c:\\Users\\lenovo\\Desktop\\OpenClassrooms\\PROJET_OC\\PROJET_4\\environnement_virtuel_projet_4\n",
      "Tentative d'activation...\n",
      "\n",
      "Pour utiliser cet environnement, vous devez redémarrer le kernel.\n",
      "Après le redémarrage, vérifiez que sys.executable pointe vers : c:\\Users\\lenovo\\Desktop\\OpenClassrooms\\PROJET_OC\\PROJET_4\\environnement_virtuel_projet_4\\Scripts\\python.exe\n"
     ]
    }
   ],
   "source": [
    "# VERIFIER QUE L'ENVIRONNEMENT EST CORRECTEMENT INSTALLE\n",
    "\n",
    "python_executable = os.path.join(venv_path, \"Scripts\", \"python.exe\")\n",
    "if os.path.exists(python_executable):\n",
    "    print(f\"Environnement virtuel trouvé à : {venv_path}\")\n",
    "    print(f\"Tentative d'activation...\")\n",
    "    \n",
    "    os.system(f'call \"{activate_script}\" && where python')\n",
    "    \n",
    "    \n",
    "    print(\"\\nPour utiliser cet environnement, vous devez redémarrer le kernel.\")\n",
    "    print(f\"Après le redémarrage, vérifiez que sys.executable pointe vers : {python_executable}\")\n"
   ]
  },
  {
   "cell_type": "code",
   "execution_count": 436,
   "metadata": {},
   "outputs": [],
   "source": [
    "#EXECUTER LE SCRIPT D'ACTIVATION\n",
    "\n",
    "!{activate_script}\n"
   ]
  },
  {
   "cell_type": "code",
   "execution_count": 437,
   "metadata": {},
   "outputs": [
    {
     "name": "stdout",
     "output_type": "stream",
     "text": [
      "c:\\Users\\lenovo\\Desktop\\OpenClassrooms\\PROJET_OC\\PROJET_4\\environnement_virtuel_projet_4\\Scripts\\python.exe\n"
     ]
    }
   ],
   "source": [
    "# VERIFIER QUE LE PATH EST LE BON\n",
    "\n",
    "print(sys.executable)\n"
   ]
  },
  {
   "cell_type": "code",
   "execution_count": 438,
   "metadata": {},
   "outputs": [
    {
     "name": "stdout",
     "output_type": "stream",
     "text": [
      "c:\\Users\\lenovo\\Desktop\\OpenClassrooms\\PROJET_OC\\PROJET_4\\environnement_virtuel_projet_4\\Scripts\\python.exe\n",
      "C:\\Users\\lenovo\\AppData\\Local\\Microsoft\\WindowsApps\\python.exe\n"
     ]
    }
   ],
   "source": [
    "# VERIFIER QUE L'ENVIRONNEMENT EST ACTIVE\n",
    "\n",
    "!where python"
   ]
  },
  {
   "cell_type": "markdown",
   "metadata": {},
   "source": [
    "# INSTALLATION DES DIFFERENTES BIBLIOTHEQUES"
   ]
  },
  {
   "cell_type": "code",
   "execution_count": 439,
   "metadata": {},
   "outputs": [
    {
     "name": "stdout",
     "output_type": "stream",
     "text": [
      "Requirement already satisfied: setuptools in c:\\users\\lenovo\\desktop\\openclassrooms\\projet_oc\\projet_4\\environnement_virtuel_projet_4\\lib\\site-packages (75.1.0)\n",
      "Note: you may need to restart the kernel to use updated packages.\n"
     ]
    },
    {
     "name": "stderr",
     "output_type": "stream",
     "text": [
      "\n",
      "[notice] A new release of pip is available: 24.0 -> 24.2\n",
      "[notice] To update, run: python.exe -m pip install --upgrade pip\n"
     ]
    }
   ],
   "source": [
    "%pip install --upgrade setuptools\n"
   ]
  },
  {
   "cell_type": "code",
   "execution_count": 440,
   "metadata": {},
   "outputs": [
    {
     "name": "stdout",
     "output_type": "stream",
     "text": [
      "Requirement already satisfied: pandas in c:\\users\\lenovo\\desktop\\openclassrooms\\projet_oc\\projet_4\\environnement_virtuel_projet_4\\lib\\site-packages (2.2.3)\n",
      "Requirement already satisfied: numpy>=1.26.0 in c:\\users\\lenovo\\desktop\\openclassrooms\\projet_oc\\projet_4\\environnement_virtuel_projet_4\\lib\\site-packages (from pandas) (1.26.4)\n",
      "Requirement already satisfied: python-dateutil>=2.8.2 in c:\\users\\lenovo\\desktop\\openclassrooms\\projet_oc\\projet_4\\environnement_virtuel_projet_4\\lib\\site-packages (from pandas) (2.9.0.post0)\n",
      "Requirement already satisfied: pytz>=2020.1 in c:\\users\\lenovo\\desktop\\openclassrooms\\projet_oc\\projet_4\\environnement_virtuel_projet_4\\lib\\site-packages (from pandas) (2024.2)\n",
      "Requirement already satisfied: tzdata>=2022.7 in c:\\users\\lenovo\\desktop\\openclassrooms\\projet_oc\\projet_4\\environnement_virtuel_projet_4\\lib\\site-packages (from pandas) (2024.2)\n",
      "Requirement already satisfied: six>=1.5 in c:\\users\\lenovo\\desktop\\openclassrooms\\projet_oc\\projet_4\\environnement_virtuel_projet_4\\lib\\site-packages (from python-dateutil>=2.8.2->pandas) (1.16.0)\n",
      "Note: you may need to restart the kernel to use updated packages.\n"
     ]
    },
    {
     "name": "stderr",
     "output_type": "stream",
     "text": [
      "\n",
      "[notice] A new release of pip is available: 24.0 -> 24.2\n",
      "[notice] To update, run: python.exe -m pip install --upgrade pip\n"
     ]
    }
   ],
   "source": [
    "%pip install pandas\n"
   ]
  },
  {
   "cell_type": "code",
   "execution_count": 441,
   "metadata": {},
   "outputs": [
    {
     "name": "stdout",
     "output_type": "stream",
     "text": [
      "Requirement already satisfied: numpy in c:\\users\\lenovo\\desktop\\openclassrooms\\projet_oc\\projet_4\\environnement_virtuel_projet_4\\lib\\site-packages (1.26.4)\n",
      "Note: you may need to restart the kernel to use updated packages.\n"
     ]
    },
    {
     "name": "stderr",
     "output_type": "stream",
     "text": [
      "\n",
      "[notice] A new release of pip is available: 24.0 -> 24.2\n",
      "[notice] To update, run: python.exe -m pip install --upgrade pip\n"
     ]
    }
   ],
   "source": [
    "%pip install numpy\n"
   ]
  },
  {
   "cell_type": "code",
   "execution_count": 442,
   "metadata": {},
   "outputs": [
    {
     "name": "stdout",
     "output_type": "stream",
     "text": [
      "Requirement already satisfied: matplotlib in c:\\users\\lenovo\\desktop\\openclassrooms\\projet_oc\\projet_4\\environnement_virtuel_projet_4\\lib\\site-packages (3.9.2)\n",
      "Requirement already satisfied: contourpy>=1.0.1 in c:\\users\\lenovo\\desktop\\openclassrooms\\projet_oc\\projet_4\\environnement_virtuel_projet_4\\lib\\site-packages (from matplotlib) (1.3.0)\n",
      "Requirement already satisfied: cycler>=0.10 in c:\\users\\lenovo\\desktop\\openclassrooms\\projet_oc\\projet_4\\environnement_virtuel_projet_4\\lib\\site-packages (from matplotlib) (0.12.1)\n",
      "Requirement already satisfied: fonttools>=4.22.0 in c:\\users\\lenovo\\desktop\\openclassrooms\\projet_oc\\projet_4\\environnement_virtuel_projet_4\\lib\\site-packages (from matplotlib) (4.54.1)\n",
      "Requirement already satisfied: kiwisolver>=1.3.1 in c:\\users\\lenovo\\desktop\\openclassrooms\\projet_oc\\projet_4\\environnement_virtuel_projet_4\\lib\\site-packages (from matplotlib) (1.4.7)\n",
      "Requirement already satisfied: numpy>=1.23 in c:\\users\\lenovo\\desktop\\openclassrooms\\projet_oc\\projet_4\\environnement_virtuel_projet_4\\lib\\site-packages (from matplotlib) (1.26.4)\n",
      "Requirement already satisfied: packaging>=20.0 in c:\\users\\lenovo\\desktop\\openclassrooms\\projet_oc\\projet_4\\environnement_virtuel_projet_4\\lib\\site-packages (from matplotlib) (24.1)\n",
      "Requirement already satisfied: pillow>=8 in c:\\users\\lenovo\\desktop\\openclassrooms\\projet_oc\\projet_4\\environnement_virtuel_projet_4\\lib\\site-packages (from matplotlib) (10.4.0)\n",
      "Requirement already satisfied: pyparsing>=2.3.1 in c:\\users\\lenovo\\desktop\\openclassrooms\\projet_oc\\projet_4\\environnement_virtuel_projet_4\\lib\\site-packages (from matplotlib) (3.1.4)\n",
      "Requirement already satisfied: python-dateutil>=2.7 in c:\\users\\lenovo\\desktop\\openclassrooms\\projet_oc\\projet_4\\environnement_virtuel_projet_4\\lib\\site-packages (from matplotlib) (2.9.0.post0)\n",
      "Requirement already satisfied: six>=1.5 in c:\\users\\lenovo\\desktop\\openclassrooms\\projet_oc\\projet_4\\environnement_virtuel_projet_4\\lib\\site-packages (from python-dateutil>=2.7->matplotlib) (1.16.0)\n",
      "Note: you may need to restart the kernel to use updated packages.\n"
     ]
    },
    {
     "name": "stderr",
     "output_type": "stream",
     "text": [
      "\n",
      "[notice] A new release of pip is available: 24.0 -> 24.2\n",
      "[notice] To update, run: python.exe -m pip install --upgrade pip\n"
     ]
    }
   ],
   "source": [
    "%pip install matplotlib\n"
   ]
  },
  {
   "cell_type": "code",
   "execution_count": 443,
   "metadata": {},
   "outputs": [
    {
     "name": "stdout",
     "output_type": "stream",
     "text": [
      "Requirement already satisfied: seaborn in c:\\users\\lenovo\\desktop\\openclassrooms\\projet_oc\\projet_4\\environnement_virtuel_projet_4\\lib\\site-packages (0.13.2)\n",
      "Requirement already satisfied: numpy!=1.24.0,>=1.20 in c:\\users\\lenovo\\desktop\\openclassrooms\\projet_oc\\projet_4\\environnement_virtuel_projet_4\\lib\\site-packages (from seaborn) (1.26.4)\n",
      "Requirement already satisfied: pandas>=1.2 in c:\\users\\lenovo\\desktop\\openclassrooms\\projet_oc\\projet_4\\environnement_virtuel_projet_4\\lib\\site-packages (from seaborn) (2.2.3)\n",
      "Requirement already satisfied: matplotlib!=3.6.1,>=3.4 in c:\\users\\lenovo\\desktop\\openclassrooms\\projet_oc\\projet_4\\environnement_virtuel_projet_4\\lib\\site-packages (from seaborn) (3.9.2)\n",
      "Requirement already satisfied: contourpy>=1.0.1 in c:\\users\\lenovo\\desktop\\openclassrooms\\projet_oc\\projet_4\\environnement_virtuel_projet_4\\lib\\site-packages (from matplotlib!=3.6.1,>=3.4->seaborn) (1.3.0)\n",
      "Requirement already satisfied: cycler>=0.10 in c:\\users\\lenovo\\desktop\\openclassrooms\\projet_oc\\projet_4\\environnement_virtuel_projet_4\\lib\\site-packages (from matplotlib!=3.6.1,>=3.4->seaborn) (0.12.1)\n",
      "Requirement already satisfied: fonttools>=4.22.0 in c:\\users\\lenovo\\desktop\\openclassrooms\\projet_oc\\projet_4\\environnement_virtuel_projet_4\\lib\\site-packages (from matplotlib!=3.6.1,>=3.4->seaborn) (4.54.1)\n",
      "Requirement already satisfied: kiwisolver>=1.3.1 in c:\\users\\lenovo\\desktop\\openclassrooms\\projet_oc\\projet_4\\environnement_virtuel_projet_4\\lib\\site-packages (from matplotlib!=3.6.1,>=3.4->seaborn) (1.4.7)\n",
      "Requirement already satisfied: packaging>=20.0 in c:\\users\\lenovo\\desktop\\openclassrooms\\projet_oc\\projet_4\\environnement_virtuel_projet_4\\lib\\site-packages (from matplotlib!=3.6.1,>=3.4->seaborn) (24.1)\n",
      "Requirement already satisfied: pillow>=8 in c:\\users\\lenovo\\desktop\\openclassrooms\\projet_oc\\projet_4\\environnement_virtuel_projet_4\\lib\\site-packages (from matplotlib!=3.6.1,>=3.4->seaborn) (10.4.0)\n",
      "Requirement already satisfied: pyparsing>=2.3.1 in c:\\users\\lenovo\\desktop\\openclassrooms\\projet_oc\\projet_4\\environnement_virtuel_projet_4\\lib\\site-packages (from matplotlib!=3.6.1,>=3.4->seaborn) (3.1.4)\n",
      "Requirement already satisfied: python-dateutil>=2.7 in c:\\users\\lenovo\\desktop\\openclassrooms\\projet_oc\\projet_4\\environnement_virtuel_projet_4\\lib\\site-packages (from matplotlib!=3.6.1,>=3.4->seaborn) (2.9.0.post0)\n",
      "Requirement already satisfied: pytz>=2020.1 in c:\\users\\lenovo\\desktop\\openclassrooms\\projet_oc\\projet_4\\environnement_virtuel_projet_4\\lib\\site-packages (from pandas>=1.2->seaborn) (2024.2)\n",
      "Requirement already satisfied: tzdata>=2022.7 in c:\\users\\lenovo\\desktop\\openclassrooms\\projet_oc\\projet_4\\environnement_virtuel_projet_4\\lib\\site-packages (from pandas>=1.2->seaborn) (2024.2)\n",
      "Requirement already satisfied: six>=1.5 in c:\\users\\lenovo\\desktop\\openclassrooms\\projet_oc\\projet_4\\environnement_virtuel_projet_4\\lib\\site-packages (from python-dateutil>=2.7->matplotlib!=3.6.1,>=3.4->seaborn) (1.16.0)\n",
      "Note: you may need to restart the kernel to use updated packages.\n"
     ]
    },
    {
     "name": "stderr",
     "output_type": "stream",
     "text": [
      "\n",
      "[notice] A new release of pip is available: 24.0 -> 24.2\n",
      "[notice] To update, run: python.exe -m pip install --upgrade pip\n"
     ]
    }
   ],
   "source": [
    "%pip install seaborn\n"
   ]
  },
  {
   "cell_type": "code",
   "execution_count": 444,
   "metadata": {},
   "outputs": [
    {
     "name": "stdout",
     "output_type": "stream",
     "text": [
      "Requirement already satisfied: scikit-learn in c:\\users\\lenovo\\desktop\\openclassrooms\\projet_oc\\projet_4\\environnement_virtuel_projet_4\\lib\\site-packages (1.5.2)\n",
      "Requirement already satisfied: numpy>=1.19.5 in c:\\users\\lenovo\\desktop\\openclassrooms\\projet_oc\\projet_4\\environnement_virtuel_projet_4\\lib\\site-packages (from scikit-learn) (1.26.4)\n",
      "Requirement already satisfied: scipy>=1.6.0 in c:\\users\\lenovo\\desktop\\openclassrooms\\projet_oc\\projet_4\\environnement_virtuel_projet_4\\lib\\site-packages (from scikit-learn) (1.14.1)\n",
      "Requirement already satisfied: joblib>=1.2.0 in c:\\users\\lenovo\\desktop\\openclassrooms\\projet_oc\\projet_4\\environnement_virtuel_projet_4\\lib\\site-packages (from scikit-learn) (1.4.2)\n",
      "Requirement already satisfied: threadpoolctl>=3.1.0 in c:\\users\\lenovo\\desktop\\openclassrooms\\projet_oc\\projet_4\\environnement_virtuel_projet_4\\lib\\site-packages (from scikit-learn) (3.5.0)\n",
      "Note: you may need to restart the kernel to use updated packages.\n"
     ]
    },
    {
     "name": "stderr",
     "output_type": "stream",
     "text": [
      "\n",
      "[notice] A new release of pip is available: 24.0 -> 24.2\n",
      "[notice] To update, run: python.exe -m pip install --upgrade pip\n"
     ]
    }
   ],
   "source": [
    "%pip install scikit-learn"
   ]
  },
  {
   "cell_type": "code",
   "execution_count": 445,
   "metadata": {},
   "outputs": [
    {
     "name": "stdout",
     "output_type": "stream",
     "text": [
      "Requirement already satisfied: skimpy in c:\\users\\lenovo\\desktop\\openclassrooms\\projet_oc\\projet_4\\environnement_virtuel_projet_4\\lib\\site-packages (0.0.15)\n",
      "Requirement already satisfied: Pygments<3.0.0,>=2.10.0 in c:\\users\\lenovo\\desktop\\openclassrooms\\projet_oc\\projet_4\\environnement_virtuel_projet_4\\lib\\site-packages (from skimpy) (2.18.0)\n",
      "Requirement already satisfied: click<9.0.0,>=8.1.6 in c:\\users\\lenovo\\desktop\\openclassrooms\\projet_oc\\projet_4\\environnement_virtuel_projet_4\\lib\\site-packages (from skimpy) (8.1.7)\n",
      "Requirement already satisfied: ipykernel<7.0.0,>=6.7.0 in c:\\users\\lenovo\\desktop\\openclassrooms\\projet_oc\\projet_4\\environnement_virtuel_projet_4\\lib\\site-packages (from skimpy) (6.29.5)\n",
      "Requirement already satisfied: numpy<2.0.0,>=1.22.2 in c:\\users\\lenovo\\desktop\\openclassrooms\\projet_oc\\projet_4\\environnement_virtuel_projet_4\\lib\\site-packages (from skimpy) (1.26.4)\n",
      "Requirement already satisfied: pandas<3.0.0,>=2.0.3 in c:\\users\\lenovo\\desktop\\openclassrooms\\projet_oc\\projet_4\\environnement_virtuel_projet_4\\lib\\site-packages (from skimpy) (2.2.3)\n",
      "Requirement already satisfied: polars<0.21,>=0.19 in c:\\users\\lenovo\\desktop\\openclassrooms\\projet_oc\\projet_4\\environnement_virtuel_projet_4\\lib\\site-packages (from skimpy) (0.20.31)\n",
      "Requirement already satisfied: pyarrow<17,>=13 in c:\\users\\lenovo\\desktop\\openclassrooms\\projet_oc\\projet_4\\environnement_virtuel_projet_4\\lib\\site-packages (from skimpy) (16.1.0)\n",
      "Requirement already satisfied: rich<14.0,>=10.9 in c:\\users\\lenovo\\desktop\\openclassrooms\\projet_oc\\projet_4\\environnement_virtuel_projet_4\\lib\\site-packages (from skimpy) (13.9.2)\n",
      "Requirement already satisfied: typeguard==4.2.1 in c:\\users\\lenovo\\desktop\\openclassrooms\\projet_oc\\projet_4\\environnement_virtuel_projet_4\\lib\\site-packages (from skimpy) (4.2.1)\n",
      "Requirement already satisfied: typing-extensions>=4.10.0 in c:\\users\\lenovo\\desktop\\openclassrooms\\projet_oc\\projet_4\\environnement_virtuel_projet_4\\lib\\site-packages (from typeguard==4.2.1->skimpy) (4.12.2)\n",
      "Requirement already satisfied: colorama in c:\\users\\lenovo\\desktop\\openclassrooms\\projet_oc\\projet_4\\environnement_virtuel_projet_4\\lib\\site-packages (from click<9.0.0,>=8.1.6->skimpy) (0.4.6)\n",
      "Requirement already satisfied: comm>=0.1.1 in c:\\users\\lenovo\\desktop\\openclassrooms\\projet_oc\\projet_4\\environnement_virtuel_projet_4\\lib\\site-packages (from ipykernel<7.0.0,>=6.7.0->skimpy) (0.2.2)\n",
      "Requirement already satisfied: debugpy>=1.6.5 in c:\\users\\lenovo\\desktop\\openclassrooms\\projet_oc\\projet_4\\environnement_virtuel_projet_4\\lib\\site-packages (from ipykernel<7.0.0,>=6.7.0->skimpy) (1.8.6)\n",
      "Requirement already satisfied: ipython>=7.23.1 in c:\\users\\lenovo\\desktop\\openclassrooms\\projet_oc\\projet_4\\environnement_virtuel_projet_4\\lib\\site-packages (from ipykernel<7.0.0,>=6.7.0->skimpy) (8.28.0)\n",
      "Requirement already satisfied: jupyter-client>=6.1.12 in c:\\users\\lenovo\\desktop\\openclassrooms\\projet_oc\\projet_4\\environnement_virtuel_projet_4\\lib\\site-packages (from ipykernel<7.0.0,>=6.7.0->skimpy) (8.6.3)\n",
      "Requirement already satisfied: jupyter-core!=5.0.*,>=4.12 in c:\\users\\lenovo\\desktop\\openclassrooms\\projet_oc\\projet_4\\environnement_virtuel_projet_4\\lib\\site-packages (from ipykernel<7.0.0,>=6.7.0->skimpy) (5.7.2)\n",
      "Requirement already satisfied: matplotlib-inline>=0.1 in c:\\users\\lenovo\\desktop\\openclassrooms\\projet_oc\\projet_4\\environnement_virtuel_projet_4\\lib\\site-packages (from ipykernel<7.0.0,>=6.7.0->skimpy) (0.1.7)\n",
      "Requirement already satisfied: nest-asyncio in c:\\users\\lenovo\\desktop\\openclassrooms\\projet_oc\\projet_4\\environnement_virtuel_projet_4\\lib\\site-packages (from ipykernel<7.0.0,>=6.7.0->skimpy) (1.6.0)\n",
      "Requirement already satisfied: packaging in c:\\users\\lenovo\\desktop\\openclassrooms\\projet_oc\\projet_4\\environnement_virtuel_projet_4\\lib\\site-packages (from ipykernel<7.0.0,>=6.7.0->skimpy) (24.1)\n",
      "Requirement already satisfied: psutil in c:\\users\\lenovo\\desktop\\openclassrooms\\projet_oc\\projet_4\\environnement_virtuel_projet_4\\lib\\site-packages (from ipykernel<7.0.0,>=6.7.0->skimpy) (6.0.0)\n",
      "Requirement already satisfied: pyzmq>=24 in c:\\users\\lenovo\\desktop\\openclassrooms\\projet_oc\\projet_4\\environnement_virtuel_projet_4\\lib\\site-packages (from ipykernel<7.0.0,>=6.7.0->skimpy) (26.2.0)\n",
      "Requirement already satisfied: tornado>=6.1 in c:\\users\\lenovo\\desktop\\openclassrooms\\projet_oc\\projet_4\\environnement_virtuel_projet_4\\lib\\site-packages (from ipykernel<7.0.0,>=6.7.0->skimpy) (6.4.1)\n",
      "Requirement already satisfied: traitlets>=5.4.0 in c:\\users\\lenovo\\desktop\\openclassrooms\\projet_oc\\projet_4\\environnement_virtuel_projet_4\\lib\\site-packages (from ipykernel<7.0.0,>=6.7.0->skimpy) (5.14.3)\n",
      "Requirement already satisfied: python-dateutil>=2.8.2 in c:\\users\\lenovo\\desktop\\openclassrooms\\projet_oc\\projet_4\\environnement_virtuel_projet_4\\lib\\site-packages (from pandas<3.0.0,>=2.0.3->skimpy) (2.9.0.post0)\n",
      "Requirement already satisfied: pytz>=2020.1 in c:\\users\\lenovo\\desktop\\openclassrooms\\projet_oc\\projet_4\\environnement_virtuel_projet_4\\lib\\site-packages (from pandas<3.0.0,>=2.0.3->skimpy) (2024.2)\n",
      "Requirement already satisfied: tzdata>=2022.7 in c:\\users\\lenovo\\desktop\\openclassrooms\\projet_oc\\projet_4\\environnement_virtuel_projet_4\\lib\\site-packages (from pandas<3.0.0,>=2.0.3->skimpy) (2024.2)\n",
      "Requirement already satisfied: markdown-it-py>=2.2.0 in c:\\users\\lenovo\\desktop\\openclassrooms\\projet_oc\\projet_4\\environnement_virtuel_projet_4\\lib\\site-packages (from rich<14.0,>=10.9->skimpy) (3.0.0)\n",
      "Requirement already satisfied: decorator in c:\\users\\lenovo\\desktop\\openclassrooms\\projet_oc\\projet_4\\environnement_virtuel_projet_4\\lib\\site-packages (from ipython>=7.23.1->ipykernel<7.0.0,>=6.7.0->skimpy) (5.1.1)\n",
      "Requirement already satisfied: jedi>=0.16 in c:\\users\\lenovo\\desktop\\openclassrooms\\projet_oc\\projet_4\\environnement_virtuel_projet_4\\lib\\site-packages (from ipython>=7.23.1->ipykernel<7.0.0,>=6.7.0->skimpy) (0.19.1)\n",
      "Requirement already satisfied: prompt-toolkit<3.1.0,>=3.0.41 in c:\\users\\lenovo\\desktop\\openclassrooms\\projet_oc\\projet_4\\environnement_virtuel_projet_4\\lib\\site-packages (from ipython>=7.23.1->ipykernel<7.0.0,>=6.7.0->skimpy) (3.0.48)\n",
      "Requirement already satisfied: stack-data in c:\\users\\lenovo\\desktop\\openclassrooms\\projet_oc\\projet_4\\environnement_virtuel_projet_4\\lib\\site-packages (from ipython>=7.23.1->ipykernel<7.0.0,>=6.7.0->skimpy) (0.6.3)\n",
      "Requirement already satisfied: platformdirs>=2.5 in c:\\users\\lenovo\\desktop\\openclassrooms\\projet_oc\\projet_4\\environnement_virtuel_projet_4\\lib\\site-packages (from jupyter-core!=5.0.*,>=4.12->ipykernel<7.0.0,>=6.7.0->skimpy) (4.3.6)\n",
      "Requirement already satisfied: pywin32>=300 in c:\\users\\lenovo\\desktop\\openclassrooms\\projet_oc\\projet_4\\environnement_virtuel_projet_4\\lib\\site-packages (from jupyter-core!=5.0.*,>=4.12->ipykernel<7.0.0,>=6.7.0->skimpy) (307)\n",
      "Requirement already satisfied: mdurl~=0.1 in c:\\users\\lenovo\\desktop\\openclassrooms\\projet_oc\\projet_4\\environnement_virtuel_projet_4\\lib\\site-packages (from markdown-it-py>=2.2.0->rich<14.0,>=10.9->skimpy) (0.1.2)\n",
      "Requirement already satisfied: six>=1.5 in c:\\users\\lenovo\\desktop\\openclassrooms\\projet_oc\\projet_4\\environnement_virtuel_projet_4\\lib\\site-packages (from python-dateutil>=2.8.2->pandas<3.0.0,>=2.0.3->skimpy) (1.16.0)\n",
      "Requirement already satisfied: parso<0.9.0,>=0.8.3 in c:\\users\\lenovo\\desktop\\openclassrooms\\projet_oc\\projet_4\\environnement_virtuel_projet_4\\lib\\site-packages (from jedi>=0.16->ipython>=7.23.1->ipykernel<7.0.0,>=6.7.0->skimpy) (0.8.4)\n",
      "Requirement already satisfied: wcwidth in c:\\users\\lenovo\\desktop\\openclassrooms\\projet_oc\\projet_4\\environnement_virtuel_projet_4\\lib\\site-packages (from prompt-toolkit<3.1.0,>=3.0.41->ipython>=7.23.1->ipykernel<7.0.0,>=6.7.0->skimpy) (0.2.13)\n",
      "Requirement already satisfied: executing>=1.2.0 in c:\\users\\lenovo\\desktop\\openclassrooms\\projet_oc\\projet_4\\environnement_virtuel_projet_4\\lib\\site-packages (from stack-data->ipython>=7.23.1->ipykernel<7.0.0,>=6.7.0->skimpy) (2.1.0)\n",
      "Requirement already satisfied: asttokens>=2.1.0 in c:\\users\\lenovo\\desktop\\openclassrooms\\projet_oc\\projet_4\\environnement_virtuel_projet_4\\lib\\site-packages (from stack-data->ipython>=7.23.1->ipykernel<7.0.0,>=6.7.0->skimpy) (2.4.1)\n",
      "Requirement already satisfied: pure-eval in c:\\users\\lenovo\\desktop\\openclassrooms\\projet_oc\\projet_4\\environnement_virtuel_projet_4\\lib\\site-packages (from stack-data->ipython>=7.23.1->ipykernel<7.0.0,>=6.7.0->skimpy) (0.2.3)\n",
      "Note: you may need to restart the kernel to use updated packages.\n"
     ]
    },
    {
     "name": "stderr",
     "output_type": "stream",
     "text": [
      "\n",
      "[notice] A new release of pip is available: 24.0 -> 24.2\n",
      "[notice] To update, run: python.exe -m pip install --upgrade pip\n"
     ]
    }
   ],
   "source": [
    "%pip install skimpy"
   ]
  },
  {
   "cell_type": "code",
   "execution_count": 446,
   "metadata": {},
   "outputs": [
    {
     "name": "stdout",
     "output_type": "stream",
     "text": [
      "Requirement already satisfied: scipy in c:\\users\\lenovo\\desktop\\openclassrooms\\projet_oc\\projet_4\\environnement_virtuel_projet_4\\lib\\site-packages (1.14.1)\n",
      "Requirement already satisfied: numpy<2.3,>=1.23.5 in c:\\users\\lenovo\\desktop\\openclassrooms\\projet_oc\\projet_4\\environnement_virtuel_projet_4\\lib\\site-packages (from scipy) (1.26.4)\n",
      "Note: you may need to restart the kernel to use updated packages.\n"
     ]
    },
    {
     "name": "stderr",
     "output_type": "stream",
     "text": [
      "\n",
      "[notice] A new release of pip is available: 24.0 -> 24.2\n",
      "[notice] To update, run: python.exe -m pip install --upgrade pip\n"
     ]
    }
   ],
   "source": [
    "%pip install scipy"
   ]
  },
  {
   "cell_type": "code",
   "execution_count": 447,
   "metadata": {},
   "outputs": [
    {
     "name": "stdout",
     "output_type": "stream",
     "text": [
      "Requirement already satisfied: missingno in c:\\users\\lenovo\\desktop\\openclassrooms\\projet_oc\\projet_4\\environnement_virtuel_projet_4\\lib\\site-packages (0.5.2)\n",
      "Requirement already satisfied: numpy in c:\\users\\lenovo\\desktop\\openclassrooms\\projet_oc\\projet_4\\environnement_virtuel_projet_4\\lib\\site-packages (from missingno) (1.26.4)\n",
      "Requirement already satisfied: matplotlib in c:\\users\\lenovo\\desktop\\openclassrooms\\projet_oc\\projet_4\\environnement_virtuel_projet_4\\lib\\site-packages (from missingno) (3.9.2)\n",
      "Requirement already satisfied: scipy in c:\\users\\lenovo\\desktop\\openclassrooms\\projet_oc\\projet_4\\environnement_virtuel_projet_4\\lib\\site-packages (from missingno) (1.14.1)\n",
      "Requirement already satisfied: seaborn in c:\\users\\lenovo\\desktop\\openclassrooms\\projet_oc\\projet_4\\environnement_virtuel_projet_4\\lib\\site-packages (from missingno) (0.13.2)\n",
      "Requirement already satisfied: contourpy>=1.0.1 in c:\\users\\lenovo\\desktop\\openclassrooms\\projet_oc\\projet_4\\environnement_virtuel_projet_4\\lib\\site-packages (from matplotlib->missingno) (1.3.0)\n",
      "Requirement already satisfied: cycler>=0.10 in c:\\users\\lenovo\\desktop\\openclassrooms\\projet_oc\\projet_4\\environnement_virtuel_projet_4\\lib\\site-packages (from matplotlib->missingno) (0.12.1)\n",
      "Requirement already satisfied: fonttools>=4.22.0 in c:\\users\\lenovo\\desktop\\openclassrooms\\projet_oc\\projet_4\\environnement_virtuel_projet_4\\lib\\site-packages (from matplotlib->missingno) (4.54.1)\n",
      "Requirement already satisfied: kiwisolver>=1.3.1 in c:\\users\\lenovo\\desktop\\openclassrooms\\projet_oc\\projet_4\\environnement_virtuel_projet_4\\lib\\site-packages (from matplotlib->missingno) (1.4.7)\n",
      "Requirement already satisfied: packaging>=20.0 in c:\\users\\lenovo\\desktop\\openclassrooms\\projet_oc\\projet_4\\environnement_virtuel_projet_4\\lib\\site-packages (from matplotlib->missingno) (24.1)\n",
      "Requirement already satisfied: pillow>=8 in c:\\users\\lenovo\\desktop\\openclassrooms\\projet_oc\\projet_4\\environnement_virtuel_projet_4\\lib\\site-packages (from matplotlib->missingno) (10.4.0)\n",
      "Requirement already satisfied: pyparsing>=2.3.1 in c:\\users\\lenovo\\desktop\\openclassrooms\\projet_oc\\projet_4\\environnement_virtuel_projet_4\\lib\\site-packages (from matplotlib->missingno) (3.1.4)\n",
      "Requirement already satisfied: python-dateutil>=2.7 in c:\\users\\lenovo\\desktop\\openclassrooms\\projet_oc\\projet_4\\environnement_virtuel_projet_4\\lib\\site-packages (from matplotlib->missingno) (2.9.0.post0)\n",
      "Requirement already satisfied: pandas>=1.2 in c:\\users\\lenovo\\desktop\\openclassrooms\\projet_oc\\projet_4\\environnement_virtuel_projet_4\\lib\\site-packages (from seaborn->missingno) (2.2.3)\n",
      "Requirement already satisfied: pytz>=2020.1 in c:\\users\\lenovo\\desktop\\openclassrooms\\projet_oc\\projet_4\\environnement_virtuel_projet_4\\lib\\site-packages (from pandas>=1.2->seaborn->missingno) (2024.2)\n",
      "Requirement already satisfied: tzdata>=2022.7 in c:\\users\\lenovo\\desktop\\openclassrooms\\projet_oc\\projet_4\\environnement_virtuel_projet_4\\lib\\site-packages (from pandas>=1.2->seaborn->missingno) (2024.2)\n",
      "Requirement already satisfied: six>=1.5 in c:\\users\\lenovo\\desktop\\openclassrooms\\projet_oc\\projet_4\\environnement_virtuel_projet_4\\lib\\site-packages (from python-dateutil>=2.7->matplotlib->missingno) (1.16.0)\n",
      "Note: you may need to restart the kernel to use updated packages.\n"
     ]
    },
    {
     "name": "stderr",
     "output_type": "stream",
     "text": [
      "\n",
      "[notice] A new release of pip is available: 24.0 -> 24.2\n",
      "[notice] To update, run: python.exe -m pip install --upgrade pip\n"
     ]
    }
   ],
   "source": [
    "%pip install missingno"
   ]
  },
  {
   "cell_type": "code",
   "execution_count": 448,
   "metadata": {},
   "outputs": [
    {
     "name": "stdout",
     "output_type": "stream",
     "text": [
      "Note: you may need to restart the kernel to use updated packages.Requirement already satisfied: plotly in c:\\users\\lenovo\\desktop\\openclassrooms\\projet_oc\\projet_4\\environnement_virtuel_projet_4\\lib\\site-packages (5.24.1)\n",
      "Requirement already satisfied: tenacity>=6.2.0 in c:\\users\\lenovo\\desktop\\openclassrooms\\projet_oc\\projet_4\\environnement_virtuel_projet_4\\lib\\site-packages (from plotly) (9.0.0)\n",
      "Requirement already satisfied: packaging in c:\\users\\lenovo\\desktop\\openclassrooms\\projet_oc\\projet_4\\environnement_virtuel_projet_4\\lib\\site-packages (from plotly) (24.1)\n",
      "\n"
     ]
    },
    {
     "name": "stderr",
     "output_type": "stream",
     "text": [
      "\n",
      "[notice] A new release of pip is available: 24.0 -> 24.2\n",
      "[notice] To update, run: python.exe -m pip install --upgrade pip\n"
     ]
    }
   ],
   "source": [
    "%pip install plotly"
   ]
  },
  {
   "cell_type": "code",
   "execution_count": 449,
   "metadata": {},
   "outputs": [
    {
     "name": "stdout",
     "output_type": "stream",
     "text": [
      "Requirement already satisfied: dataframe_image in c:\\users\\lenovo\\desktop\\openclassrooms\\projet_oc\\projet_4\\environnement_virtuel_projet_4\\lib\\site-packages (0.2.5)\n",
      "Requirement already satisfied: pandas>=0.24 in c:\\users\\lenovo\\desktop\\openclassrooms\\projet_oc\\projet_4\\environnement_virtuel_projet_4\\lib\\site-packages (from dataframe_image) (2.2.3)\n",
      "Requirement already satisfied: nbconvert>=5 in c:\\users\\lenovo\\desktop\\openclassrooms\\projet_oc\\projet_4\\environnement_virtuel_projet_4\\lib\\site-packages (from dataframe_image) (7.16.4)\n",
      "Requirement already satisfied: aiohttp>=3.10.2 in c:\\users\\lenovo\\desktop\\openclassrooms\\projet_oc\\projet_4\\environnement_virtuel_projet_4\\lib\\site-packages (from dataframe_image) (3.10.9)\n",
      "Requirement already satisfied: requests in c:\\users\\lenovo\\desktop\\openclassrooms\\projet_oc\\projet_4\\environnement_virtuel_projet_4\\lib\\site-packages (from dataframe_image) (2.32.3)\n",
      "Requirement already satisfied: pillow in c:\\users\\lenovo\\desktop\\openclassrooms\\projet_oc\\projet_4\\environnement_virtuel_projet_4\\lib\\site-packages (from dataframe_image) (10.4.0)\n",
      "Requirement already satisfied: packaging in c:\\users\\lenovo\\desktop\\openclassrooms\\projet_oc\\projet_4\\environnement_virtuel_projet_4\\lib\\site-packages (from dataframe_image) (24.1)\n",
      "Requirement already satisfied: mistune in c:\\users\\lenovo\\desktop\\openclassrooms\\projet_oc\\projet_4\\environnement_virtuel_projet_4\\lib\\site-packages (from dataframe_image) (3.0.2)\n",
      "Requirement already satisfied: lxml in c:\\users\\lenovo\\desktop\\openclassrooms\\projet_oc\\projet_4\\environnement_virtuel_projet_4\\lib\\site-packages (from dataframe_image) (5.3.0)\n",
      "Requirement already satisfied: beautifulsoup4 in c:\\users\\lenovo\\desktop\\openclassrooms\\projet_oc\\projet_4\\environnement_virtuel_projet_4\\lib\\site-packages (from dataframe_image) (4.12.3)\n",
      "Requirement already satisfied: cssutils in c:\\users\\lenovo\\desktop\\openclassrooms\\projet_oc\\projet_4\\environnement_virtuel_projet_4\\lib\\site-packages (from dataframe_image) (2.11.1)\n",
      "Requirement already satisfied: html2image in c:\\users\\lenovo\\desktop\\openclassrooms\\projet_oc\\projet_4\\environnement_virtuel_projet_4\\lib\\site-packages (from dataframe_image) (2.0.5)\n",
      "Requirement already satisfied: cssselect in c:\\users\\lenovo\\desktop\\openclassrooms\\projet_oc\\projet_4\\environnement_virtuel_projet_4\\lib\\site-packages (from dataframe_image) (1.2.0)\n",
      "Requirement already satisfied: aiohappyeyeballs>=2.3.0 in c:\\users\\lenovo\\desktop\\openclassrooms\\projet_oc\\projet_4\\environnement_virtuel_projet_4\\lib\\site-packages (from aiohttp>=3.10.2->dataframe_image) (2.4.3)\n",
      "Requirement already satisfied: aiosignal>=1.1.2 in c:\\users\\lenovo\\desktop\\openclassrooms\\projet_oc\\projet_4\\environnement_virtuel_projet_4\\lib\\site-packages (from aiohttp>=3.10.2->dataframe_image) (1.3.1)\n",
      "Requirement already satisfied: attrs>=17.3.0 in c:\\users\\lenovo\\desktop\\openclassrooms\\projet_oc\\projet_4\\environnement_virtuel_projet_4\\lib\\site-packages (from aiohttp>=3.10.2->dataframe_image) (24.2.0)\n",
      "Requirement already satisfied: frozenlist>=1.1.1 in c:\\users\\lenovo\\desktop\\openclassrooms\\projet_oc\\projet_4\\environnement_virtuel_projet_4\\lib\\site-packages (from aiohttp>=3.10.2->dataframe_image) (1.4.1)\n",
      "Requirement already satisfied: multidict<7.0,>=4.5 in c:\\users\\lenovo\\desktop\\openclassrooms\\projet_oc\\projet_4\\environnement_virtuel_projet_4\\lib\\site-packages (from aiohttp>=3.10.2->dataframe_image) (6.1.0)\n",
      "Requirement already satisfied: yarl<2.0,>=1.12.0 in c:\\users\\lenovo\\desktop\\openclassrooms\\projet_oc\\projet_4\\environnement_virtuel_projet_4\\lib\\site-packages (from aiohttp>=3.10.2->dataframe_image) (1.14.0)\n",
      "Requirement already satisfied: bleach!=5.0.0 in c:\\users\\lenovo\\desktop\\openclassrooms\\projet_oc\\projet_4\\environnement_virtuel_projet_4\\lib\\site-packages (from nbconvert>=5->dataframe_image) (6.1.0)\n",
      "Requirement already satisfied: defusedxml in c:\\users\\lenovo\\desktop\\openclassrooms\\projet_oc\\projet_4\\environnement_virtuel_projet_4\\lib\\site-packages (from nbconvert>=5->dataframe_image) (0.7.1)\n",
      "Requirement already satisfied: jinja2>=3.0 in c:\\users\\lenovo\\desktop\\openclassrooms\\projet_oc\\projet_4\\environnement_virtuel_projet_4\\lib\\site-packages (from nbconvert>=5->dataframe_image) (3.1.4)\n",
      "Requirement already satisfied: jupyter-core>=4.7 in c:\\users\\lenovo\\desktop\\openclassrooms\\projet_oc\\projet_4\\environnement_virtuel_projet_4\\lib\\site-packages (from nbconvert>=5->dataframe_image) (5.7.2)\n",
      "Requirement already satisfied: jupyterlab-pygments in c:\\users\\lenovo\\desktop\\openclassrooms\\projet_oc\\projet_4\\environnement_virtuel_projet_4\\lib\\site-packages (from nbconvert>=5->dataframe_image) (0.3.0)\n",
      "Requirement already satisfied: markupsafe>=2.0 in c:\\users\\lenovo\\desktop\\openclassrooms\\projet_oc\\projet_4\\environnement_virtuel_projet_4\\lib\\site-packages (from nbconvert>=5->dataframe_image) (3.0.1)\n",
      "Requirement already satisfied: nbclient>=0.5.0 in c:\\users\\lenovo\\desktop\\openclassrooms\\projet_oc\\projet_4\\environnement_virtuel_projet_4\\lib\\site-packages (from nbconvert>=5->dataframe_image) (0.10.0)\n",
      "Requirement already satisfied: nbformat>=5.7 in c:\\users\\lenovo\\desktop\\openclassrooms\\projet_oc\\projet_4\\environnement_virtuel_projet_4\\lib\\site-packages (from nbconvert>=5->dataframe_image) (5.10.4)\n",
      "Requirement already satisfied: pandocfilters>=1.4.1 in c:\\users\\lenovo\\desktop\\openclassrooms\\projet_oc\\projet_4\\environnement_virtuel_projet_4\\lib\\site-packages (from nbconvert>=5->dataframe_image) (1.5.1)\n",
      "Requirement already satisfied: pygments>=2.4.1 in c:\\users\\lenovo\\desktop\\openclassrooms\\projet_oc\\projet_4\\environnement_virtuel_projet_4\\lib\\site-packages (from nbconvert>=5->dataframe_image) (2.18.0)\n",
      "Requirement already satisfied: tinycss2 in c:\\users\\lenovo\\desktop\\openclassrooms\\projet_oc\\projet_4\\environnement_virtuel_projet_4\\lib\\site-packages (from nbconvert>=5->dataframe_image) (1.3.0)\n",
      "Requirement already satisfied: traitlets>=5.1 in c:\\users\\lenovo\\desktop\\openclassrooms\\projet_oc\\projet_4\\environnement_virtuel_projet_4\\lib\\site-packages (from nbconvert>=5->dataframe_image) (5.14.3)\n",
      "Requirement already satisfied: numpy>=1.26.0 in c:\\users\\lenovo\\desktop\\openclassrooms\\projet_oc\\projet_4\\environnement_virtuel_projet_4\\lib\\site-packages (from pandas>=0.24->dataframe_image) (1.26.4)\n",
      "Requirement already satisfied: python-dateutil>=2.8.2 in c:\\users\\lenovo\\desktop\\openclassrooms\\projet_oc\\projet_4\\environnement_virtuel_projet_4\\lib\\site-packages (from pandas>=0.24->dataframe_image) (2.9.0.post0)\n",
      "Requirement already satisfied: pytz>=2020.1 in c:\\users\\lenovo\\desktop\\openclassrooms\\projet_oc\\projet_4\\environnement_virtuel_projet_4\\lib\\site-packages (from pandas>=0.24->dataframe_image) (2024.2)\n",
      "Requirement already satisfied: tzdata>=2022.7 in c:\\users\\lenovo\\desktop\\openclassrooms\\projet_oc\\projet_4\\environnement_virtuel_projet_4\\lib\\site-packages (from pandas>=0.24->dataframe_image) (2024.2)\n",
      "Requirement already satisfied: soupsieve>1.2 in c:\\users\\lenovo\\desktop\\openclassrooms\\projet_oc\\projet_4\\environnement_virtuel_projet_4\\lib\\site-packages (from beautifulsoup4->dataframe_image) (2.6)\n",
      "Requirement already satisfied: more-itertools in c:\\users\\lenovo\\desktop\\openclassrooms\\projet_oc\\projet_4\\environnement_virtuel_projet_4\\lib\\site-packages (from cssutils->dataframe_image) (10.5.0)\n",
      "Requirement already satisfied: websocket-client==1.* in c:\\users\\lenovo\\desktop\\openclassrooms\\projet_oc\\projet_4\\environnement_virtuel_projet_4\\lib\\site-packages (from html2image->dataframe_image) (1.8.0)\n",
      "Requirement already satisfied: charset-normalizer<4,>=2 in c:\\users\\lenovo\\desktop\\openclassrooms\\projet_oc\\projet_4\\environnement_virtuel_projet_4\\lib\\site-packages (from requests->dataframe_image) (3.4.0)\n",
      "Requirement already satisfied: idna<4,>=2.5 in c:\\users\\lenovo\\desktop\\openclassrooms\\projet_oc\\projet_4\\environnement_virtuel_projet_4\\lib\\site-packages (from requests->dataframe_image) (3.10)\n",
      "Requirement already satisfied: urllib3<3,>=1.21.1 in c:\\users\\lenovo\\desktop\\openclassrooms\\projet_oc\\projet_4\\environnement_virtuel_projet_4\\lib\\site-packages (from requests->dataframe_image) (2.2.3)\n",
      "Requirement already satisfied: certifi>=2017.4.17 in c:\\users\\lenovo\\desktop\\openclassrooms\\projet_oc\\projet_4\\environnement_virtuel_projet_4\\lib\\site-packages (from requests->dataframe_image) (2024.8.30)\n",
      "Requirement already satisfied: six>=1.9.0 in c:\\users\\lenovo\\desktop\\openclassrooms\\projet_oc\\projet_4\\environnement_virtuel_projet_4\\lib\\site-packages (from bleach!=5.0.0->nbconvert>=5->dataframe_image) (1.16.0)\n",
      "Requirement already satisfied: webencodings in c:\\users\\lenovo\\desktop\\openclassrooms\\projet_oc\\projet_4\\environnement_virtuel_projet_4\\lib\\site-packages (from bleach!=5.0.0->nbconvert>=5->dataframe_image) (0.5.1)\n",
      "Requirement already satisfied: platformdirs>=2.5 in c:\\users\\lenovo\\desktop\\openclassrooms\\projet_oc\\projet_4\\environnement_virtuel_projet_4\\lib\\site-packages (from jupyter-core>=4.7->nbconvert>=5->dataframe_image) (4.3.6)\n",
      "Requirement already satisfied: pywin32>=300 in c:\\users\\lenovo\\desktop\\openclassrooms\\projet_oc\\projet_4\\environnement_virtuel_projet_4\\lib\\site-packages (from jupyter-core>=4.7->nbconvert>=5->dataframe_image) (307)\n",
      "Requirement already satisfied: jupyter-client>=6.1.12 in c:\\users\\lenovo\\desktop\\openclassrooms\\projet_oc\\projet_4\\environnement_virtuel_projet_4\\lib\\site-packages (from nbclient>=0.5.0->nbconvert>=5->dataframe_image) (8.6.3)\n",
      "Requirement already satisfied: fastjsonschema>=2.15 in c:\\users\\lenovo\\desktop\\openclassrooms\\projet_oc\\projet_4\\environnement_virtuel_projet_4\\lib\\site-packages (from nbformat>=5.7->nbconvert>=5->dataframe_image) (2.20.0)\n",
      "Requirement already satisfied: jsonschema>=2.6 in c:\\users\\lenovo\\desktop\\openclassrooms\\projet_oc\\projet_4\\environnement_virtuel_projet_4\\lib\\site-packages (from nbformat>=5.7->nbconvert>=5->dataframe_image) (4.23.0)\n",
      "Requirement already satisfied: propcache>=0.2.0 in c:\\users\\lenovo\\desktop\\openclassrooms\\projet_oc\\projet_4\\environnement_virtuel_projet_4\\lib\\site-packages (from yarl<2.0,>=1.12.0->aiohttp>=3.10.2->dataframe_image) (0.2.0)\n",
      "Requirement already satisfied: jsonschema-specifications>=2023.03.6 in c:\\users\\lenovo\\desktop\\openclassrooms\\projet_oc\\projet_4\\environnement_virtuel_projet_4\\lib\\site-packages (from jsonschema>=2.6->nbformat>=5.7->nbconvert>=5->dataframe_image) (2024.10.1)\n",
      "Requirement already satisfied: referencing>=0.28.4 in c:\\users\\lenovo\\desktop\\openclassrooms\\projet_oc\\projet_4\\environnement_virtuel_projet_4\\lib\\site-packages (from jsonschema>=2.6->nbformat>=5.7->nbconvert>=5->dataframe_image) (0.35.1)\n",
      "Requirement already satisfied: rpds-py>=0.7.1 in c:\\users\\lenovo\\desktop\\openclassrooms\\projet_oc\\projet_4\\environnement_virtuel_projet_4\\lib\\site-packages (from jsonschema>=2.6->nbformat>=5.7->nbconvert>=5->dataframe_image) (0.20.0)\n",
      "Requirement already satisfied: pyzmq>=23.0 in c:\\users\\lenovo\\desktop\\openclassrooms\\projet_oc\\projet_4\\environnement_virtuel_projet_4\\lib\\site-packages (from jupyter-client>=6.1.12->nbclient>=0.5.0->nbconvert>=5->dataframe_image) (26.2.0)\n",
      "Requirement already satisfied: tornado>=6.2 in c:\\users\\lenovo\\desktop\\openclassrooms\\projet_oc\\projet_4\\environnement_virtuel_projet_4\\lib\\site-packages (from jupyter-client>=6.1.12->nbclient>=0.5.0->nbconvert>=5->dataframe_image) (6.4.1)\n",
      "Note: you may need to restart the kernel to use updated packages.\n"
     ]
    },
    {
     "name": "stderr",
     "output_type": "stream",
     "text": [
      "\n",
      "[notice] A new release of pip is available: 24.0 -> 24.2\n",
      "[notice] To update, run: python.exe -m pip install --upgrade pip\n"
     ]
    }
   ],
   "source": [
    "%pip install dataframe_image"
   ]
  },
  {
   "cell_type": "code",
   "execution_count": 450,
   "metadata": {},
   "outputs": [
    {
     "name": "stdout",
     "output_type": "stream",
     "text": [
      "Package                   Version\n",
      "------------------------- -----------\n",
      "aiohappyeyeballs          2.4.3\n",
      "aiohttp                   3.10.9\n",
      "aiosignal                 1.3.1\n",
      "asttokens                 2.4.1\n",
      "attrs                     24.2.0\n",
      "beautifulsoup4            4.12.3\n",
      "bleach                    6.1.0\n",
      "certifi                   2024.8.30\n",
      "charset-normalizer        3.4.0\n",
      "click                     8.1.7\n",
      "colorama                  0.4.6\n",
      "comm                      0.2.2\n",
      "contourpy                 1.3.0\n",
      "cssselect                 1.2.0\n",
      "cssutils                  2.11.1\n",
      "cycler                    0.12.1\n",
      "dataframe_image           0.2.5\n",
      "debugpy                   1.8.6\n",
      "decorator                 5.1.1\n",
      "defusedxml                0.7.1\n",
      "executing                 2.1.0\n",
      "fastjsonschema            2.20.0\n",
      "fonttools                 4.54.1\n",
      "frozenlist                1.4.1\n",
      "html2image                2.0.5\n",
      "idna                      3.10\n",
      "ipykernel                 6.29.5\n",
      "ipython                   8.28.0\n",
      "jedi                      0.19.1\n",
      "Jinja2                    3.1.4\n",
      "joblib                    1.4.2\n",
      "jsonschema                4.23.0\n",
      "jsonschema-specifications 2024.10.1\n",
      "jupyter_client            8.6.3\n",
      "jupyter_core              5.7.2\n",
      "jupyterlab_pygments       0.3.0\n",
      "kiwisolver                1.4.7\n",
      "lxml                      5.3.0\n",
      "markdown-it-py            3.0.0\n",
      "MarkupSafe                3.0.1\n",
      "matplotlib                3.9.2\n",
      "matplotlib-inline         0.1.7\n",
      "mdurl                     0.1.2\n",
      "missingno                 0.5.2\n",
      "mistune                   3.0.2\n",
      "more-itertools            10.5.0\n",
      "multidict                 6.1.0\n",
      "nbclient                  0.10.0\n",
      "nbconvert                 7.16.4\n",
      "nbformat                  5.10.4\n",
      "nest-asyncio              1.6.0\n",
      "numpy                     1.26.4\n",
      "packaging                 24.1\n",
      "pandas                    2.2.3\n",
      "pandocfilters             1.5.1\n",
      "parso                     0.8.4\n",
      "pillow                    10.4.0\n",
      "pip                       24.0\n",
      "platformdirs              4.3.6\n",
      "plotly                    5.24.1\n",
      "polars                    0.20.31\n",
      "prompt_toolkit            3.0.48\n",
      "propcache                 0.2.0\n",
      "psutil                    6.0.0\n",
      "pure_eval                 0.2.3\n",
      "pyarrow                   16.1.0\n",
      "Pygments                  2.18.0\n",
      "pyparsing                 3.1.4\n",
      "python-dateutil           2.9.0.post0\n",
      "pytz                      2024.2\n",
      "pywin32                   307\n",
      "pyzmq                     26.2.0\n",
      "referencing               0.35.1\n",
      "requests                  2.32.3\n",
      "rich                      13.9.2\n",
      "rpds-py                   0.20.0\n",
      "scikit-learn              1.5.2\n",
      "scipy                     1.14.1\n",
      "seaborn                   0.13.2\n",
      "setuptools                75.1.0\n",
      "six                       1.16.0\n",
      "skimpy                    0.0.15\n",
      "soupsieve                 2.6\n",
      "stack-data                0.6.3\n",
      "tenacity                  9.0.0\n",
      "threadpoolctl             3.5.0\n",
      "tinycss2                  1.3.0\n",
      "tornado                   6.4.1\n",
      "traitlets                 5.14.3\n",
      "typeguard                 4.2.1\n",
      "typing_extensions         4.12.2\n",
      "tzdata                    2024.2\n",
      "urllib3                   2.2.3\n",
      "wcwidth                   0.2.13\n",
      "webencodings              0.5.1\n",
      "websocket-client          1.8.0\n",
      "yarl                      1.14.0\n",
      "Note: you may need to restart the kernel to use updated packages.\n"
     ]
    },
    {
     "name": "stderr",
     "output_type": "stream",
     "text": [
      "\n",
      "[notice] A new release of pip is available: 24.0 -> 24.2\n",
      "[notice] To update, run: python.exe -m pip install --upgrade pip\n"
     ]
    }
   ],
   "source": [
    "pip list"
   ]
  },
  {
   "cell_type": "markdown",
   "metadata": {},
   "source": [
    "CREATION D'UN FICHIER REQUIREMENTS RECENSANT TOUTES LES VERSIONS INSTALLEES"
   ]
  },
  {
   "cell_type": "code",
   "execution_count": 451,
   "metadata": {},
   "outputs": [],
   "source": [
    "!C://Users//lenovo//Desktop//OpenClassrooms//PROJET_OC//PROJET_4//environnement_virtuel_projet_4//Scripts//pip freeze > requirements.txt"
   ]
  },
  {
   "cell_type": "markdown",
   "metadata": {},
   "source": [
    "# DEBUT DE L'ETUDE"
   ]
  },
  {
   "cell_type": "code",
   "execution_count": 452,
   "metadata": {},
   "outputs": [],
   "source": [
    "import pandas as pd\n",
    "import numpy as np\n",
    "import matplotlib.pyplot as plt\n",
    "import seaborn as sns\n",
    "from skimpy import skim\n",
    "import scipy\n",
    "\n",
    "from sklearn.decomposition import PCA\n",
    "from sklearn.preprocessing import StandardScaler"
   ]
  },
  {
   "cell_type": "markdown",
   "metadata": {},
   "source": [
    "# CREATION DU DATAFRAME ORIGINAL"
   ]
  },
  {
   "cell_type": "code",
   "execution_count": 453,
   "metadata": {},
   "outputs": [
    {
     "data": {
      "text/html": [
       "<div>\n",
       "<style scoped>\n",
       "    .dataframe tbody tr th:only-of-type {\n",
       "        vertical-align: middle;\n",
       "    }\n",
       "\n",
       "    .dataframe tbody tr th {\n",
       "        vertical-align: top;\n",
       "    }\n",
       "\n",
       "    .dataframe thead th {\n",
       "        text-align: right;\n",
       "    }\n",
       "</style>\n",
       "<table border=\"1\" class=\"dataframe\">\n",
       "  <thead>\n",
       "    <tr style=\"text-align: right;\">\n",
       "      <th></th>\n",
       "      <th>OSEBuildingID</th>\n",
       "      <th>DataYear</th>\n",
       "      <th>BuildingType</th>\n",
       "      <th>PrimaryPropertyType</th>\n",
       "      <th>PropertyName</th>\n",
       "      <th>Address</th>\n",
       "      <th>City</th>\n",
       "      <th>State</th>\n",
       "      <th>ZipCode</th>\n",
       "      <th>TaxParcelIdentificationNumber</th>\n",
       "      <th>...</th>\n",
       "      <th>Electricity(kWh)</th>\n",
       "      <th>Electricity(kBtu)</th>\n",
       "      <th>NaturalGas(therms)</th>\n",
       "      <th>NaturalGas(kBtu)</th>\n",
       "      <th>DefaultData</th>\n",
       "      <th>Comments</th>\n",
       "      <th>ComplianceStatus</th>\n",
       "      <th>Outlier</th>\n",
       "      <th>TotalGHGEmissions</th>\n",
       "      <th>GHGEmissionsIntensity</th>\n",
       "    </tr>\n",
       "  </thead>\n",
       "  <tbody>\n",
       "    <tr>\n",
       "      <th>0</th>\n",
       "      <td>1</td>\n",
       "      <td>2016</td>\n",
       "      <td>NonResidential</td>\n",
       "      <td>Hotel</td>\n",
       "      <td>Mayflower park hotel</td>\n",
       "      <td>405 Olive way</td>\n",
       "      <td>Seattle</td>\n",
       "      <td>WA</td>\n",
       "      <td>98101.0</td>\n",
       "      <td>0659000030</td>\n",
       "      <td>...</td>\n",
       "      <td>1.156514e+06</td>\n",
       "      <td>3.946027e+06</td>\n",
       "      <td>12764.529300</td>\n",
       "      <td>1.276453e+06</td>\n",
       "      <td>False</td>\n",
       "      <td>NaN</td>\n",
       "      <td>Compliant</td>\n",
       "      <td>NaN</td>\n",
       "      <td>249.98</td>\n",
       "      <td>2.83</td>\n",
       "    </tr>\n",
       "    <tr>\n",
       "      <th>1</th>\n",
       "      <td>2</td>\n",
       "      <td>2016</td>\n",
       "      <td>NonResidential</td>\n",
       "      <td>Hotel</td>\n",
       "      <td>Paramount Hotel</td>\n",
       "      <td>724 Pine street</td>\n",
       "      <td>Seattle</td>\n",
       "      <td>WA</td>\n",
       "      <td>98101.0</td>\n",
       "      <td>0659000220</td>\n",
       "      <td>...</td>\n",
       "      <td>9.504252e+05</td>\n",
       "      <td>3.242851e+06</td>\n",
       "      <td>51450.816410</td>\n",
       "      <td>5.145082e+06</td>\n",
       "      <td>False</td>\n",
       "      <td>NaN</td>\n",
       "      <td>Compliant</td>\n",
       "      <td>NaN</td>\n",
       "      <td>295.86</td>\n",
       "      <td>2.86</td>\n",
       "    </tr>\n",
       "    <tr>\n",
       "      <th>2</th>\n",
       "      <td>3</td>\n",
       "      <td>2016</td>\n",
       "      <td>NonResidential</td>\n",
       "      <td>Hotel</td>\n",
       "      <td>5673-The Westin Seattle</td>\n",
       "      <td>1900 5th Avenue</td>\n",
       "      <td>Seattle</td>\n",
       "      <td>WA</td>\n",
       "      <td>98101.0</td>\n",
       "      <td>0659000475</td>\n",
       "      <td>...</td>\n",
       "      <td>1.451544e+07</td>\n",
       "      <td>4.952666e+07</td>\n",
       "      <td>14938.000000</td>\n",
       "      <td>1.493800e+06</td>\n",
       "      <td>False</td>\n",
       "      <td>NaN</td>\n",
       "      <td>Compliant</td>\n",
       "      <td>NaN</td>\n",
       "      <td>2089.28</td>\n",
       "      <td>2.19</td>\n",
       "    </tr>\n",
       "    <tr>\n",
       "      <th>3</th>\n",
       "      <td>5</td>\n",
       "      <td>2016</td>\n",
       "      <td>NonResidential</td>\n",
       "      <td>Hotel</td>\n",
       "      <td>HOTEL MAX</td>\n",
       "      <td>620 STEWART ST</td>\n",
       "      <td>Seattle</td>\n",
       "      <td>WA</td>\n",
       "      <td>98101.0</td>\n",
       "      <td>0659000640</td>\n",
       "      <td>...</td>\n",
       "      <td>8.115253e+05</td>\n",
       "      <td>2.768924e+06</td>\n",
       "      <td>18112.130860</td>\n",
       "      <td>1.811213e+06</td>\n",
       "      <td>False</td>\n",
       "      <td>NaN</td>\n",
       "      <td>Compliant</td>\n",
       "      <td>NaN</td>\n",
       "      <td>286.43</td>\n",
       "      <td>4.67</td>\n",
       "    </tr>\n",
       "    <tr>\n",
       "      <th>4</th>\n",
       "      <td>8</td>\n",
       "      <td>2016</td>\n",
       "      <td>NonResidential</td>\n",
       "      <td>Hotel</td>\n",
       "      <td>WARWICK SEATTLE HOTEL (ID8)</td>\n",
       "      <td>401 LENORA ST</td>\n",
       "      <td>Seattle</td>\n",
       "      <td>WA</td>\n",
       "      <td>98121.0</td>\n",
       "      <td>0659000970</td>\n",
       "      <td>...</td>\n",
       "      <td>1.573449e+06</td>\n",
       "      <td>5.368607e+06</td>\n",
       "      <td>88039.984380</td>\n",
       "      <td>8.803998e+06</td>\n",
       "      <td>False</td>\n",
       "      <td>NaN</td>\n",
       "      <td>Compliant</td>\n",
       "      <td>NaN</td>\n",
       "      <td>505.01</td>\n",
       "      <td>2.88</td>\n",
       "    </tr>\n",
       "    <tr>\n",
       "      <th>...</th>\n",
       "      <td>...</td>\n",
       "      <td>...</td>\n",
       "      <td>...</td>\n",
       "      <td>...</td>\n",
       "      <td>...</td>\n",
       "      <td>...</td>\n",
       "      <td>...</td>\n",
       "      <td>...</td>\n",
       "      <td>...</td>\n",
       "      <td>...</td>\n",
       "      <td>...</td>\n",
       "      <td>...</td>\n",
       "      <td>...</td>\n",
       "      <td>...</td>\n",
       "      <td>...</td>\n",
       "      <td>...</td>\n",
       "      <td>...</td>\n",
       "      <td>...</td>\n",
       "      <td>...</td>\n",
       "      <td>...</td>\n",
       "      <td>...</td>\n",
       "    </tr>\n",
       "    <tr>\n",
       "      <th>3371</th>\n",
       "      <td>50222</td>\n",
       "      <td>2016</td>\n",
       "      <td>Nonresidential COS</td>\n",
       "      <td>Office</td>\n",
       "      <td>Horticulture building</td>\n",
       "      <td>1600 S Dakota St</td>\n",
       "      <td>Seattle</td>\n",
       "      <td>WA</td>\n",
       "      <td>NaN</td>\n",
       "      <td>1624049080</td>\n",
       "      <td>...</td>\n",
       "      <td>1.536550e+05</td>\n",
       "      <td>5.242709e+05</td>\n",
       "      <td>3254.750244</td>\n",
       "      <td>3.254750e+05</td>\n",
       "      <td>True</td>\n",
       "      <td>NaN</td>\n",
       "      <td>Error - Correct Default Data</td>\n",
       "      <td>NaN</td>\n",
       "      <td>20.94</td>\n",
       "      <td>1.70</td>\n",
       "    </tr>\n",
       "    <tr>\n",
       "      <th>3372</th>\n",
       "      <td>50223</td>\n",
       "      <td>2016</td>\n",
       "      <td>Nonresidential COS</td>\n",
       "      <td>Other</td>\n",
       "      <td>International district/Chinatown CC</td>\n",
       "      <td>719 8th Ave S</td>\n",
       "      <td>Seattle</td>\n",
       "      <td>WA</td>\n",
       "      <td>NaN</td>\n",
       "      <td>3558300000</td>\n",
       "      <td>...</td>\n",
       "      <td>1.162210e+05</td>\n",
       "      <td>3.965461e+05</td>\n",
       "      <td>5537.299805</td>\n",
       "      <td>5.537300e+05</td>\n",
       "      <td>False</td>\n",
       "      <td>NaN</td>\n",
       "      <td>Compliant</td>\n",
       "      <td>NaN</td>\n",
       "      <td>32.17</td>\n",
       "      <td>2.01</td>\n",
       "    </tr>\n",
       "    <tr>\n",
       "      <th>3373</th>\n",
       "      <td>50224</td>\n",
       "      <td>2016</td>\n",
       "      <td>Nonresidential COS</td>\n",
       "      <td>Other</td>\n",
       "      <td>Queen Anne Pool</td>\n",
       "      <td>1920 1st Ave W</td>\n",
       "      <td>Seattle</td>\n",
       "      <td>WA</td>\n",
       "      <td>NaN</td>\n",
       "      <td>1794501150</td>\n",
       "      <td>...</td>\n",
       "      <td>5.252517e+05</td>\n",
       "      <td>1.792159e+06</td>\n",
       "      <td>39737.390630</td>\n",
       "      <td>3.973739e+06</td>\n",
       "      <td>False</td>\n",
       "      <td>NaN</td>\n",
       "      <td>Compliant</td>\n",
       "      <td>NaN</td>\n",
       "      <td>223.54</td>\n",
       "      <td>16.99</td>\n",
       "    </tr>\n",
       "    <tr>\n",
       "      <th>3374</th>\n",
       "      <td>50225</td>\n",
       "      <td>2016</td>\n",
       "      <td>Nonresidential COS</td>\n",
       "      <td>Mixed Use Property</td>\n",
       "      <td>South Park Community Center</td>\n",
       "      <td>8319 8th Ave S</td>\n",
       "      <td>Seattle</td>\n",
       "      <td>WA</td>\n",
       "      <td>NaN</td>\n",
       "      <td>7883603155</td>\n",
       "      <td>...</td>\n",
       "      <td>1.022480e+05</td>\n",
       "      <td>3.488702e+05</td>\n",
       "      <td>3706.010010</td>\n",
       "      <td>3.706010e+05</td>\n",
       "      <td>False</td>\n",
       "      <td>NaN</td>\n",
       "      <td>Compliant</td>\n",
       "      <td>NaN</td>\n",
       "      <td>22.11</td>\n",
       "      <td>1.57</td>\n",
       "    </tr>\n",
       "    <tr>\n",
       "      <th>3375</th>\n",
       "      <td>50226</td>\n",
       "      <td>2016</td>\n",
       "      <td>Nonresidential COS</td>\n",
       "      <td>Mixed Use Property</td>\n",
       "      <td>Van Asselt Community Center</td>\n",
       "      <td>2820 S Myrtle St</td>\n",
       "      <td>Seattle</td>\n",
       "      <td>WA</td>\n",
       "      <td>NaN</td>\n",
       "      <td>7857002030</td>\n",
       "      <td>...</td>\n",
       "      <td>1.267744e+05</td>\n",
       "      <td>4.325542e+05</td>\n",
       "      <td>7203.419922</td>\n",
       "      <td>7.203420e+05</td>\n",
       "      <td>False</td>\n",
       "      <td>NaN</td>\n",
       "      <td>Compliant</td>\n",
       "      <td>NaN</td>\n",
       "      <td>41.27</td>\n",
       "      <td>2.26</td>\n",
       "    </tr>\n",
       "  </tbody>\n",
       "</table>\n",
       "<p>3376 rows × 46 columns</p>\n",
       "</div>"
      ],
      "text/plain": [
       "      OSEBuildingID  DataYear        BuildingType PrimaryPropertyType  \\\n",
       "0                 1      2016      NonResidential               Hotel   \n",
       "1                 2      2016      NonResidential               Hotel   \n",
       "2                 3      2016      NonResidential               Hotel   \n",
       "3                 5      2016      NonResidential               Hotel   \n",
       "4                 8      2016      NonResidential               Hotel   \n",
       "...             ...       ...                 ...                 ...   \n",
       "3371          50222      2016  Nonresidential COS              Office   \n",
       "3372          50223      2016  Nonresidential COS               Other   \n",
       "3373          50224      2016  Nonresidential COS               Other   \n",
       "3374          50225      2016  Nonresidential COS  Mixed Use Property   \n",
       "3375          50226      2016  Nonresidential COS  Mixed Use Property   \n",
       "\n",
       "                             PropertyName           Address     City State  \\\n",
       "0                    Mayflower park hotel     405 Olive way  Seattle    WA   \n",
       "1                         Paramount Hotel   724 Pine street  Seattle    WA   \n",
       "2                 5673-The Westin Seattle   1900 5th Avenue  Seattle    WA   \n",
       "3                               HOTEL MAX    620 STEWART ST  Seattle    WA   \n",
       "4             WARWICK SEATTLE HOTEL (ID8)     401 LENORA ST  Seattle    WA   \n",
       "...                                   ...               ...      ...   ...   \n",
       "3371                Horticulture building  1600 S Dakota St  Seattle    WA   \n",
       "3372  International district/Chinatown CC     719 8th Ave S  Seattle    WA   \n",
       "3373                      Queen Anne Pool    1920 1st Ave W  Seattle    WA   \n",
       "3374          South Park Community Center    8319 8th Ave S  Seattle    WA   \n",
       "3375          Van Asselt Community Center  2820 S Myrtle St  Seattle    WA   \n",
       "\n",
       "      ZipCode TaxParcelIdentificationNumber  ...  Electricity(kWh)  \\\n",
       "0     98101.0                    0659000030  ...      1.156514e+06   \n",
       "1     98101.0                    0659000220  ...      9.504252e+05   \n",
       "2     98101.0                    0659000475  ...      1.451544e+07   \n",
       "3     98101.0                    0659000640  ...      8.115253e+05   \n",
       "4     98121.0                    0659000970  ...      1.573449e+06   \n",
       "...       ...                           ...  ...               ...   \n",
       "3371      NaN                    1624049080  ...      1.536550e+05   \n",
       "3372      NaN                    3558300000  ...      1.162210e+05   \n",
       "3373      NaN                    1794501150  ...      5.252517e+05   \n",
       "3374      NaN                    7883603155  ...      1.022480e+05   \n",
       "3375      NaN                    7857002030  ...      1.267744e+05   \n",
       "\n",
       "     Electricity(kBtu)  NaturalGas(therms)  NaturalGas(kBtu)  DefaultData  \\\n",
       "0         3.946027e+06        12764.529300      1.276453e+06        False   \n",
       "1         3.242851e+06        51450.816410      5.145082e+06        False   \n",
       "2         4.952666e+07        14938.000000      1.493800e+06        False   \n",
       "3         2.768924e+06        18112.130860      1.811213e+06        False   \n",
       "4         5.368607e+06        88039.984380      8.803998e+06        False   \n",
       "...                ...                 ...               ...          ...   \n",
       "3371      5.242709e+05         3254.750244      3.254750e+05         True   \n",
       "3372      3.965461e+05         5537.299805      5.537300e+05        False   \n",
       "3373      1.792159e+06        39737.390630      3.973739e+06        False   \n",
       "3374      3.488702e+05         3706.010010      3.706010e+05        False   \n",
       "3375      4.325542e+05         7203.419922      7.203420e+05        False   \n",
       "\n",
       "      Comments              ComplianceStatus  Outlier  TotalGHGEmissions  \\\n",
       "0          NaN                     Compliant      NaN             249.98   \n",
       "1          NaN                     Compliant      NaN             295.86   \n",
       "2          NaN                     Compliant      NaN            2089.28   \n",
       "3          NaN                     Compliant      NaN             286.43   \n",
       "4          NaN                     Compliant      NaN             505.01   \n",
       "...        ...                           ...      ...                ...   \n",
       "3371       NaN  Error - Correct Default Data      NaN              20.94   \n",
       "3372       NaN                     Compliant      NaN              32.17   \n",
       "3373       NaN                     Compliant      NaN             223.54   \n",
       "3374       NaN                     Compliant      NaN              22.11   \n",
       "3375       NaN                     Compliant      NaN              41.27   \n",
       "\n",
       "      GHGEmissionsIntensity  \n",
       "0                      2.83  \n",
       "1                      2.86  \n",
       "2                      2.19  \n",
       "3                      4.67  \n",
       "4                      2.88  \n",
       "...                     ...  \n",
       "3371                   1.70  \n",
       "3372                   2.01  \n",
       "3373                  16.99  \n",
       "3374                   1.57  \n",
       "3375                   2.26  \n",
       "\n",
       "[3376 rows x 46 columns]"
      ]
     },
     "execution_count": 453,
     "metadata": {},
     "output_type": "execute_result"
    }
   ],
   "source": [
    "DF=pd.read_csv(r'C:\\Users\\lenovo\\Desktop\\OpenClassrooms\\PROJET_OC\\PROJET_4\\RESSOURCES\\2016_Building_Energy_Benchmarking.csv')\n",
    "DF"
   ]
  },
  {
   "cell_type": "code",
   "execution_count": 454,
   "metadata": {},
   "outputs": [
    {
     "name": "stderr",
     "output_type": "stream",
     "text": [
      "c:\\Users\\lenovo\\Desktop\\OpenClassrooms\\PROJET_OC\\PROJET_4\\environnement_virtuel_projet_4\\Lib\\site-packages\\numpy\\lib\\histograms.py:885: RuntimeWarning: invalid value encountered in divide\n",
      "  return n/db/n.sum(), bin_edges\n"
     ]
    },
    {
     "data": {
      "text/html": [
       "<pre style=\"white-space:pre;overflow-x:auto;line-height:normal;font-family:Menlo,'DejaVu Sans Mono',consolas,'Courier New',monospace\">╭──────────────────────────────────────────────── skimpy summary ─────────────────────────────────────────────────╮\n",
       "│ <span style=\"font-style: italic\">         Data Summary         </span> <span style=\"font-style: italic\">      Data Types       </span>                                                          │\n",
       "│ ┏━━━━━━━━━━━━━━━━━━━┳━━━━━━━━┓ ┏━━━━━━━━━━━━━┳━━━━━━━┓                                                          │\n",
       "│ ┃<span style=\"color: #008080; text-decoration-color: #008080; font-weight: bold\"> dataframe         </span>┃<span style=\"color: #008080; text-decoration-color: #008080; font-weight: bold\"> Values </span>┃ ┃<span style=\"color: #008080; text-decoration-color: #008080; font-weight: bold\"> Column Type </span>┃<span style=\"color: #008080; text-decoration-color: #008080; font-weight: bold\"> Count </span>┃                                                          │\n",
       "│ ┡━━━━━━━━━━━━━━━━━━━╇━━━━━━━━┩ ┡━━━━━━━━━━━━━╇━━━━━━━┩                                                          │\n",
       "│ │ Number of rows    │ 3376   │ │ float64     │ 22    │                                                          │\n",
       "│ │ Number of columns │ 46     │ │ string      │ 15    │                                                          │\n",
       "│ └───────────────────┴────────┘ │ int32       │ 8     │                                                          │\n",
       "│                                │ bool        │ 1     │                                                          │\n",
       "│                                └─────────────┴───────┘                                                          │\n",
       "│ <span style=\"font-style: italic\">                                                    number                                                    </span>  │\n",
       "│ ┏━━━━━━━━━━━━┳━━━━━━┳━━━━━━━┳━━━━━━━━━┳━━━━━━━━━━┳━━━━━━━━━┳━━━━━━━━┳━━━━━━━━━┳━━━━━━━━━┳━━━━━━━━━━━┳━━━━━━━━┓  │\n",
       "│ ┃<span style=\"font-weight: bold\"> column_nam </span>┃<span style=\"font-weight: bold\">      </span>┃<span style=\"font-weight: bold\">       </span>┃<span style=\"font-weight: bold\">         </span>┃<span style=\"font-weight: bold\">          </span>┃<span style=\"font-weight: bold\">         </span>┃<span style=\"font-weight: bold\">        </span>┃<span style=\"font-weight: bold\">         </span>┃<span style=\"font-weight: bold\">         </span>┃<span style=\"font-weight: bold\">           </span>┃<span style=\"font-weight: bold\">        </span>┃  │\n",
       "│ ┃<span style=\"font-weight: bold\"> e          </span>┃<span style=\"font-weight: bold\"> NA   </span>┃<span style=\"font-weight: bold\"> NA %  </span>┃<span style=\"font-weight: bold\"> mean    </span>┃<span style=\"font-weight: bold\"> sd       </span>┃<span style=\"font-weight: bold\"> p0      </span>┃<span style=\"font-weight: bold\"> p25    </span>┃<span style=\"font-weight: bold\"> p50     </span>┃<span style=\"font-weight: bold\"> p75     </span>┃<span style=\"font-weight: bold\"> p100      </span>┃<span style=\"font-weight: bold\"> hist   </span>┃  │\n",
       "│ ┡━━━━━━━━━━━━╇━━━━━━╇━━━━━━━╇━━━━━━━━━╇━━━━━━━━━━╇━━━━━━━━━╇━━━━━━━━╇━━━━━━━━━╇━━━━━━━━━╇━━━━━━━━━━━╇━━━━━━━━┩  │\n",
       "│ │ <span style=\"color: #af87ff; text-decoration-color: #af87ff\">OSEBuildin</span> │ <span style=\"color: #008080; text-decoration-color: #008080\">   0</span> │ <span style=\"color: #008080; text-decoration-color: #008080\">    0</span> │ <span style=\"color: #008080; text-decoration-color: #008080\">  21210</span> │ <span style=\"color: #008080; text-decoration-color: #008080\">   12220</span> │ <span style=\"color: #008080; text-decoration-color: #008080\">      1</span> │ <span style=\"color: #008080; text-decoration-color: #008080\"> 19990</span> │ <span style=\"color: #008080; text-decoration-color: #008080\">  23110</span> │ <span style=\"color: #008080; text-decoration-color: #008080\">  25990</span> │ <span style=\"color: #008080; text-decoration-color: #008080\">    50230</span> │ <span style=\"color: #008000; text-decoration-color: #008000\">▃ ▇▅ ▁</span> │  │\n",
       "│ │ <span style=\"color: #af87ff; text-decoration-color: #af87ff\">gID       </span> │      │       │         │          │         │        │         │         │           │        │  │\n",
       "│ │ <span style=\"color: #af87ff; text-decoration-color: #af87ff\">DataYear  </span> │ <span style=\"color: #008080; text-decoration-color: #008080\">   0</span> │ <span style=\"color: #008080; text-decoration-color: #008080\">    0</span> │ <span style=\"color: #008080; text-decoration-color: #008080\">   2016</span> │ <span style=\"color: #008080; text-decoration-color: #008080\">       0</span> │ <span style=\"color: #008080; text-decoration-color: #008080\">   2016</span> │ <span style=\"color: #008080; text-decoration-color: #008080\">  2016</span> │ <span style=\"color: #008080; text-decoration-color: #008080\">   2016</span> │ <span style=\"color: #008080; text-decoration-color: #008080\">   2016</span> │ <span style=\"color: #008080; text-decoration-color: #008080\">     2016</span> │ <span style=\"color: #008000; text-decoration-color: #008000\">    ▇ </span> │  │\n",
       "│ │ <span style=\"color: #af87ff; text-decoration-color: #af87ff\">ZipCode   </span> │ <span style=\"color: #008080; text-decoration-color: #008080\">  16</span> │ <span style=\"color: #008080; text-decoration-color: #008080\"> 0.47</span> │ <span style=\"color: #008080; text-decoration-color: #008080\">  98120</span> │ <span style=\"color: #008080; text-decoration-color: #008080\">   18.62</span> │ <span style=\"color: #008080; text-decoration-color: #008080\">  98010</span> │ <span style=\"color: #008080; text-decoration-color: #008080\"> 98100</span> │ <span style=\"color: #008080; text-decoration-color: #008080\">  98120</span> │ <span style=\"color: #008080; text-decoration-color: #008080\">  98120</span> │ <span style=\"color: #008080; text-decoration-color: #008080\">    98270</span> │ <span style=\"color: #008000; text-decoration-color: #008000\">   ▇  </span> │  │\n",
       "│ │ <span style=\"color: #af87ff; text-decoration-color: #af87ff\">CouncilDis</span> │ <span style=\"color: #008080; text-decoration-color: #008080\">   0</span> │ <span style=\"color: #008080; text-decoration-color: #008080\">    0</span> │ <span style=\"color: #008080; text-decoration-color: #008080\">  4.439</span> │ <span style=\"color: #008080; text-decoration-color: #008080\">   2.121</span> │ <span style=\"color: #008080; text-decoration-color: #008080\">      1</span> │ <span style=\"color: #008080; text-decoration-color: #008080\">     3</span> │ <span style=\"color: #008080; text-decoration-color: #008080\">      4</span> │ <span style=\"color: #008080; text-decoration-color: #008080\">      7</span> │ <span style=\"color: #008080; text-decoration-color: #008080\">        7</span> │ <span style=\"color: #008000; text-decoration-color: #008000\">▂▃▃▂▂▇</span> │  │\n",
       "│ │ <span style=\"color: #af87ff; text-decoration-color: #af87ff\">trictCode </span> │      │       │         │          │         │        │         │         │           │        │  │\n",
       "│ │ <span style=\"color: #af87ff; text-decoration-color: #af87ff\">Latitude  </span> │ <span style=\"color: #008080; text-decoration-color: #008080\">   0</span> │ <span style=\"color: #008080; text-decoration-color: #008080\">    0</span> │ <span style=\"color: #008080; text-decoration-color: #008080\">  47.62</span> │ <span style=\"color: #008080; text-decoration-color: #008080\"> 0.04776</span> │ <span style=\"color: #008080; text-decoration-color: #008080\">   47.5</span> │ <span style=\"color: #008080; text-decoration-color: #008080\">  47.6</span> │ <span style=\"color: #008080; text-decoration-color: #008080\">  47.62</span> │ <span style=\"color: #008080; text-decoration-color: #008080\">  47.66</span> │ <span style=\"color: #008080; text-decoration-color: #008080\">    47.73</span> │ <span style=\"color: #008000; text-decoration-color: #008000\">▁▃▇▇▅▃</span> │  │\n",
       "│ │ <span style=\"color: #af87ff; text-decoration-color: #af87ff\">Longitude </span> │ <span style=\"color: #008080; text-decoration-color: #008080\">   0</span> │ <span style=\"color: #008080; text-decoration-color: #008080\">    0</span> │ <span style=\"color: #008080; text-decoration-color: #008080\"> -122.3</span> │ <span style=\"color: #008080; text-decoration-color: #008080\">  0.0272</span> │ <span style=\"color: #008080; text-decoration-color: #008080\"> -122.4</span> │ <span style=\"color: #008080; text-decoration-color: #008080\">-122.4</span> │ <span style=\"color: #008080; text-decoration-color: #008080\"> -122.3</span> │ <span style=\"color: #008080; text-decoration-color: #008080\"> -122.3</span> │ <span style=\"color: #008080; text-decoration-color: #008080\">   -122.2</span> │ <span style=\"color: #008000; text-decoration-color: #008000\">▁▃▇▃▁ </span> │  │\n",
       "│ │ <span style=\"color: #af87ff; text-decoration-color: #af87ff\">YearBuilt </span> │ <span style=\"color: #008080; text-decoration-color: #008080\">   0</span> │ <span style=\"color: #008080; text-decoration-color: #008080\">    0</span> │ <span style=\"color: #008080; text-decoration-color: #008080\">   1969</span> │ <span style=\"color: #008080; text-decoration-color: #008080\">   33.09</span> │ <span style=\"color: #008080; text-decoration-color: #008080\">   1900</span> │ <span style=\"color: #008080; text-decoration-color: #008080\">  1948</span> │ <span style=\"color: #008080; text-decoration-color: #008080\">   1975</span> │ <span style=\"color: #008080; text-decoration-color: #008080\">   1997</span> │ <span style=\"color: #008080; text-decoration-color: #008080\">     2015</span> │ <span style=\"color: #008000; text-decoration-color: #008000\">▃▃▂▆▇▇</span> │  │\n",
       "│ │ <span style=\"color: #af87ff; text-decoration-color: #af87ff\">NumberofBu</span> │ <span style=\"color: #008080; text-decoration-color: #008080\">   8</span> │ <span style=\"color: #008080; text-decoration-color: #008080\"> 0.24</span> │ <span style=\"color: #008080; text-decoration-color: #008080\">  1.107</span> │ <span style=\"color: #008080; text-decoration-color: #008080\">   2.108</span> │ <span style=\"color: #008080; text-decoration-color: #008080\">      0</span> │ <span style=\"color: #008080; text-decoration-color: #008080\">     1</span> │ <span style=\"color: #008080; text-decoration-color: #008080\">      1</span> │ <span style=\"color: #008080; text-decoration-color: #008080\">      1</span> │ <span style=\"color: #008080; text-decoration-color: #008080\">      111</span> │ <span style=\"color: #008000; text-decoration-color: #008000\">  ▇   </span> │  │\n",
       "│ │ <span style=\"color: #af87ff; text-decoration-color: #af87ff\">ildings   </span> │      │       │         │          │         │        │         │         │           │        │  │\n",
       "│ │ <span style=\"color: #af87ff; text-decoration-color: #af87ff\">NumberofFl</span> │ <span style=\"color: #008080; text-decoration-color: #008080\">   0</span> │ <span style=\"color: #008080; text-decoration-color: #008080\">    0</span> │ <span style=\"color: #008080; text-decoration-color: #008080\">  4.709</span> │ <span style=\"color: #008080; text-decoration-color: #008080\">   5.494</span> │ <span style=\"color: #008080; text-decoration-color: #008080\">      0</span> │ <span style=\"color: #008080; text-decoration-color: #008080\">     2</span> │ <span style=\"color: #008080; text-decoration-color: #008080\">      4</span> │ <span style=\"color: #008080; text-decoration-color: #008080\">      5</span> │ <span style=\"color: #008080; text-decoration-color: #008080\">       99</span> │ <span style=\"color: #008000; text-decoration-color: #008000\">  ▇   </span> │  │\n",
       "│ │ <span style=\"color: #af87ff; text-decoration-color: #af87ff\">oors      </span> │      │       │         │          │         │        │         │         │           │        │  │\n",
       "│ │ <span style=\"color: #af87ff; text-decoration-color: #af87ff\">PropertyGF</span> │ <span style=\"color: #008080; text-decoration-color: #008080\">   0</span> │ <span style=\"color: #008080; text-decoration-color: #008080\">    0</span> │ <span style=\"color: #008080; text-decoration-color: #008080\">  94830</span> │ <span style=\"color: #008080; text-decoration-color: #008080\">  218800</span> │ <span style=\"color: #008080; text-decoration-color: #008080\">  11280</span> │ <span style=\"color: #008080; text-decoration-color: #008080\"> 28490</span> │ <span style=\"color: #008080; text-decoration-color: #008080\">  44180</span> │ <span style=\"color: #008080; text-decoration-color: #008080\">  90990</span> │ <span style=\"color: #008080; text-decoration-color: #008080\">  9320000</span> │ <span style=\"color: #008000; text-decoration-color: #008000\">  ▇   </span> │  │\n",
       "│ │ <span style=\"color: #af87ff; text-decoration-color: #af87ff\">ATotal    </span> │      │       │         │          │         │        │         │         │           │        │  │\n",
       "│ │ <span style=\"color: #af87ff; text-decoration-color: #af87ff\">PropertyGF</span> │ <span style=\"color: #008080; text-decoration-color: #008080\">   0</span> │ <span style=\"color: #008080; text-decoration-color: #008080\">    0</span> │ <span style=\"color: #008080; text-decoration-color: #008080\">   8002</span> │ <span style=\"color: #008080; text-decoration-color: #008080\">   32330</span> │ <span style=\"color: #008080; text-decoration-color: #008080\">      0</span> │ <span style=\"color: #008080; text-decoration-color: #008080\">     0</span> │ <span style=\"color: #008080; text-decoration-color: #008080\">      0</span> │ <span style=\"color: #008080; text-decoration-color: #008080\">      0</span> │ <span style=\"color: #008080; text-decoration-color: #008080\">   512600</span> │ <span style=\"color: #008000; text-decoration-color: #008000\">  ▇   </span> │  │\n",
       "│ │ <span style=\"color: #af87ff; text-decoration-color: #af87ff\">AParking  </span> │      │       │         │          │         │        │         │         │           │        │  │\n",
       "│ │ <span style=\"color: #af87ff; text-decoration-color: #af87ff\">PropertyGF</span> │ <span style=\"color: #008080; text-decoration-color: #008080\">   0</span> │ <span style=\"color: #008080; text-decoration-color: #008080\">    0</span> │ <span style=\"color: #008080; text-decoration-color: #008080\">  86830</span> │ <span style=\"color: #008080; text-decoration-color: #008080\">  207900</span> │ <span style=\"color: #008080; text-decoration-color: #008080\">   3636</span> │ <span style=\"color: #008080; text-decoration-color: #008080\"> 27760</span> │ <span style=\"color: #008080; text-decoration-color: #008080\">  43220</span> │ <span style=\"color: #008080; text-decoration-color: #008080\">  84280</span> │ <span style=\"color: #008080; text-decoration-color: #008080\">  9320000</span> │ <span style=\"color: #008000; text-decoration-color: #008000\">  ▇   </span> │  │\n",
       "│ │ <span style=\"color: #af87ff; text-decoration-color: #af87ff\">ABuilding(</span> │      │       │         │          │         │        │         │         │           │        │  │\n",
       "│ │ <span style=\"color: #af87ff; text-decoration-color: #af87ff\">s)        </span> │      │       │         │          │         │        │         │         │           │        │  │\n",
       "│ │ <span style=\"color: #af87ff; text-decoration-color: #af87ff\">LargestPro</span> │ <span style=\"color: #008080; text-decoration-color: #008080\">  20</span> │ <span style=\"color: #008080; text-decoration-color: #008080\"> 0.59</span> │ <span style=\"color: #008080; text-decoration-color: #008080\">  79180</span> │ <span style=\"color: #008080; text-decoration-color: #008080\">  201700</span> │ <span style=\"color: #008080; text-decoration-color: #008080\">   5656</span> │ <span style=\"color: #008080; text-decoration-color: #008080\"> 25090</span> │ <span style=\"color: #008080; text-decoration-color: #008080\">  39890</span> │ <span style=\"color: #008080; text-decoration-color: #008080\">  76200</span> │ <span style=\"color: #008080; text-decoration-color: #008080\">  9320000</span> │ <span style=\"color: #008000; text-decoration-color: #008000\">  ▇   </span> │  │\n",
       "│ │ <span style=\"color: #af87ff; text-decoration-color: #af87ff\">pertyUseTy</span> │      │       │         │          │         │        │         │         │           │        │  │\n",
       "│ │ <span style=\"color: #af87ff; text-decoration-color: #af87ff\">peGFA     </span> │      │       │         │          │         │        │         │         │           │        │  │\n",
       "│ │ <span style=\"color: #af87ff; text-decoration-color: #af87ff\">SecondLarg</span> │ <span style=\"color: #008080; text-decoration-color: #008080\">1697</span> │ <span style=\"color: #008080; text-decoration-color: #008080\">50.27</span> │ <span style=\"color: #008080; text-decoration-color: #008080\">  28440</span> │ <span style=\"color: #008080; text-decoration-color: #008080\">   54390</span> │ <span style=\"color: #008080; text-decoration-color: #008080\">      0</span> │ <span style=\"color: #008080; text-decoration-color: #008080\">  5000</span> │ <span style=\"color: #008080; text-decoration-color: #008080\">  10660</span> │ <span style=\"color: #008080; text-decoration-color: #008080\">  26640</span> │ <span style=\"color: #008080; text-decoration-color: #008080\">   686800</span> │ <span style=\"color: #008000; text-decoration-color: #008000\">  ▇   </span> │  │\n",
       "│ │ <span style=\"color: #af87ff; text-decoration-color: #af87ff\">estPropert</span> │      │       │         │          │         │        │         │         │           │        │  │\n",
       "│ │ <span style=\"color: #af87ff; text-decoration-color: #af87ff\">yUseTypeGF</span> │      │       │         │          │         │        │         │         │           │        │  │\n",
       "│ │ <span style=\"color: #af87ff; text-decoration-color: #af87ff\">A         </span> │      │       │         │          │         │        │         │         │           │        │  │\n",
       "│ │ <span style=\"color: #af87ff; text-decoration-color: #af87ff\">ThirdLarge</span> │ <span style=\"color: #008080; text-decoration-color: #008080\">2780</span> │ <span style=\"color: #008080; text-decoration-color: #008080\">82.35</span> │ <span style=\"color: #008080; text-decoration-color: #008080\">  11740</span> │ <span style=\"color: #008080; text-decoration-color: #008080\">   29330</span> │ <span style=\"color: #008080; text-decoration-color: #008080\">      0</span> │ <span style=\"color: #008080; text-decoration-color: #008080\">  2239</span> │ <span style=\"color: #008080; text-decoration-color: #008080\">   5043</span> │ <span style=\"color: #008080; text-decoration-color: #008080\">  10140</span> │ <span style=\"color: #008080; text-decoration-color: #008080\">   459700</span> │ <span style=\"color: #008000; text-decoration-color: #008000\">  ▇   </span> │  │\n",
       "│ │ <span style=\"color: #af87ff; text-decoration-color: #af87ff\">stProperty</span> │      │       │         │          │         │        │         │         │           │        │  │\n",
       "│ │ <span style=\"color: #af87ff; text-decoration-color: #af87ff\">UseTypeGFA</span> │      │       │         │          │         │        │         │         │           │        │  │\n",
       "│ │ <span style=\"color: #af87ff; text-decoration-color: #af87ff\">ENERGYSTAR</span> │ <span style=\"color: #008080; text-decoration-color: #008080\"> 843</span> │ <span style=\"color: #008080; text-decoration-color: #008080\">24.97</span> │ <span style=\"color: #008080; text-decoration-color: #008080\">  67.92</span> │ <span style=\"color: #008080; text-decoration-color: #008080\">   26.87</span> │ <span style=\"color: #008080; text-decoration-color: #008080\">      1</span> │ <span style=\"color: #008080; text-decoration-color: #008080\">    53</span> │ <span style=\"color: #008080; text-decoration-color: #008080\">     75</span> │ <span style=\"color: #008080; text-decoration-color: #008080\">     90</span> │ <span style=\"color: #008080; text-decoration-color: #008080\">      100</span> │ <span style=\"color: #008000; text-decoration-color: #008000\">▂▁▂▃▅▇</span> │  │\n",
       "│ │ <span style=\"color: #af87ff; text-decoration-color: #af87ff\">Score     </span> │      │       │         │          │         │        │         │         │           │        │  │\n",
       "│ │ <span style=\"color: #af87ff; text-decoration-color: #af87ff\">SiteEUI(kB</span> │ <span style=\"color: #008080; text-decoration-color: #008080\">   7</span> │ <span style=\"color: #008080; text-decoration-color: #008080\"> 0.21</span> │ <span style=\"color: #008080; text-decoration-color: #008080\">  54.73</span> │ <span style=\"color: #008080; text-decoration-color: #008080\">   56.27</span> │ <span style=\"color: #008080; text-decoration-color: #008080\">      0</span> │ <span style=\"color: #008080; text-decoration-color: #008080\">  27.9</span> │ <span style=\"color: #008080; text-decoration-color: #008080\">   38.6</span> │ <span style=\"color: #008080; text-decoration-color: #008080\">   60.4</span> │ <span style=\"color: #008080; text-decoration-color: #008080\">    834.4</span> │ <span style=\"color: #008000; text-decoration-color: #008000\">  ▇   </span> │  │\n",
       "│ │ <span style=\"color: #af87ff; text-decoration-color: #af87ff\">tu/sf)    </span> │      │       │         │          │         │        │         │         │           │        │  │\n",
       "│ │ <span style=\"color: #af87ff; text-decoration-color: #af87ff\">SiteEUIWN(</span> │ <span style=\"color: #008080; text-decoration-color: #008080\">   6</span> │ <span style=\"color: #008080; text-decoration-color: #008080\"> 0.18</span> │ <span style=\"color: #008080; text-decoration-color: #008080\">  57.03</span> │ <span style=\"color: #008080; text-decoration-color: #008080\">   57.16</span> │ <span style=\"color: #008080; text-decoration-color: #008080\">      0</span> │ <span style=\"color: #008080; text-decoration-color: #008080\">  29.4</span> │ <span style=\"color: #008080; text-decoration-color: #008080\">   40.9</span> │ <span style=\"color: #008080; text-decoration-color: #008080\">  64.28</span> │ <span style=\"color: #008080; text-decoration-color: #008080\">    834.4</span> │ <span style=\"color: #008000; text-decoration-color: #008000\">  ▇   </span> │  │\n",
       "│ │ <span style=\"color: #af87ff; text-decoration-color: #af87ff\">kBtu/sf)  </span> │      │       │         │          │         │        │         │         │           │        │  │\n",
       "│ │ <span style=\"color: #af87ff; text-decoration-color: #af87ff\">SourceEUI(</span> │ <span style=\"color: #008080; text-decoration-color: #008080\">   9</span> │ <span style=\"color: #008080; text-decoration-color: #008080\"> 0.27</span> │ <span style=\"color: #008080; text-decoration-color: #008080\">  134.2</span> │ <span style=\"color: #008080; text-decoration-color: #008080\">   139.3</span> │ <span style=\"color: #008080; text-decoration-color: #008080\">      0</span> │ <span style=\"color: #008080; text-decoration-color: #008080\">  74.7</span> │ <span style=\"color: #008080; text-decoration-color: #008080\">   96.2</span> │ <span style=\"color: #008080; text-decoration-color: #008080\">  143.9</span> │ <span style=\"color: #008080; text-decoration-color: #008080\">     2620</span> │ <span style=\"color: #008000; text-decoration-color: #008000\">  ▇   </span> │  │\n",
       "│ │ <span style=\"color: #af87ff; text-decoration-color: #af87ff\">kBtu/sf)  </span> │      │       │         │          │         │        │         │         │           │        │  │\n",
       "│ │ <span style=\"color: #af87ff; text-decoration-color: #af87ff\">SourceEUIW</span> │ <span style=\"color: #008080; text-decoration-color: #008080\">   9</span> │ <span style=\"color: #008080; text-decoration-color: #008080\"> 0.27</span> │ <span style=\"color: #008080; text-decoration-color: #008080\">  137.8</span> │ <span style=\"color: #008080; text-decoration-color: #008080\">   139.1</span> │ <span style=\"color: #008080; text-decoration-color: #008080\">   -2.1</span> │ <span style=\"color: #008080; text-decoration-color: #008080\">  78.4</span> │ <span style=\"color: #008080; text-decoration-color: #008080\">  101.1</span> │ <span style=\"color: #008080; text-decoration-color: #008080\">  148.3</span> │ <span style=\"color: #008080; text-decoration-color: #008080\">     2620</span> │ <span style=\"color: #008000; text-decoration-color: #008000\">  ▇   </span> │  │\n",
       "│ │ <span style=\"color: #af87ff; text-decoration-color: #af87ff\">N(kBtu/sf)</span> │      │       │         │          │         │        │         │         │           │        │  │\n",
       "│ │ <span style=\"color: #af87ff; text-decoration-color: #af87ff\">SiteEnergy</span> │ <span style=\"color: #008080; text-decoration-color: #008080\">   5</span> │ <span style=\"color: #008080; text-decoration-color: #008080\"> 0.15</span> │ <span style=\"color: #008080; text-decoration-color: #008080\">5404000</span> │ <span style=\"color: #008080; text-decoration-color: #008080\">21610000</span> │ <span style=\"color: #008080; text-decoration-color: #008080\">      0</span> │ <span style=\"color: #008080; text-decoration-color: #008080\">925100</span> │ <span style=\"color: #008080; text-decoration-color: #008080\">1804000</span> │ <span style=\"color: #008080; text-decoration-color: #008080\">4222000</span> │ <span style=\"color: #008080; text-decoration-color: #008080\">873900000</span> │ <span style=\"color: #008000; text-decoration-color: #008000\">  ▇   </span> │  │\n",
       "│ │ <span style=\"color: #af87ff; text-decoration-color: #af87ff\">Use(kBtu) </span> │      │       │         │          │         │        │         │         │           │        │  │\n",
       "│ │ <span style=\"color: #af87ff; text-decoration-color: #af87ff\">SiteEnergy</span> │ <span style=\"color: #008080; text-decoration-color: #008080\">   6</span> │ <span style=\"color: #008080; text-decoration-color: #008080\"> 0.18</span> │ <span style=\"color: #008080; text-decoration-color: #008080\">5277000</span> │ <span style=\"color: #008080; text-decoration-color: #008080\">15940000</span> │ <span style=\"color: #008080; text-decoration-color: #008080\">      0</span> │ <span style=\"color: #008080; text-decoration-color: #008080\">970200</span> │ <span style=\"color: #008080; text-decoration-color: #008080\">1904000</span> │ <span style=\"color: #008080; text-decoration-color: #008080\">4381000</span> │ <span style=\"color: #008080; text-decoration-color: #008080\">471600000</span> │ <span style=\"color: #008000; text-decoration-color: #008000\">  ▇   </span> │  │\n",
       "│ │ <span style=\"color: #af87ff; text-decoration-color: #af87ff\">UseWN(kBtu</span> │      │       │         │          │         │        │         │         │           │        │  │\n",
       "│ │ <span style=\"color: #af87ff; text-decoration-color: #af87ff\">)         </span> │      │       │         │          │         │        │         │         │           │        │  │\n",
       "│ │ <span style=\"color: #af87ff; text-decoration-color: #af87ff\">SteamUse(k</span> │ <span style=\"color: #008080; text-decoration-color: #008080\">   9</span> │ <span style=\"color: #008080; text-decoration-color: #008080\"> 0.27</span> │ <span style=\"color: #008080; text-decoration-color: #008080\"> 274600</span> │ <span style=\"color: #008080; text-decoration-color: #008080\"> 3912000</span> │ <span style=\"color: #008080; text-decoration-color: #008080\">      0</span> │ <span style=\"color: #008080; text-decoration-color: #008080\">     0</span> │ <span style=\"color: #008080; text-decoration-color: #008080\">      0</span> │ <span style=\"color: #008080; text-decoration-color: #008080\">      0</span> │ <span style=\"color: #008080; text-decoration-color: #008080\">134900000</span> │ <span style=\"color: #008000; text-decoration-color: #008000\">  ▇   </span> │  │\n",
       "│ │ <span style=\"color: #af87ff; text-decoration-color: #af87ff\">Btu)      </span> │      │       │         │          │         │        │         │         │           │        │  │\n",
       "│ │ <span style=\"color: #af87ff; text-decoration-color: #af87ff\">Electricit</span> │ <span style=\"color: #008080; text-decoration-color: #008080\">   9</span> │ <span style=\"color: #008080; text-decoration-color: #008080\"> 0.27</span> │ <span style=\"color: #008080; text-decoration-color: #008080\">1087000</span> │ <span style=\"color: #008080; text-decoration-color: #008080\"> 4352000</span> │ <span style=\"color: #008080; text-decoration-color: #008080\"> -33830</span> │ <span style=\"color: #008080; text-decoration-color: #008080\">187400</span> │ <span style=\"color: #008080; text-decoration-color: #008080\"> 345100</span> │ <span style=\"color: #008080; text-decoration-color: #008080\"> 829300</span> │ <span style=\"color: #008080; text-decoration-color: #008080\">192600000</span> │ <span style=\"color: #008000; text-decoration-color: #008000\">  ▇   </span> │  │\n",
       "│ │ <span style=\"color: #af87ff; text-decoration-color: #af87ff\">y(kWh)    </span> │      │       │         │          │         │        │         │         │           │        │  │\n",
       "│ │ <span style=\"color: #af87ff; text-decoration-color: #af87ff\">Electricit</span> │ <span style=\"color: #008080; text-decoration-color: #008080\">   9</span> │ <span style=\"color: #008080; text-decoration-color: #008080\"> 0.27</span> │ <span style=\"color: #008080; text-decoration-color: #008080\">3708000</span> │ <span style=\"color: #008080; text-decoration-color: #008080\">14850000</span> │ <span style=\"color: #008080; text-decoration-color: #008080\">-115400</span> │ <span style=\"color: #008080; text-decoration-color: #008080\">639500</span> │ <span style=\"color: #008080; text-decoration-color: #008080\">1178000</span> │ <span style=\"color: #008080; text-decoration-color: #008080\">2830000</span> │ <span style=\"color: #008080; text-decoration-color: #008080\">657100000</span> │ <span style=\"color: #008000; text-decoration-color: #008000\">  ▇   </span> │  │\n",
       "│ │ <span style=\"color: #af87ff; text-decoration-color: #af87ff\">y(kBtu)   </span> │      │       │         │          │         │        │         │         │           │        │  │\n",
       "│ │ <span style=\"color: #af87ff; text-decoration-color: #af87ff\">NaturalGas</span> │ <span style=\"color: #008080; text-decoration-color: #008080\">   9</span> │ <span style=\"color: #008080; text-decoration-color: #008080\"> 0.27</span> │ <span style=\"color: #008080; text-decoration-color: #008080\">  13690</span> │ <span style=\"color: #008080; text-decoration-color: #008080\">   67100</span> │ <span style=\"color: #008080; text-decoration-color: #008080\">      0</span> │ <span style=\"color: #008080; text-decoration-color: #008080\">     0</span> │ <span style=\"color: #008080; text-decoration-color: #008080\">   3238</span> │ <span style=\"color: #008080; text-decoration-color: #008080\">  11890</span> │ <span style=\"color: #008080; text-decoration-color: #008080\">  2979000</span> │ <span style=\"color: #008000; text-decoration-color: #008000\">  ▇   </span> │  │\n",
       "│ │ <span style=\"color: #af87ff; text-decoration-color: #af87ff\">(therms)  </span> │      │       │         │          │         │        │         │         │           │        │  │\n",
       "│ │ <span style=\"color: #af87ff; text-decoration-color: #af87ff\">NaturalGas</span> │ <span style=\"color: #008080; text-decoration-color: #008080\">   9</span> │ <span style=\"color: #008080; text-decoration-color: #008080\"> 0.27</span> │ <span style=\"color: #008080; text-decoration-color: #008080\">1369000</span> │ <span style=\"color: #008080; text-decoration-color: #008080\"> 6710000</span> │ <span style=\"color: #008080; text-decoration-color: #008080\">      0</span> │ <span style=\"color: #008080; text-decoration-color: #008080\">     0</span> │ <span style=\"color: #008080; text-decoration-color: #008080\"> 323800</span> │ <span style=\"color: #008080; text-decoration-color: #008080\">1189000</span> │ <span style=\"color: #008080; text-decoration-color: #008080\">297900000</span> │ <span style=\"color: #008000; text-decoration-color: #008000\">  ▇   </span> │  │\n",
       "│ │ <span style=\"color: #af87ff; text-decoration-color: #af87ff\">(kBtu)    </span> │      │       │         │          │         │        │         │         │           │        │  │\n",
       "│ │ <span style=\"color: #af87ff; text-decoration-color: #af87ff\">Comments  </span> │ <span style=\"color: #008080; text-decoration-color: #008080\">3376</span> │ <span style=\"color: #008080; text-decoration-color: #008080\">  100</span> │ <span style=\"color: #008080; text-decoration-color: #008080\">    nan</span> │ <span style=\"color: #008080; text-decoration-color: #008080\">     nan</span> │ <span style=\"color: #008080; text-decoration-color: #008080\">    nan</span> │ <span style=\"color: #008080; text-decoration-color: #008080\">   nan</span> │ <span style=\"color: #008080; text-decoration-color: #008080\">    nan</span> │ <span style=\"color: #008080; text-decoration-color: #008080\">    nan</span> │ <span style=\"color: #008080; text-decoration-color: #008080\">      nan</span> │ <span style=\"color: #008000; text-decoration-color: #008000\">      </span> │  │\n",
       "│ │ <span style=\"color: #af87ff; text-decoration-color: #af87ff\">TotalGHGEm</span> │ <span style=\"color: #008080; text-decoration-color: #008080\">   9</span> │ <span style=\"color: #008080; text-decoration-color: #008080\"> 0.27</span> │ <span style=\"color: #008080; text-decoration-color: #008080\">  119.7</span> │ <span style=\"color: #008080; text-decoration-color: #008080\">   538.8</span> │ <span style=\"color: #008080; text-decoration-color: #008080\">   -0.8</span> │ <span style=\"color: #008080; text-decoration-color: #008080\"> 9.495</span> │ <span style=\"color: #008080; text-decoration-color: #008080\">  33.92</span> │ <span style=\"color: #008080; text-decoration-color: #008080\">  93.94</span> │ <span style=\"color: #008080; text-decoration-color: #008080\">    16870</span> │ <span style=\"color: #008000; text-decoration-color: #008000\">  ▇   </span> │  │\n",
       "│ │ <span style=\"color: #af87ff; text-decoration-color: #af87ff\">issions   </span> │      │       │         │          │         │        │         │         │           │        │  │\n",
       "│ │ <span style=\"color: #af87ff; text-decoration-color: #af87ff\">GHGEmissio</span> │ <span style=\"color: #008080; text-decoration-color: #008080\">   9</span> │ <span style=\"color: #008080; text-decoration-color: #008080\"> 0.27</span> │ <span style=\"color: #008080; text-decoration-color: #008080\">  1.176</span> │ <span style=\"color: #008080; text-decoration-color: #008080\">   1.821</span> │ <span style=\"color: #008080; text-decoration-color: #008080\">  -0.02</span> │ <span style=\"color: #008080; text-decoration-color: #008080\">  0.21</span> │ <span style=\"color: #008080; text-decoration-color: #008080\">   0.61</span> │ <span style=\"color: #008080; text-decoration-color: #008080\">   1.37</span> │ <span style=\"color: #008080; text-decoration-color: #008080\">    34.09</span> │ <span style=\"color: #008000; text-decoration-color: #008000\">  ▇   </span> │  │\n",
       "│ │ <span style=\"color: #af87ff; text-decoration-color: #af87ff\">nsIntensit</span> │      │       │         │          │         │        │         │         │           │        │  │\n",
       "│ │ <span style=\"color: #af87ff; text-decoration-color: #af87ff\">y         </span> │      │       │         │          │         │        │         │         │           │        │  │\n",
       "│ └────────────┴──────┴───────┴─────────┴──────────┴─────────┴────────┴─────────┴─────────┴───────────┴────────┘  │\n",
       "│ <span style=\"font-style: italic\">                                                     bool                                                     </span>  │\n",
       "│ ┏━━━━━━━━━━━━━━━━━━━━━━━━━━━━━━━━━━━━┳━━━━━━━━━━━━━━━━━┳━━━━━━━━━━━━━━━━━━━━━━━━━━━━━━━┳━━━━━━━━━━━━━━━━━━━━━┓  │\n",
       "│ ┃<span style=\"font-weight: bold\"> column_name                        </span>┃<span style=\"font-weight: bold\"> true            </span>┃<span style=\"font-weight: bold\"> true rate                     </span>┃<span style=\"font-weight: bold\"> hist                </span>┃  │\n",
       "│ ┡━━━━━━━━━━━━━━━━━━━━━━━━━━━━━━━━━━━━╇━━━━━━━━━━━━━━━━━╇━━━━━━━━━━━━━━━━━━━━━━━━━━━━━━━╇━━━━━━━━━━━━━━━━━━━━━┩  │\n",
       "│ │ <span style=\"color: #af87ff; text-decoration-color: #af87ff\">DefaultData                       </span> │ <span style=\"color: #008080; text-decoration-color: #008080\">            113</span> │ <span style=\"color: #008080; text-decoration-color: #008080\">                        0.033</span> │ <span style=\"color: #008000; text-decoration-color: #008000\">         ▇         </span> │  │\n",
       "│ └────────────────────────────────────┴─────────────────┴───────────────────────────────┴─────────────────────┘  │\n",
       "│ <span style=\"font-style: italic\">                                                    string                                                    </span>  │\n",
       "│ ┏━━━━━━━━━━━━━━━━━━━━━━━━━━━━━━━━━━━━━┳━━━━━━━━━━┳━━━━━━━━━━━━┳━━━━━━━━━━━━━━━━━━━━━━━━━┳━━━━━━━━━━━━━━━━━━━━┓  │\n",
       "│ ┃<span style=\"font-weight: bold\"> column_name                         </span>┃<span style=\"font-weight: bold\"> NA       </span>┃<span style=\"font-weight: bold\"> NA %       </span>┃<span style=\"font-weight: bold\"> words per row           </span>┃<span style=\"font-weight: bold\"> total words        </span>┃  │\n",
       "│ ┡━━━━━━━━━━━━━━━━━━━━━━━━━━━━━━━━━━━━━╇━━━━━━━━━━╇━━━━━━━━━━━━╇━━━━━━━━━━━━━━━━━━━━━━━━━╇━━━━━━━━━━━━━━━━━━━━┩  │\n",
       "│ │ <span style=\"color: #af87ff; text-decoration-color: #af87ff\">BuildingType                       </span> │ <span style=\"color: #008080; text-decoration-color: #008080\">       0</span> │ <span style=\"color: #008080; text-decoration-color: #008080\">         0</span> │ <span style=\"color: #008080; text-decoration-color: #008080\">                    2.1</span> │ <span style=\"color: #008080; text-decoration-color: #008080\">              6976</span> │  │\n",
       "│ │ <span style=\"color: #af87ff; text-decoration-color: #af87ff\">PrimaryPropertyType                </span> │ <span style=\"color: #008080; text-decoration-color: #008080\">       0</span> │ <span style=\"color: #008080; text-decoration-color: #008080\">         0</span> │ <span style=\"color: #008080; text-decoration-color: #008080\">                    2.1</span> │ <span style=\"color: #008080; text-decoration-color: #008080\">              7016</span> │  │\n",
       "│ │ <span style=\"color: #af87ff; text-decoration-color: #af87ff\">PropertyName                       </span> │ <span style=\"color: #008080; text-decoration-color: #008080\">       0</span> │ <span style=\"color: #008080; text-decoration-color: #008080\">         0</span> │ <span style=\"color: #008080; text-decoration-color: #008080\">                    2.9</span> │ <span style=\"color: #008080; text-decoration-color: #008080\">              9807</span> │  │\n",
       "│ │ <span style=\"color: #af87ff; text-decoration-color: #af87ff\">Address                            </span> │ <span style=\"color: #008080; text-decoration-color: #008080\">       0</span> │ <span style=\"color: #008080; text-decoration-color: #008080\">         0</span> │ <span style=\"color: #008080; text-decoration-color: #008080\">                    3.8</span> │ <span style=\"color: #008080; text-decoration-color: #008080\">             12897</span> │  │\n",
       "│ │ <span style=\"color: #af87ff; text-decoration-color: #af87ff\">City                               </span> │ <span style=\"color: #008080; text-decoration-color: #008080\">       0</span> │ <span style=\"color: #008080; text-decoration-color: #008080\">         0</span> │ <span style=\"color: #008080; text-decoration-color: #008080\">                      1</span> │ <span style=\"color: #008080; text-decoration-color: #008080\">              3376</span> │  │\n",
       "│ │ <span style=\"color: #af87ff; text-decoration-color: #af87ff\">State                              </span> │ <span style=\"color: #008080; text-decoration-color: #008080\">       0</span> │ <span style=\"color: #008080; text-decoration-color: #008080\">         0</span> │ <span style=\"color: #008080; text-decoration-color: #008080\">                      1</span> │ <span style=\"color: #008080; text-decoration-color: #008080\">              3376</span> │  │\n",
       "│ │ <span style=\"color: #af87ff; text-decoration-color: #af87ff\">TaxParcelIdentificationNumber      </span> │ <span style=\"color: #008080; text-decoration-color: #008080\">       0</span> │ <span style=\"color: #008080; text-decoration-color: #008080\">         0</span> │ <span style=\"color: #008080; text-decoration-color: #008080\">                      1</span> │ <span style=\"color: #008080; text-decoration-color: #008080\">              3378</span> │  │\n",
       "│ │ <span style=\"color: #af87ff; text-decoration-color: #af87ff\">Neighborhood                       </span> │ <span style=\"color: #008080; text-decoration-color: #008080\">       0</span> │ <span style=\"color: #008080; text-decoration-color: #008080\">         0</span> │ <span style=\"color: #008080; text-decoration-color: #008080\">                    1.6</span> │ <span style=\"color: #008080; text-decoration-color: #008080\">              5272</span> │  │\n",
       "│ │ <span style=\"color: #af87ff; text-decoration-color: #af87ff\">ListOfAllPropertyUseTypes          </span> │ <span style=\"color: #008080; text-decoration-color: #008080\">       9</span> │ <span style=\"color: #008080; text-decoration-color: #008080\">      0.27</span> │ <span style=\"color: #008080; text-decoration-color: #008080\">                    2.9</span> │ <span style=\"color: #008080; text-decoration-color: #008080\">              9904</span> │  │\n",
       "│ │ <span style=\"color: #af87ff; text-decoration-color: #af87ff\">LargestPropertyUseType             </span> │ <span style=\"color: #008080; text-decoration-color: #008080\">      20</span> │ <span style=\"color: #008080; text-decoration-color: #008080\">      0.59</span> │ <span style=\"color: #008080; text-decoration-color: #008080\">                    1.8</span> │ <span style=\"color: #008080; text-decoration-color: #008080\">              6152</span> │  │\n",
       "│ │ <span style=\"color: #af87ff; text-decoration-color: #af87ff\">SecondLargestPropertyUseType       </span> │ <span style=\"color: #008080; text-decoration-color: #008080\">    1697</span> │ <span style=\"color: #008080; text-decoration-color: #008080\">     50.27</span> │ <span style=\"color: #008080; text-decoration-color: #008080\">                   0.63</span> │ <span style=\"color: #008080; text-decoration-color: #008080\">              2143</span> │  │\n",
       "│ │ <span style=\"color: #af87ff; text-decoration-color: #af87ff\">ThirdLargestPropertyUseType        </span> │ <span style=\"color: #008080; text-decoration-color: #008080\">    2780</span> │ <span style=\"color: #008080; text-decoration-color: #008080\">     82.35</span> │ <span style=\"color: #008080; text-decoration-color: #008080\">                   0.29</span> │ <span style=\"color: #008080; text-decoration-color: #008080\">               970</span> │  │\n",
       "│ │ <span style=\"color: #af87ff; text-decoration-color: #af87ff\">YearsENERGYSTARCertified           </span> │ <span style=\"color: #008080; text-decoration-color: #008080\">    3257</span> │ <span style=\"color: #008080; text-decoration-color: #008080\">     96.48</span> │ <span style=\"color: #008080; text-decoration-color: #008080\">                  0.035</span> │ <span style=\"color: #008080; text-decoration-color: #008080\">               119</span> │  │\n",
       "│ │ <span style=\"color: #af87ff; text-decoration-color: #af87ff\">ComplianceStatus                   </span> │ <span style=\"color: #008080; text-decoration-color: #008080\">       0</span> │ <span style=\"color: #008080; text-decoration-color: #008080\">         0</span> │ <span style=\"color: #008080; text-decoration-color: #008080\">                    1.1</span> │ <span style=\"color: #008080; text-decoration-color: #008080\">              3843</span> │  │\n",
       "│ │ <span style=\"color: #af87ff; text-decoration-color: #af87ff\">Outlier                            </span> │ <span style=\"color: #008080; text-decoration-color: #008080\">    3344</span> │ <span style=\"color: #008080; text-decoration-color: #008080\">     99.05</span> │ <span style=\"color: #008080; text-decoration-color: #008080\">                  0.019</span> │ <span style=\"color: #008080; text-decoration-color: #008080\">                64</span> │  │\n",
       "│ └─────────────────────────────────────┴──────────┴────────────┴─────────────────────────┴────────────────────┘  │\n",
       "╰────────────────────────────────────────────────────── End ──────────────────────────────────────────────────────╯\n",
       "</pre>\n"
      ],
      "text/plain": [
       "╭──────────────────────────────────────────────── skimpy summary ─────────────────────────────────────────────────╮\n",
       "│ \u001b[3m         Data Summary         \u001b[0m \u001b[3m      Data Types       \u001b[0m                                                          │\n",
       "│ ┏━━━━━━━━━━━━━━━━━━━┳━━━━━━━━┓ ┏━━━━━━━━━━━━━┳━━━━━━━┓                                                          │\n",
       "│ ┃\u001b[1;36m \u001b[0m\u001b[1;36mdataframe        \u001b[0m\u001b[1;36m \u001b[0m┃\u001b[1;36m \u001b[0m\u001b[1;36mValues\u001b[0m\u001b[1;36m \u001b[0m┃ ┃\u001b[1;36m \u001b[0m\u001b[1;36mColumn Type\u001b[0m\u001b[1;36m \u001b[0m┃\u001b[1;36m \u001b[0m\u001b[1;36mCount\u001b[0m\u001b[1;36m \u001b[0m┃                                                          │\n",
       "│ ┡━━━━━━━━━━━━━━━━━━━╇━━━━━━━━┩ ┡━━━━━━━━━━━━━╇━━━━━━━┩                                                          │\n",
       "│ │ Number of rows    │ 3376   │ │ float64     │ 22    │                                                          │\n",
       "│ │ Number of columns │ 46     │ │ string      │ 15    │                                                          │\n",
       "│ └───────────────────┴────────┘ │ int32       │ 8     │                                                          │\n",
       "│                                │ bool        │ 1     │                                                          │\n",
       "│                                └─────────────┴───────┘                                                          │\n",
       "│ \u001b[3m                                                    number                                                    \u001b[0m  │\n",
       "│ ┏━━━━━━━━━━━━┳━━━━━━┳━━━━━━━┳━━━━━━━━━┳━━━━━━━━━━┳━━━━━━━━━┳━━━━━━━━┳━━━━━━━━━┳━━━━━━━━━┳━━━━━━━━━━━┳━━━━━━━━┓  │\n",
       "│ ┃\u001b[1m \u001b[0m\u001b[1mcolumn_nam\u001b[0m\u001b[1m \u001b[0m┃\u001b[1m      \u001b[0m┃\u001b[1m       \u001b[0m┃\u001b[1m         \u001b[0m┃\u001b[1m          \u001b[0m┃\u001b[1m         \u001b[0m┃\u001b[1m        \u001b[0m┃\u001b[1m         \u001b[0m┃\u001b[1m         \u001b[0m┃\u001b[1m           \u001b[0m┃\u001b[1m        \u001b[0m┃  │\n",
       "│ ┃\u001b[1m \u001b[0m\u001b[1me         \u001b[0m\u001b[1m \u001b[0m┃\u001b[1m \u001b[0m\u001b[1mNA  \u001b[0m\u001b[1m \u001b[0m┃\u001b[1m \u001b[0m\u001b[1mNA % \u001b[0m\u001b[1m \u001b[0m┃\u001b[1m \u001b[0m\u001b[1mmean   \u001b[0m\u001b[1m \u001b[0m┃\u001b[1m \u001b[0m\u001b[1msd      \u001b[0m\u001b[1m \u001b[0m┃\u001b[1m \u001b[0m\u001b[1mp0     \u001b[0m\u001b[1m \u001b[0m┃\u001b[1m \u001b[0m\u001b[1mp25   \u001b[0m\u001b[1m \u001b[0m┃\u001b[1m \u001b[0m\u001b[1mp50    \u001b[0m\u001b[1m \u001b[0m┃\u001b[1m \u001b[0m\u001b[1mp75    \u001b[0m\u001b[1m \u001b[0m┃\u001b[1m \u001b[0m\u001b[1mp100     \u001b[0m\u001b[1m \u001b[0m┃\u001b[1m \u001b[0m\u001b[1mhist  \u001b[0m\u001b[1m \u001b[0m┃  │\n",
       "│ ┡━━━━━━━━━━━━╇━━━━━━╇━━━━━━━╇━━━━━━━━━╇━━━━━━━━━━╇━━━━━━━━━╇━━━━━━━━╇━━━━━━━━━╇━━━━━━━━━╇━━━━━━━━━━━╇━━━━━━━━┩  │\n",
       "│ │ \u001b[38;5;141mOSEBuildin\u001b[0m │ \u001b[36m   0\u001b[0m │ \u001b[36m    0\u001b[0m │ \u001b[36m  21210\u001b[0m │ \u001b[36m   12220\u001b[0m │ \u001b[36m      1\u001b[0m │ \u001b[36m 19990\u001b[0m │ \u001b[36m  23110\u001b[0m │ \u001b[36m  25990\u001b[0m │ \u001b[36m    50230\u001b[0m │ \u001b[32m▃ ▇▅ ▁\u001b[0m │  │\n",
       "│ │ \u001b[38;5;141mgID       \u001b[0m │      │       │         │          │         │        │         │         │           │        │  │\n",
       "│ │ \u001b[38;5;141mDataYear  \u001b[0m │ \u001b[36m   0\u001b[0m │ \u001b[36m    0\u001b[0m │ \u001b[36m   2016\u001b[0m │ \u001b[36m       0\u001b[0m │ \u001b[36m   2016\u001b[0m │ \u001b[36m  2016\u001b[0m │ \u001b[36m   2016\u001b[0m │ \u001b[36m   2016\u001b[0m │ \u001b[36m     2016\u001b[0m │ \u001b[32m    ▇ \u001b[0m │  │\n",
       "│ │ \u001b[38;5;141mZipCode   \u001b[0m │ \u001b[36m  16\u001b[0m │ \u001b[36m 0.47\u001b[0m │ \u001b[36m  98120\u001b[0m │ \u001b[36m   18.62\u001b[0m │ \u001b[36m  98010\u001b[0m │ \u001b[36m 98100\u001b[0m │ \u001b[36m  98120\u001b[0m │ \u001b[36m  98120\u001b[0m │ \u001b[36m    98270\u001b[0m │ \u001b[32m   ▇  \u001b[0m │  │\n",
       "│ │ \u001b[38;5;141mCouncilDis\u001b[0m │ \u001b[36m   0\u001b[0m │ \u001b[36m    0\u001b[0m │ \u001b[36m  4.439\u001b[0m │ \u001b[36m   2.121\u001b[0m │ \u001b[36m      1\u001b[0m │ \u001b[36m     3\u001b[0m │ \u001b[36m      4\u001b[0m │ \u001b[36m      7\u001b[0m │ \u001b[36m        7\u001b[0m │ \u001b[32m▂▃▃▂▂▇\u001b[0m │  │\n",
       "│ │ \u001b[38;5;141mtrictCode \u001b[0m │      │       │         │          │         │        │         │         │           │        │  │\n",
       "│ │ \u001b[38;5;141mLatitude  \u001b[0m │ \u001b[36m   0\u001b[0m │ \u001b[36m    0\u001b[0m │ \u001b[36m  47.62\u001b[0m │ \u001b[36m 0.04776\u001b[0m │ \u001b[36m   47.5\u001b[0m │ \u001b[36m  47.6\u001b[0m │ \u001b[36m  47.62\u001b[0m │ \u001b[36m  47.66\u001b[0m │ \u001b[36m    47.73\u001b[0m │ \u001b[32m▁▃▇▇▅▃\u001b[0m │  │\n",
       "│ │ \u001b[38;5;141mLongitude \u001b[0m │ \u001b[36m   0\u001b[0m │ \u001b[36m    0\u001b[0m │ \u001b[36m -122.3\u001b[0m │ \u001b[36m  0.0272\u001b[0m │ \u001b[36m -122.4\u001b[0m │ \u001b[36m-122.4\u001b[0m │ \u001b[36m -122.3\u001b[0m │ \u001b[36m -122.3\u001b[0m │ \u001b[36m   -122.2\u001b[0m │ \u001b[32m▁▃▇▃▁ \u001b[0m │  │\n",
       "│ │ \u001b[38;5;141mYearBuilt \u001b[0m │ \u001b[36m   0\u001b[0m │ \u001b[36m    0\u001b[0m │ \u001b[36m   1969\u001b[0m │ \u001b[36m   33.09\u001b[0m │ \u001b[36m   1900\u001b[0m │ \u001b[36m  1948\u001b[0m │ \u001b[36m   1975\u001b[0m │ \u001b[36m   1997\u001b[0m │ \u001b[36m     2015\u001b[0m │ \u001b[32m▃▃▂▆▇▇\u001b[0m │  │\n",
       "│ │ \u001b[38;5;141mNumberofBu\u001b[0m │ \u001b[36m   8\u001b[0m │ \u001b[36m 0.24\u001b[0m │ \u001b[36m  1.107\u001b[0m │ \u001b[36m   2.108\u001b[0m │ \u001b[36m      0\u001b[0m │ \u001b[36m     1\u001b[0m │ \u001b[36m      1\u001b[0m │ \u001b[36m      1\u001b[0m │ \u001b[36m      111\u001b[0m │ \u001b[32m  ▇   \u001b[0m │  │\n",
       "│ │ \u001b[38;5;141mildings   \u001b[0m │      │       │         │          │         │        │         │         │           │        │  │\n",
       "│ │ \u001b[38;5;141mNumberofFl\u001b[0m │ \u001b[36m   0\u001b[0m │ \u001b[36m    0\u001b[0m │ \u001b[36m  4.709\u001b[0m │ \u001b[36m   5.494\u001b[0m │ \u001b[36m      0\u001b[0m │ \u001b[36m     2\u001b[0m │ \u001b[36m      4\u001b[0m │ \u001b[36m      5\u001b[0m │ \u001b[36m       99\u001b[0m │ \u001b[32m  ▇   \u001b[0m │  │\n",
       "│ │ \u001b[38;5;141moors      \u001b[0m │      │       │         │          │         │        │         │         │           │        │  │\n",
       "│ │ \u001b[38;5;141mPropertyGF\u001b[0m │ \u001b[36m   0\u001b[0m │ \u001b[36m    0\u001b[0m │ \u001b[36m  94830\u001b[0m │ \u001b[36m  218800\u001b[0m │ \u001b[36m  11280\u001b[0m │ \u001b[36m 28490\u001b[0m │ \u001b[36m  44180\u001b[0m │ \u001b[36m  90990\u001b[0m │ \u001b[36m  9320000\u001b[0m │ \u001b[32m  ▇   \u001b[0m │  │\n",
       "│ │ \u001b[38;5;141mATotal    \u001b[0m │      │       │         │          │         │        │         │         │           │        │  │\n",
       "│ │ \u001b[38;5;141mPropertyGF\u001b[0m │ \u001b[36m   0\u001b[0m │ \u001b[36m    0\u001b[0m │ \u001b[36m   8002\u001b[0m │ \u001b[36m   32330\u001b[0m │ \u001b[36m      0\u001b[0m │ \u001b[36m     0\u001b[0m │ \u001b[36m      0\u001b[0m │ \u001b[36m      0\u001b[0m │ \u001b[36m   512600\u001b[0m │ \u001b[32m  ▇   \u001b[0m │  │\n",
       "│ │ \u001b[38;5;141mAParking  \u001b[0m │      │       │         │          │         │        │         │         │           │        │  │\n",
       "│ │ \u001b[38;5;141mPropertyGF\u001b[0m │ \u001b[36m   0\u001b[0m │ \u001b[36m    0\u001b[0m │ \u001b[36m  86830\u001b[0m │ \u001b[36m  207900\u001b[0m │ \u001b[36m   3636\u001b[0m │ \u001b[36m 27760\u001b[0m │ \u001b[36m  43220\u001b[0m │ \u001b[36m  84280\u001b[0m │ \u001b[36m  9320000\u001b[0m │ \u001b[32m  ▇   \u001b[0m │  │\n",
       "│ │ \u001b[38;5;141mABuilding(\u001b[0m │      │       │         │          │         │        │         │         │           │        │  │\n",
       "│ │ \u001b[38;5;141ms)        \u001b[0m │      │       │         │          │         │        │         │         │           │        │  │\n",
       "│ │ \u001b[38;5;141mLargestPro\u001b[0m │ \u001b[36m  20\u001b[0m │ \u001b[36m 0.59\u001b[0m │ \u001b[36m  79180\u001b[0m │ \u001b[36m  201700\u001b[0m │ \u001b[36m   5656\u001b[0m │ \u001b[36m 25090\u001b[0m │ \u001b[36m  39890\u001b[0m │ \u001b[36m  76200\u001b[0m │ \u001b[36m  9320000\u001b[0m │ \u001b[32m  ▇   \u001b[0m │  │\n",
       "│ │ \u001b[38;5;141mpertyUseTy\u001b[0m │      │       │         │          │         │        │         │         │           │        │  │\n",
       "│ │ \u001b[38;5;141mpeGFA     \u001b[0m │      │       │         │          │         │        │         │         │           │        │  │\n",
       "│ │ \u001b[38;5;141mSecondLarg\u001b[0m │ \u001b[36m1697\u001b[0m │ \u001b[36m50.27\u001b[0m │ \u001b[36m  28440\u001b[0m │ \u001b[36m   54390\u001b[0m │ \u001b[36m      0\u001b[0m │ \u001b[36m  5000\u001b[0m │ \u001b[36m  10660\u001b[0m │ \u001b[36m  26640\u001b[0m │ \u001b[36m   686800\u001b[0m │ \u001b[32m  ▇   \u001b[0m │  │\n",
       "│ │ \u001b[38;5;141mestPropert\u001b[0m │      │       │         │          │         │        │         │         │           │        │  │\n",
       "│ │ \u001b[38;5;141myUseTypeGF\u001b[0m │      │       │         │          │         │        │         │         │           │        │  │\n",
       "│ │ \u001b[38;5;141mA         \u001b[0m │      │       │         │          │         │        │         │         │           │        │  │\n",
       "│ │ \u001b[38;5;141mThirdLarge\u001b[0m │ \u001b[36m2780\u001b[0m │ \u001b[36m82.35\u001b[0m │ \u001b[36m  11740\u001b[0m │ \u001b[36m   29330\u001b[0m │ \u001b[36m      0\u001b[0m │ \u001b[36m  2239\u001b[0m │ \u001b[36m   5043\u001b[0m │ \u001b[36m  10140\u001b[0m │ \u001b[36m   459700\u001b[0m │ \u001b[32m  ▇   \u001b[0m │  │\n",
       "│ │ \u001b[38;5;141mstProperty\u001b[0m │      │       │         │          │         │        │         │         │           │        │  │\n",
       "│ │ \u001b[38;5;141mUseTypeGFA\u001b[0m │      │       │         │          │         │        │         │         │           │        │  │\n",
       "│ │ \u001b[38;5;141mENERGYSTAR\u001b[0m │ \u001b[36m 843\u001b[0m │ \u001b[36m24.97\u001b[0m │ \u001b[36m  67.92\u001b[0m │ \u001b[36m   26.87\u001b[0m │ \u001b[36m      1\u001b[0m │ \u001b[36m    53\u001b[0m │ \u001b[36m     75\u001b[0m │ \u001b[36m     90\u001b[0m │ \u001b[36m      100\u001b[0m │ \u001b[32m▂▁▂▃▅▇\u001b[0m │  │\n",
       "│ │ \u001b[38;5;141mScore     \u001b[0m │      │       │         │          │         │        │         │         │           │        │  │\n",
       "│ │ \u001b[38;5;141mSiteEUI(kB\u001b[0m │ \u001b[36m   7\u001b[0m │ \u001b[36m 0.21\u001b[0m │ \u001b[36m  54.73\u001b[0m │ \u001b[36m   56.27\u001b[0m │ \u001b[36m      0\u001b[0m │ \u001b[36m  27.9\u001b[0m │ \u001b[36m   38.6\u001b[0m │ \u001b[36m   60.4\u001b[0m │ \u001b[36m    834.4\u001b[0m │ \u001b[32m  ▇   \u001b[0m │  │\n",
       "│ │ \u001b[38;5;141mtu/sf)    \u001b[0m │      │       │         │          │         │        │         │         │           │        │  │\n",
       "│ │ \u001b[38;5;141mSiteEUIWN(\u001b[0m │ \u001b[36m   6\u001b[0m │ \u001b[36m 0.18\u001b[0m │ \u001b[36m  57.03\u001b[0m │ \u001b[36m   57.16\u001b[0m │ \u001b[36m      0\u001b[0m │ \u001b[36m  29.4\u001b[0m │ \u001b[36m   40.9\u001b[0m │ \u001b[36m  64.28\u001b[0m │ \u001b[36m    834.4\u001b[0m │ \u001b[32m  ▇   \u001b[0m │  │\n",
       "│ │ \u001b[38;5;141mkBtu/sf)  \u001b[0m │      │       │         │          │         │        │         │         │           │        │  │\n",
       "│ │ \u001b[38;5;141mSourceEUI(\u001b[0m │ \u001b[36m   9\u001b[0m │ \u001b[36m 0.27\u001b[0m │ \u001b[36m  134.2\u001b[0m │ \u001b[36m   139.3\u001b[0m │ \u001b[36m      0\u001b[0m │ \u001b[36m  74.7\u001b[0m │ \u001b[36m   96.2\u001b[0m │ \u001b[36m  143.9\u001b[0m │ \u001b[36m     2620\u001b[0m │ \u001b[32m  ▇   \u001b[0m │  │\n",
       "│ │ \u001b[38;5;141mkBtu/sf)  \u001b[0m │      │       │         │          │         │        │         │         │           │        │  │\n",
       "│ │ \u001b[38;5;141mSourceEUIW\u001b[0m │ \u001b[36m   9\u001b[0m │ \u001b[36m 0.27\u001b[0m │ \u001b[36m  137.8\u001b[0m │ \u001b[36m   139.1\u001b[0m │ \u001b[36m   -2.1\u001b[0m │ \u001b[36m  78.4\u001b[0m │ \u001b[36m  101.1\u001b[0m │ \u001b[36m  148.3\u001b[0m │ \u001b[36m     2620\u001b[0m │ \u001b[32m  ▇   \u001b[0m │  │\n",
       "│ │ \u001b[38;5;141mN(kBtu/sf)\u001b[0m │      │       │         │          │         │        │         │         │           │        │  │\n",
       "│ │ \u001b[38;5;141mSiteEnergy\u001b[0m │ \u001b[36m   5\u001b[0m │ \u001b[36m 0.15\u001b[0m │ \u001b[36m5404000\u001b[0m │ \u001b[36m21610000\u001b[0m │ \u001b[36m      0\u001b[0m │ \u001b[36m925100\u001b[0m │ \u001b[36m1804000\u001b[0m │ \u001b[36m4222000\u001b[0m │ \u001b[36m873900000\u001b[0m │ \u001b[32m  ▇   \u001b[0m │  │\n",
       "│ │ \u001b[38;5;141mUse(kBtu) \u001b[0m │      │       │         │          │         │        │         │         │           │        │  │\n",
       "│ │ \u001b[38;5;141mSiteEnergy\u001b[0m │ \u001b[36m   6\u001b[0m │ \u001b[36m 0.18\u001b[0m │ \u001b[36m5277000\u001b[0m │ \u001b[36m15940000\u001b[0m │ \u001b[36m      0\u001b[0m │ \u001b[36m970200\u001b[0m │ \u001b[36m1904000\u001b[0m │ \u001b[36m4381000\u001b[0m │ \u001b[36m471600000\u001b[0m │ \u001b[32m  ▇   \u001b[0m │  │\n",
       "│ │ \u001b[38;5;141mUseWN(kBtu\u001b[0m │      │       │         │          │         │        │         │         │           │        │  │\n",
       "│ │ \u001b[38;5;141m)         \u001b[0m │      │       │         │          │         │        │         │         │           │        │  │\n",
       "│ │ \u001b[38;5;141mSteamUse(k\u001b[0m │ \u001b[36m   9\u001b[0m │ \u001b[36m 0.27\u001b[0m │ \u001b[36m 274600\u001b[0m │ \u001b[36m 3912000\u001b[0m │ \u001b[36m      0\u001b[0m │ \u001b[36m     0\u001b[0m │ \u001b[36m      0\u001b[0m │ \u001b[36m      0\u001b[0m │ \u001b[36m134900000\u001b[0m │ \u001b[32m  ▇   \u001b[0m │  │\n",
       "│ │ \u001b[38;5;141mBtu)      \u001b[0m │      │       │         │          │         │        │         │         │           │        │  │\n",
       "│ │ \u001b[38;5;141mElectricit\u001b[0m │ \u001b[36m   9\u001b[0m │ \u001b[36m 0.27\u001b[0m │ \u001b[36m1087000\u001b[0m │ \u001b[36m 4352000\u001b[0m │ \u001b[36m -33830\u001b[0m │ \u001b[36m187400\u001b[0m │ \u001b[36m 345100\u001b[0m │ \u001b[36m 829300\u001b[0m │ \u001b[36m192600000\u001b[0m │ \u001b[32m  ▇   \u001b[0m │  │\n",
       "│ │ \u001b[38;5;141my(kWh)    \u001b[0m │      │       │         │          │         │        │         │         │           │        │  │\n",
       "│ │ \u001b[38;5;141mElectricit\u001b[0m │ \u001b[36m   9\u001b[0m │ \u001b[36m 0.27\u001b[0m │ \u001b[36m3708000\u001b[0m │ \u001b[36m14850000\u001b[0m │ \u001b[36m-115400\u001b[0m │ \u001b[36m639500\u001b[0m │ \u001b[36m1178000\u001b[0m │ \u001b[36m2830000\u001b[0m │ \u001b[36m657100000\u001b[0m │ \u001b[32m  ▇   \u001b[0m │  │\n",
       "│ │ \u001b[38;5;141my(kBtu)   \u001b[0m │      │       │         │          │         │        │         │         │           │        │  │\n",
       "│ │ \u001b[38;5;141mNaturalGas\u001b[0m │ \u001b[36m   9\u001b[0m │ \u001b[36m 0.27\u001b[0m │ \u001b[36m  13690\u001b[0m │ \u001b[36m   67100\u001b[0m │ \u001b[36m      0\u001b[0m │ \u001b[36m     0\u001b[0m │ \u001b[36m   3238\u001b[0m │ \u001b[36m  11890\u001b[0m │ \u001b[36m  2979000\u001b[0m │ \u001b[32m  ▇   \u001b[0m │  │\n",
       "│ │ \u001b[38;5;141m(therms)  \u001b[0m │      │       │         │          │         │        │         │         │           │        │  │\n",
       "│ │ \u001b[38;5;141mNaturalGas\u001b[0m │ \u001b[36m   9\u001b[0m │ \u001b[36m 0.27\u001b[0m │ \u001b[36m1369000\u001b[0m │ \u001b[36m 6710000\u001b[0m │ \u001b[36m      0\u001b[0m │ \u001b[36m     0\u001b[0m │ \u001b[36m 323800\u001b[0m │ \u001b[36m1189000\u001b[0m │ \u001b[36m297900000\u001b[0m │ \u001b[32m  ▇   \u001b[0m │  │\n",
       "│ │ \u001b[38;5;141m(kBtu)    \u001b[0m │      │       │         │          │         │        │         │         │           │        │  │\n",
       "│ │ \u001b[38;5;141mComments  \u001b[0m │ \u001b[36m3376\u001b[0m │ \u001b[36m  100\u001b[0m │ \u001b[36m    nan\u001b[0m │ \u001b[36m     nan\u001b[0m │ \u001b[36m    nan\u001b[0m │ \u001b[36m   nan\u001b[0m │ \u001b[36m    nan\u001b[0m │ \u001b[36m    nan\u001b[0m │ \u001b[36m      nan\u001b[0m │ \u001b[32m      \u001b[0m │  │\n",
       "│ │ \u001b[38;5;141mTotalGHGEm\u001b[0m │ \u001b[36m   9\u001b[0m │ \u001b[36m 0.27\u001b[0m │ \u001b[36m  119.7\u001b[0m │ \u001b[36m   538.8\u001b[0m │ \u001b[36m   -0.8\u001b[0m │ \u001b[36m 9.495\u001b[0m │ \u001b[36m  33.92\u001b[0m │ \u001b[36m  93.94\u001b[0m │ \u001b[36m    16870\u001b[0m │ \u001b[32m  ▇   \u001b[0m │  │\n",
       "│ │ \u001b[38;5;141missions   \u001b[0m │      │       │         │          │         │        │         │         │           │        │  │\n",
       "│ │ \u001b[38;5;141mGHGEmissio\u001b[0m │ \u001b[36m   9\u001b[0m │ \u001b[36m 0.27\u001b[0m │ \u001b[36m  1.176\u001b[0m │ \u001b[36m   1.821\u001b[0m │ \u001b[36m  -0.02\u001b[0m │ \u001b[36m  0.21\u001b[0m │ \u001b[36m   0.61\u001b[0m │ \u001b[36m   1.37\u001b[0m │ \u001b[36m    34.09\u001b[0m │ \u001b[32m  ▇   \u001b[0m │  │\n",
       "│ │ \u001b[38;5;141mnsIntensit\u001b[0m │      │       │         │          │         │        │         │         │           │        │  │\n",
       "│ │ \u001b[38;5;141my         \u001b[0m │      │       │         │          │         │        │         │         │           │        │  │\n",
       "│ └────────────┴──────┴───────┴─────────┴──────────┴─────────┴────────┴─────────┴─────────┴───────────┴────────┘  │\n",
       "│ \u001b[3m                                                     bool                                                     \u001b[0m  │\n",
       "│ ┏━━━━━━━━━━━━━━━━━━━━━━━━━━━━━━━━━━━━┳━━━━━━━━━━━━━━━━━┳━━━━━━━━━━━━━━━━━━━━━━━━━━━━━━━┳━━━━━━━━━━━━━━━━━━━━━┓  │\n",
       "│ ┃\u001b[1m \u001b[0m\u001b[1mcolumn_name                       \u001b[0m\u001b[1m \u001b[0m┃\u001b[1m \u001b[0m\u001b[1mtrue           \u001b[0m\u001b[1m \u001b[0m┃\u001b[1m \u001b[0m\u001b[1mtrue rate                    \u001b[0m\u001b[1m \u001b[0m┃\u001b[1m \u001b[0m\u001b[1mhist               \u001b[0m\u001b[1m \u001b[0m┃  │\n",
       "│ ┡━━━━━━━━━━━━━━━━━━━━━━━━━━━━━━━━━━━━╇━━━━━━━━━━━━━━━━━╇━━━━━━━━━━━━━━━━━━━━━━━━━━━━━━━╇━━━━━━━━━━━━━━━━━━━━━┩  │\n",
       "│ │ \u001b[38;5;141mDefaultData                       \u001b[0m │ \u001b[36m            113\u001b[0m │ \u001b[36m                        0.033\u001b[0m │ \u001b[32m         ▇         \u001b[0m │  │\n",
       "│ └────────────────────────────────────┴─────────────────┴───────────────────────────────┴─────────────────────┘  │\n",
       "│ \u001b[3m                                                    string                                                    \u001b[0m  │\n",
       "│ ┏━━━━━━━━━━━━━━━━━━━━━━━━━━━━━━━━━━━━━┳━━━━━━━━━━┳━━━━━━━━━━━━┳━━━━━━━━━━━━━━━━━━━━━━━━━┳━━━━━━━━━━━━━━━━━━━━┓  │\n",
       "│ ┃\u001b[1m \u001b[0m\u001b[1mcolumn_name                        \u001b[0m\u001b[1m \u001b[0m┃\u001b[1m \u001b[0m\u001b[1mNA      \u001b[0m\u001b[1m \u001b[0m┃\u001b[1m \u001b[0m\u001b[1mNA %      \u001b[0m\u001b[1m \u001b[0m┃\u001b[1m \u001b[0m\u001b[1mwords per row          \u001b[0m\u001b[1m \u001b[0m┃\u001b[1m \u001b[0m\u001b[1mtotal words       \u001b[0m\u001b[1m \u001b[0m┃  │\n",
       "│ ┡━━━━━━━━━━━━━━━━━━━━━━━━━━━━━━━━━━━━━╇━━━━━━━━━━╇━━━━━━━━━━━━╇━━━━━━━━━━━━━━━━━━━━━━━━━╇━━━━━━━━━━━━━━━━━━━━┩  │\n",
       "│ │ \u001b[38;5;141mBuildingType                       \u001b[0m │ \u001b[36m       0\u001b[0m │ \u001b[36m         0\u001b[0m │ \u001b[36m                    2.1\u001b[0m │ \u001b[36m              6976\u001b[0m │  │\n",
       "│ │ \u001b[38;5;141mPrimaryPropertyType                \u001b[0m │ \u001b[36m       0\u001b[0m │ \u001b[36m         0\u001b[0m │ \u001b[36m                    2.1\u001b[0m │ \u001b[36m              7016\u001b[0m │  │\n",
       "│ │ \u001b[38;5;141mPropertyName                       \u001b[0m │ \u001b[36m       0\u001b[0m │ \u001b[36m         0\u001b[0m │ \u001b[36m                    2.9\u001b[0m │ \u001b[36m              9807\u001b[0m │  │\n",
       "│ │ \u001b[38;5;141mAddress                            \u001b[0m │ \u001b[36m       0\u001b[0m │ \u001b[36m         0\u001b[0m │ \u001b[36m                    3.8\u001b[0m │ \u001b[36m             12897\u001b[0m │  │\n",
       "│ │ \u001b[38;5;141mCity                               \u001b[0m │ \u001b[36m       0\u001b[0m │ \u001b[36m         0\u001b[0m │ \u001b[36m                      1\u001b[0m │ \u001b[36m              3376\u001b[0m │  │\n",
       "│ │ \u001b[38;5;141mState                              \u001b[0m │ \u001b[36m       0\u001b[0m │ \u001b[36m         0\u001b[0m │ \u001b[36m                      1\u001b[0m │ \u001b[36m              3376\u001b[0m │  │\n",
       "│ │ \u001b[38;5;141mTaxParcelIdentificationNumber      \u001b[0m │ \u001b[36m       0\u001b[0m │ \u001b[36m         0\u001b[0m │ \u001b[36m                      1\u001b[0m │ \u001b[36m              3378\u001b[0m │  │\n",
       "│ │ \u001b[38;5;141mNeighborhood                       \u001b[0m │ \u001b[36m       0\u001b[0m │ \u001b[36m         0\u001b[0m │ \u001b[36m                    1.6\u001b[0m │ \u001b[36m              5272\u001b[0m │  │\n",
       "│ │ \u001b[38;5;141mListOfAllPropertyUseTypes          \u001b[0m │ \u001b[36m       9\u001b[0m │ \u001b[36m      0.27\u001b[0m │ \u001b[36m                    2.9\u001b[0m │ \u001b[36m              9904\u001b[0m │  │\n",
       "│ │ \u001b[38;5;141mLargestPropertyUseType             \u001b[0m │ \u001b[36m      20\u001b[0m │ \u001b[36m      0.59\u001b[0m │ \u001b[36m                    1.8\u001b[0m │ \u001b[36m              6152\u001b[0m │  │\n",
       "│ │ \u001b[38;5;141mSecondLargestPropertyUseType       \u001b[0m │ \u001b[36m    1697\u001b[0m │ \u001b[36m     50.27\u001b[0m │ \u001b[36m                   0.63\u001b[0m │ \u001b[36m              2143\u001b[0m │  │\n",
       "│ │ \u001b[38;5;141mThirdLargestPropertyUseType        \u001b[0m │ \u001b[36m    2780\u001b[0m │ \u001b[36m     82.35\u001b[0m │ \u001b[36m                   0.29\u001b[0m │ \u001b[36m               970\u001b[0m │  │\n",
       "│ │ \u001b[38;5;141mYearsENERGYSTARCertified           \u001b[0m │ \u001b[36m    3257\u001b[0m │ \u001b[36m     96.48\u001b[0m │ \u001b[36m                  0.035\u001b[0m │ \u001b[36m               119\u001b[0m │  │\n",
       "│ │ \u001b[38;5;141mComplianceStatus                   \u001b[0m │ \u001b[36m       0\u001b[0m │ \u001b[36m         0\u001b[0m │ \u001b[36m                    1.1\u001b[0m │ \u001b[36m              3843\u001b[0m │  │\n",
       "│ │ \u001b[38;5;141mOutlier                            \u001b[0m │ \u001b[36m    3344\u001b[0m │ \u001b[36m     99.05\u001b[0m │ \u001b[36m                  0.019\u001b[0m │ \u001b[36m                64\u001b[0m │  │\n",
       "│ └─────────────────────────────────────┴──────────┴────────────┴─────────────────────────┴────────────────────┘  │\n",
       "╰────────────────────────────────────────────────────── End ──────────────────────────────────────────────────────╯\n"
      ]
     },
     "metadata": {},
     "output_type": "display_data"
    }
   ],
   "source": [
    "skim(DF)"
   ]
  },
  {
   "cell_type": "code",
   "execution_count": 455,
   "metadata": {},
   "outputs": [
    {
     "data": {
      "text/plain": [
       "array(['NonResidential', 'Nonresidential COS', 'Multifamily MR (5-9)',\n",
       "       'SPS-District K-12', 'Campus', 'Multifamily LR (1-4)',\n",
       "       'Multifamily HR (10+)', 'Nonresidential WA'], dtype=object)"
      ]
     },
     "execution_count": 455,
     "metadata": {},
     "output_type": "execute_result"
    }
   ],
   "source": [
    "DF['BuildingType'].unique()"
   ]
  },
  {
   "cell_type": "code",
   "execution_count": 456,
   "metadata": {},
   "outputs": [
    {
     "name": "stdout",
     "output_type": "stream",
     "text": [
      "<class 'pandas.core.frame.DataFrame'>\n",
      "RangeIndex: 1668 entries, 0 to 1667\n",
      "Data columns (total 46 columns):\n",
      " #   Column                           Non-Null Count  Dtype  \n",
      "---  ------                           --------------  -----  \n",
      " 0   OSEBuildingID                    1668 non-null   int64  \n",
      " 1   DataYear                         1668 non-null   int64  \n",
      " 2   BuildingType                     1668 non-null   object \n",
      " 3   PrimaryPropertyType              1668 non-null   object \n",
      " 4   PropertyName                     1668 non-null   object \n",
      " 5   Address                          1668 non-null   object \n",
      " 6   City                             1668 non-null   object \n",
      " 7   State                            1668 non-null   object \n",
      " 8   ZipCode                          1652 non-null   float64\n",
      " 9   TaxParcelIdentificationNumber    1668 non-null   object \n",
      " 10  CouncilDistrictCode              1668 non-null   int64  \n",
      " 11  Neighborhood                     1668 non-null   object \n",
      " 12  Latitude                         1668 non-null   float64\n",
      " 13  Longitude                        1668 non-null   float64\n",
      " 14  YearBuilt                        1668 non-null   int64  \n",
      " 15  NumberofBuildings                1666 non-null   float64\n",
      " 16  NumberofFloors                   1668 non-null   int64  \n",
      " 17  PropertyGFATotal                 1668 non-null   int64  \n",
      " 18  PropertyGFAParking               1668 non-null   int64  \n",
      " 19  PropertyGFABuilding(s)           1668 non-null   int64  \n",
      " 20  ListOfAllPropertyUseTypes        1666 non-null   object \n",
      " 21  LargestPropertyUseType           1662 non-null   object \n",
      " 22  LargestPropertyUseTypeGFA        1662 non-null   float64\n",
      " 23  SecondLargestPropertyUseType     855 non-null    object \n",
      " 24  SecondLargestPropertyUseTypeGFA  855 non-null    float64\n",
      " 25  ThirdLargestPropertyUseType      353 non-null    object \n",
      " 26  ThirdLargestPropertyUseTypeGFA   353 non-null    float64\n",
      " 27  YearsENERGYSTARCertified         98 non-null     object \n",
      " 28  ENERGYSTARScore                  1094 non-null   float64\n",
      " 29  SiteEUI(kBtu/sf)                 1665 non-null   float64\n",
      " 30  SiteEUIWN(kBtu/sf)               1665 non-null   float64\n",
      " 31  SourceEUI(kBtu/sf)               1666 non-null   float64\n",
      " 32  SourceEUIWN(kBtu/sf)             1666 non-null   float64\n",
      " 33  SiteEnergyUse(kBtu)              1666 non-null   float64\n",
      " 34  SiteEnergyUseWN(kBtu)            1665 non-null   float64\n",
      " 35  SteamUse(kBtu)                   1666 non-null   float64\n",
      " 36  Electricity(kWh)                 1666 non-null   float64\n",
      " 37  Electricity(kBtu)                1666 non-null   float64\n",
      " 38  NaturalGas(therms)               1666 non-null   float64\n",
      " 39  NaturalGas(kBtu)                 1666 non-null   float64\n",
      " 40  DefaultData                      1668 non-null   bool   \n",
      " 41  Comments                         0 non-null      float64\n",
      " 42  ComplianceStatus                 1668 non-null   object \n",
      " 43  Outlier                          17 non-null     object \n",
      " 44  TotalGHGEmissions                1666 non-null   float64\n",
      " 45  GHGEmissionsIntensity            1666 non-null   float64\n",
      "dtypes: bool(1), float64(22), int64(8), object(15)\n",
      "memory usage: 588.2+ KB\n"
     ]
    }
   ],
   "source": [
    "DF_non_residential=DF.loc[(DF['BuildingType']=='NonResidential') | \n",
    "                          (DF['BuildingType']=='Nonresidential COS') |\n",
    "                          (DF['BuildingType']=='Nonresidential WA') |\n",
    "                          (DF['BuildingType']=='SPS-District K-12') |\n",
    "                          (DF['BuildingType']=='Campus')]\n",
    "DF_non_residential.reset_index(inplace=True)\n",
    "DF_non_residential=DF_non_residential.drop(['index'],axis=1)\n",
    "DF_non_residential.info()"
   ]
  },
  {
   "cell_type": "code",
   "execution_count": 457,
   "metadata": {},
   "outputs": [
    {
     "data": {
      "text/html": [
       "<div>\n",
       "<style scoped>\n",
       "    .dataframe tbody tr th:only-of-type {\n",
       "        vertical-align: middle;\n",
       "    }\n",
       "\n",
       "    .dataframe tbody tr th {\n",
       "        vertical-align: top;\n",
       "    }\n",
       "\n",
       "    .dataframe thead th {\n",
       "        text-align: right;\n",
       "    }\n",
       "</style>\n",
       "<table border=\"1\" class=\"dataframe\">\n",
       "  <thead>\n",
       "    <tr style=\"text-align: right;\">\n",
       "      <th></th>\n",
       "      <th>OSEBuildingID</th>\n",
       "      <th>DataYear</th>\n",
       "      <th>BuildingType</th>\n",
       "      <th>PrimaryPropertyType</th>\n",
       "      <th>PropertyName</th>\n",
       "      <th>Address</th>\n",
       "      <th>City</th>\n",
       "      <th>State</th>\n",
       "      <th>ZipCode</th>\n",
       "      <th>TaxParcelIdentificationNumber</th>\n",
       "      <th>...</th>\n",
       "      <th>Electricity(kWh)</th>\n",
       "      <th>Electricity(kBtu)</th>\n",
       "      <th>NaturalGas(therms)</th>\n",
       "      <th>NaturalGas(kBtu)</th>\n",
       "      <th>DefaultData</th>\n",
       "      <th>Comments</th>\n",
       "      <th>ComplianceStatus</th>\n",
       "      <th>Outlier</th>\n",
       "      <th>TotalGHGEmissions</th>\n",
       "      <th>GHGEmissionsIntensity</th>\n",
       "    </tr>\n",
       "  </thead>\n",
       "  <tbody>\n",
       "    <tr>\n",
       "      <th>1663</th>\n",
       "      <td>50222</td>\n",
       "      <td>2016</td>\n",
       "      <td>Nonresidential COS</td>\n",
       "      <td>Office</td>\n",
       "      <td>Horticulture building</td>\n",
       "      <td>1600 S Dakota St</td>\n",
       "      <td>Seattle</td>\n",
       "      <td>WA</td>\n",
       "      <td>NaN</td>\n",
       "      <td>1624049080</td>\n",
       "      <td>...</td>\n",
       "      <td>153655.0000</td>\n",
       "      <td>5.242709e+05</td>\n",
       "      <td>3254.750244</td>\n",
       "      <td>3.254750e+05</td>\n",
       "      <td>True</td>\n",
       "      <td>NaN</td>\n",
       "      <td>Error - Correct Default Data</td>\n",
       "      <td>NaN</td>\n",
       "      <td>20.94</td>\n",
       "      <td>1.70</td>\n",
       "    </tr>\n",
       "    <tr>\n",
       "      <th>1664</th>\n",
       "      <td>50223</td>\n",
       "      <td>2016</td>\n",
       "      <td>Nonresidential COS</td>\n",
       "      <td>Other</td>\n",
       "      <td>International district/Chinatown CC</td>\n",
       "      <td>719 8th Ave S</td>\n",
       "      <td>Seattle</td>\n",
       "      <td>WA</td>\n",
       "      <td>NaN</td>\n",
       "      <td>3558300000</td>\n",
       "      <td>...</td>\n",
       "      <td>116221.0000</td>\n",
       "      <td>3.965461e+05</td>\n",
       "      <td>5537.299805</td>\n",
       "      <td>5.537300e+05</td>\n",
       "      <td>False</td>\n",
       "      <td>NaN</td>\n",
       "      <td>Compliant</td>\n",
       "      <td>NaN</td>\n",
       "      <td>32.17</td>\n",
       "      <td>2.01</td>\n",
       "    </tr>\n",
       "    <tr>\n",
       "      <th>1665</th>\n",
       "      <td>50224</td>\n",
       "      <td>2016</td>\n",
       "      <td>Nonresidential COS</td>\n",
       "      <td>Other</td>\n",
       "      <td>Queen Anne Pool</td>\n",
       "      <td>1920 1st Ave W</td>\n",
       "      <td>Seattle</td>\n",
       "      <td>WA</td>\n",
       "      <td>NaN</td>\n",
       "      <td>1794501150</td>\n",
       "      <td>...</td>\n",
       "      <td>525251.6875</td>\n",
       "      <td>1.792159e+06</td>\n",
       "      <td>39737.390630</td>\n",
       "      <td>3.973739e+06</td>\n",
       "      <td>False</td>\n",
       "      <td>NaN</td>\n",
       "      <td>Compliant</td>\n",
       "      <td>NaN</td>\n",
       "      <td>223.54</td>\n",
       "      <td>16.99</td>\n",
       "    </tr>\n",
       "    <tr>\n",
       "      <th>1666</th>\n",
       "      <td>50225</td>\n",
       "      <td>2016</td>\n",
       "      <td>Nonresidential COS</td>\n",
       "      <td>Mixed Use Property</td>\n",
       "      <td>South Park Community Center</td>\n",
       "      <td>8319 8th Ave S</td>\n",
       "      <td>Seattle</td>\n",
       "      <td>WA</td>\n",
       "      <td>NaN</td>\n",
       "      <td>7883603155</td>\n",
       "      <td>...</td>\n",
       "      <td>102248.0000</td>\n",
       "      <td>3.488702e+05</td>\n",
       "      <td>3706.010010</td>\n",
       "      <td>3.706010e+05</td>\n",
       "      <td>False</td>\n",
       "      <td>NaN</td>\n",
       "      <td>Compliant</td>\n",
       "      <td>NaN</td>\n",
       "      <td>22.11</td>\n",
       "      <td>1.57</td>\n",
       "    </tr>\n",
       "    <tr>\n",
       "      <th>1667</th>\n",
       "      <td>50226</td>\n",
       "      <td>2016</td>\n",
       "      <td>Nonresidential COS</td>\n",
       "      <td>Mixed Use Property</td>\n",
       "      <td>Van Asselt Community Center</td>\n",
       "      <td>2820 S Myrtle St</td>\n",
       "      <td>Seattle</td>\n",
       "      <td>WA</td>\n",
       "      <td>NaN</td>\n",
       "      <td>7857002030</td>\n",
       "      <td>...</td>\n",
       "      <td>126774.3984</td>\n",
       "      <td>4.325542e+05</td>\n",
       "      <td>7203.419922</td>\n",
       "      <td>7.203420e+05</td>\n",
       "      <td>False</td>\n",
       "      <td>NaN</td>\n",
       "      <td>Compliant</td>\n",
       "      <td>NaN</td>\n",
       "      <td>41.27</td>\n",
       "      <td>2.26</td>\n",
       "    </tr>\n",
       "  </tbody>\n",
       "</table>\n",
       "<p>5 rows × 46 columns</p>\n",
       "</div>"
      ],
      "text/plain": [
       "      OSEBuildingID  DataYear        BuildingType PrimaryPropertyType  \\\n",
       "1663          50222      2016  Nonresidential COS              Office   \n",
       "1664          50223      2016  Nonresidential COS               Other   \n",
       "1665          50224      2016  Nonresidential COS               Other   \n",
       "1666          50225      2016  Nonresidential COS  Mixed Use Property   \n",
       "1667          50226      2016  Nonresidential COS  Mixed Use Property   \n",
       "\n",
       "                             PropertyName           Address     City State  \\\n",
       "1663                Horticulture building  1600 S Dakota St  Seattle    WA   \n",
       "1664  International district/Chinatown CC     719 8th Ave S  Seattle    WA   \n",
       "1665                      Queen Anne Pool    1920 1st Ave W  Seattle    WA   \n",
       "1666          South Park Community Center    8319 8th Ave S  Seattle    WA   \n",
       "1667          Van Asselt Community Center  2820 S Myrtle St  Seattle    WA   \n",
       "\n",
       "      ZipCode TaxParcelIdentificationNumber  ...  Electricity(kWh)  \\\n",
       "1663      NaN                    1624049080  ...       153655.0000   \n",
       "1664      NaN                    3558300000  ...       116221.0000   \n",
       "1665      NaN                    1794501150  ...       525251.6875   \n",
       "1666      NaN                    7883603155  ...       102248.0000   \n",
       "1667      NaN                    7857002030  ...       126774.3984   \n",
       "\n",
       "     Electricity(kBtu)  NaturalGas(therms)  NaturalGas(kBtu)  DefaultData  \\\n",
       "1663      5.242709e+05         3254.750244      3.254750e+05         True   \n",
       "1664      3.965461e+05         5537.299805      5.537300e+05        False   \n",
       "1665      1.792159e+06        39737.390630      3.973739e+06        False   \n",
       "1666      3.488702e+05         3706.010010      3.706010e+05        False   \n",
       "1667      4.325542e+05         7203.419922      7.203420e+05        False   \n",
       "\n",
       "      Comments              ComplianceStatus  Outlier  TotalGHGEmissions  \\\n",
       "1663       NaN  Error - Correct Default Data      NaN              20.94   \n",
       "1664       NaN                     Compliant      NaN              32.17   \n",
       "1665       NaN                     Compliant      NaN             223.54   \n",
       "1666       NaN                     Compliant      NaN              22.11   \n",
       "1667       NaN                     Compliant      NaN              41.27   \n",
       "\n",
       "      GHGEmissionsIntensity  \n",
       "1663                   1.70  \n",
       "1664                   2.01  \n",
       "1665                  16.99  \n",
       "1666                   1.57  \n",
       "1667                   2.26  \n",
       "\n",
       "[5 rows x 46 columns]"
      ]
     },
     "execution_count": 457,
     "metadata": {},
     "output_type": "execute_result"
    }
   ],
   "source": [
    "DF_non_residential.tail()"
   ]
  },
  {
   "cell_type": "code",
   "execution_count": 458,
   "metadata": {},
   "outputs": [
    {
     "name": "stdout",
     "output_type": "stream",
     "text": [
      "<class 'pandas.core.frame.DataFrame'>\n",
      "RangeIndex: 1668 entries, 0 to 1667\n",
      "Data columns (total 46 columns):\n",
      " #   Column                           Non-Null Count  Dtype  \n",
      "---  ------                           --------------  -----  \n",
      " 0   OSEBuildingID                    1668 non-null   int64  \n",
      " 1   DataYear                         1668 non-null   int64  \n",
      " 2   BuildingType                     1668 non-null   object \n",
      " 3   PrimaryPropertyType              1668 non-null   object \n",
      " 4   PropertyName                     1668 non-null   object \n",
      " 5   Address                          1668 non-null   object \n",
      " 6   City                             1668 non-null   object \n",
      " 7   State                            1668 non-null   object \n",
      " 8   ZipCode                          1652 non-null   float64\n",
      " 9   TaxParcelIdentificationNumber    1668 non-null   object \n",
      " 10  CouncilDistrictCode              1668 non-null   int64  \n",
      " 11  Neighborhood                     1668 non-null   object \n",
      " 12  Latitude                         1668 non-null   float64\n",
      " 13  Longitude                        1668 non-null   float64\n",
      " 14  YearBuilt                        1668 non-null   int64  \n",
      " 15  NumberofBuildings                1666 non-null   float64\n",
      " 16  NumberofFloors                   1668 non-null   int64  \n",
      " 17  PropertyGFATotal                 1668 non-null   int64  \n",
      " 18  PropertyGFAParking               1668 non-null   int64  \n",
      " 19  PropertyGFABuilding(s)           1668 non-null   int64  \n",
      " 20  ListOfAllPropertyUseTypes        1666 non-null   object \n",
      " 21  LargestPropertyUseType           1662 non-null   object \n",
      " 22  LargestPropertyUseTypeGFA        1662 non-null   float64\n",
      " 23  SecondLargestPropertyUseType     855 non-null    object \n",
      " 24  SecondLargestPropertyUseTypeGFA  855 non-null    float64\n",
      " 25  ThirdLargestPropertyUseType      353 non-null    object \n",
      " 26  ThirdLargestPropertyUseTypeGFA   353 non-null    float64\n",
      " 27  YearsENERGYSTARCertified         98 non-null     object \n",
      " 28  ENERGYSTARScore                  1094 non-null   float64\n",
      " 29  SiteEUI(kBtu/sf)                 1665 non-null   float64\n",
      " 30  SiteEUIWN(kBtu/sf)               1665 non-null   float64\n",
      " 31  SourceEUI(kBtu/sf)               1666 non-null   float64\n",
      " 32  SourceEUIWN(kBtu/sf)             1666 non-null   float64\n",
      " 33  SiteEnergyUse(kBtu)              1666 non-null   float64\n",
      " 34  SiteEnergyUseWN(kBtu)            1665 non-null   float64\n",
      " 35  SteamUse(kBtu)                   1666 non-null   float64\n",
      " 36  Electricity(kWh)                 1666 non-null   float64\n",
      " 37  Electricity(kBtu)                1666 non-null   float64\n",
      " 38  NaturalGas(therms)               1666 non-null   float64\n",
      " 39  NaturalGas(kBtu)                 1666 non-null   float64\n",
      " 40  DefaultData                      1668 non-null   bool   \n",
      " 41  Comments                         0 non-null      float64\n",
      " 42  ComplianceStatus                 1668 non-null   object \n",
      " 43  Outlier                          17 non-null     object \n",
      " 44  TotalGHGEmissions                1666 non-null   float64\n",
      " 45  GHGEmissionsIntensity            1666 non-null   float64\n",
      "dtypes: bool(1), float64(22), int64(8), object(15)\n",
      "memory usage: 588.2+ KB\n"
     ]
    }
   ],
   "source": [
    "DF_non_residential.info()"
   ]
  },
  {
   "cell_type": "code",
   "execution_count": 459,
   "metadata": {},
   "outputs": [
    {
     "data": {
      "text/plain": [
       "array(['Seattle'], dtype=object)"
      ]
     },
     "execution_count": 459,
     "metadata": {},
     "output_type": "execute_result"
    }
   ],
   "source": [
    "DF_non_residential['City'].unique()"
   ]
  },
  {
   "cell_type": "code",
   "execution_count": 460,
   "metadata": {},
   "outputs": [
    {
     "data": {
      "text/plain": [
       "array(['WA'], dtype=object)"
      ]
     },
     "execution_count": 460,
     "metadata": {},
     "output_type": "execute_result"
    }
   ],
   "source": [
    "DF_non_residential['State'].unique()"
   ]
  },
  {
   "cell_type": "code",
   "execution_count": 461,
   "metadata": {},
   "outputs": [
    {
     "data": {
      "text/plain": [
       "array([98101., 98121., 98104., 98154., 98118., 98105., 98112., 98125.,\n",
       "       98109., 98070., 98108., 98199., 98115., 98107., 98144., 98103.,\n",
       "       98119., 98136., 98122., 98126., 98133., 98146., 98033., 98106.,\n",
       "       98111., 98134., 98117., 98116., 98191., 98164., 98195., 98185.,\n",
       "       98181., 98102., 98168., 98155., 98006., 98124., 98053., 98013.,\n",
       "       98178., 98114., 98165., 98011., 98113., 98177., 98020., 98145.,\n",
       "          nan])"
      ]
     },
     "execution_count": 461,
     "metadata": {},
     "output_type": "execute_result"
    }
   ],
   "source": [
    "DF_non_residential['ZipCode'].unique()"
   ]
  },
  {
   "cell_type": "code",
   "execution_count": 462,
   "metadata": {},
   "outputs": [
    {
     "data": {
      "text/plain": [
       "array(['405 Olive way', '724 Pine street', '1900 5th Avenue', ...,\n",
       "       '1920 1st Ave W', '8319 8th Ave S', '2820 S Myrtle St'],\n",
       "      dtype=object)"
      ]
     },
     "execution_count": 462,
     "metadata": {},
     "output_type": "execute_result"
    }
   ],
   "source": [
    "DF_non_residential['Address'].unique()"
   ]
  },
  {
   "cell_type": "code",
   "execution_count": 463,
   "metadata": {},
   "outputs": [
    {
     "data": {
      "text/plain": [
       "array([7, 3, 2, 4, 5, 6, 1], dtype=int64)"
      ]
     },
     "execution_count": 463,
     "metadata": {},
     "output_type": "execute_result"
    }
   ],
   "source": [
    "DF_non_residential['CouncilDistrictCode'].unique()"
   ]
  },
  {
   "cell_type": "code",
   "execution_count": 464,
   "metadata": {},
   "outputs": [
    {
     "data": {
      "text/plain": [
       "array(['DOWNTOWN', 'SOUTHEAST', 'NORTHEAST', 'EAST', 'Central', 'NORTH',\n",
       "       'MAGNOLIA / QUEEN ANNE', 'LAKE UNION', 'GREATER DUWAMISH',\n",
       "       'BALLARD', 'NORTHWEST', 'CENTRAL', 'SOUTHWEST', 'DELRIDGE',\n",
       "       'Ballard', 'North', 'Delridge', 'Northwest',\n",
       "       'DELRIDGE NEIGHBORHOODS'], dtype=object)"
      ]
     },
     "execution_count": 464,
     "metadata": {},
     "output_type": "execute_result"
    }
   ],
   "source": [
    "DF_non_residential['Neighborhood'].unique()"
   ]
  },
  {
   "cell_type": "code",
   "execution_count": 465,
   "metadata": {},
   "outputs": [
    {
     "data": {
      "text/plain": [
       "array(['Hotel', 'Other', 'Mixed Use Property', 'K-12 School',\n",
       "       'University', 'Small- and Mid-Sized Office',\n",
       "       'Self-Storage Facility', 'Warehouse', 'Large Office',\n",
       "       'Senior Care Community', 'Medical Office', 'Retail Store',\n",
       "       'Hospital', 'Residence Hall', 'Distribution Center',\n",
       "       'Worship Facility', 'Supermarket / Grocery Store', 'Laboratory',\n",
       "       'Refrigerated Warehouse', 'Restaurant', 'Low-Rise Multifamily',\n",
       "       'Office'], dtype=object)"
      ]
     },
     "execution_count": 465,
     "metadata": {},
     "output_type": "execute_result"
    }
   ],
   "source": [
    "DF_non_residential['PrimaryPropertyType'].unique()"
   ]
  },
  {
   "cell_type": "markdown",
   "metadata": {},
   "source": [
    "VOIR SI ON VIRE LOW RISE MULTIFAMILY ET RESIDENCE HALL"
   ]
  },
  {
   "cell_type": "code",
   "execution_count": 466,
   "metadata": {},
   "outputs": [],
   "source": [
    "DF_non_residential=DF_non_residential.loc[~DF_non_residential['PrimaryPropertyType'].str.contains\n",
    "                                           ('Low-Rise Multifamily |Residence Hall')]"
   ]
  },
  {
   "cell_type": "code",
   "execution_count": 467,
   "metadata": {},
   "outputs": [
    {
     "data": {
      "text/plain": [
       "array(['Hotel', 'Hotel, Parking, Restaurant',\n",
       "       'Hotel, Parking, Swimming Pool', 'Police Station',\n",
       "       'Other - Entertainment/Public Assembly', 'Hotel, Parking',\n",
       "       'Data Center, Library, Parking',\n",
       "       'Fitness Center/Health Club/Gym, Office, Swimming Pool',\n",
       "       'Office, Other, Other - Lodging/Residential, Restaurant, Social/Meeting Hall',\n",
       "       'Courthouse', 'Other', 'K-12 School', 'College/University',\n",
       "       'Automobile Dealership',\n",
       "       'Hotel, Parking, Retail Store, Swimming Pool',\n",
       "       'K-12 School, Multifamily Housing, Office, Other - Entertainment/Public Assembly',\n",
       "       'Self-Storage Facility',\n",
       "       'Energy/Power Station, Laboratory, Manufacturing/Industrial Plant, Non-Refrigerated Warehouse, Office',\n",
       "       'Non-Refrigerated Warehouse, Office, Refrigerated Warehouse',\n",
       "       'Non-Refrigerated Warehouse, Office', 'Office, Other - Education',\n",
       "       'Office, Self-Storage Facility, Vocational School',\n",
       "       'Data Center, Office, Retail Store',\n",
       "       'Other - Mall, Personal Services (Health/Beauty, Dry Cleaning, etc)',\n",
       "       'Office, Retail Store',\n",
       "       'Office, Other - Entertainment/Public Assembly, Restaurant',\n",
       "       'Hotel, Parking, Restaurant, Retail Store',\n",
       "       'Hotel, Other - Entertainment/Public Assembly, Retail Store',\n",
       "       'Office', 'Parking, Senior Care Community',\n",
       "       'Senior Care Community', 'Medical Office',\n",
       "       'Data Center, Medical Office, Non-Refrigerated Warehouse, Office, Other, Parking',\n",
       "       'Retail Store', 'Office, Other, Parking, Retail Store',\n",
       "       'Office, Other, Parking',\n",
       "       'Data Center, Distribution Center, Office, Parking, Retail Store',\n",
       "       'Hotel, Swimming Pool', 'Office, Parking', 'Other, Parking',\n",
       "       'Hospital (General Medical & Surgical), Parking', 'Office, Other',\n",
       "       'Museum', 'Data Center, Office',\n",
       "       'Repair Services (Vehicle, Shoe, Locksmith, etc)',\n",
       "       'Food Service, Office, Other - Lodging/Residential',\n",
       "       'K-12 School, Parking', 'Courthouse, Other',\n",
       "       'Non-Refrigerated Warehouse, Office, Other - Services',\n",
       "       'Restaurant, Retail Store', 'Other/Specialty Hospital',\n",
       "       'Hospital (General Medical & Surgical)',\n",
       "       'Financial Office, Medical Office, Parking',\n",
       "       'Non-Refrigerated Warehouse',\n",
       "       'Non-Refrigerated Warehouse, Office, Other - Services, Residence Hall/Dormitory',\n",
       "       'Data Center, Distribution Center, Office, Other, Parking',\n",
       "       'Office, Restaurant, Self-Storage Facility',\n",
       "       'Other - Entertainment/Public Assembly, Parking',\n",
       "       'Data Center, Distribution Center, Office, Other',\n",
       "       'Non-Refrigerated Warehouse, Office, Other, Other - Services',\n",
       "       'Food Service, Hotel, Parking',\n",
       "       'Laboratory, Non-Refrigerated Warehouse, Office, Other - Utility',\n",
       "       'Fast Food Restaurant, Medical Office, Movie Theater, Parking, Retail Store',\n",
       "       'Financial Office, Multifamily Housing, Parking, Retail Store, Supermarket/Grocery Store',\n",
       "       'Hotel, Other, Parking, Restaurant, Retail Store',\n",
       "       'Non-Refrigerated Warehouse, Parking',\n",
       "       'K-12 School, Medical Office, Office, Restaurant, Retail Store, Senior Care Community',\n",
       "       'Office, Restaurant', 'Worship Facility',\n",
       "       'Office, Other, Other - Entertainment/Public Assembly',\n",
       "       'Medical Office, Office', 'Other, Restaurant, Retail Store',\n",
       "       'Non-Refrigerated Warehouse, Other - Services',\n",
       "       'Financial Office, Laboratory, Office, Parking',\n",
       "       'Lifestyle Center, Office, Other, Parking, Restaurant',\n",
       "       'Office, Parking, Restaurant',\n",
       "       'Office, Other - Recreation, Parking, Retail Store',\n",
       "       'Fitness Center/Health Club/Gym, Office, Other, Parking, Restaurant',\n",
       "       'Office, Retail Store, Social/Meeting Hall',\n",
       "       'Convenience Store without Gas Station, Food Service, Office',\n",
       "       'Office, Parking, Pre-school/Daycare',\n",
       "       'Data Center, Office, Parking',\n",
       "       'Financial Office, Food Sales, Office, Other, Parking',\n",
       "       'Convenience Store without Gas Station, Data Center, Financial Office, Fitness Center/Health Club/Gym, Office, Other, Parking, Personal Services (Health/Beauty, Dry Cleaning, etc), Restaurant',\n",
       "       'Financial Office, Office, Parking, Retail Store',\n",
       "       'Non-Refrigerated Warehouse, Office, Retail Store',\n",
       "       'Data Center, Office, Other', 'Office, Other, Parking, Restaurant',\n",
       "       'Data Center', 'Fitness Center/Health Club/Gym, Office, Parking',\n",
       "       'Laboratory, Office, Parking',\n",
       "       'Office, Other, Other - Restaurant/Bar, Parking',\n",
       "       'Laboratory, Office, Other, Parking', 'Supermarket/Grocery Store',\n",
       "       'Office, Other, Restaurant',\n",
       "       'Office, Other - Restaurant/Bar, Retail Store, Single Family Home',\n",
       "       'Non-Refrigerated Warehouse, Other',\n",
       "       'Office, Performing Arts, Retail Store',\n",
       "       'Office, Other - Restaurant/Bar, Parking',\n",
       "       'Office, Other - Education, Parking',\n",
       "       'Financial Office, Office, Other, Parking, Restaurant',\n",
       "       'Distribution Center, Non-Refrigerated Warehouse, Office',\n",
       "       'Office, Parking, Personal Services (Health/Beauty, Dry Cleaning, etc)',\n",
       "       'College/University, Office, Restaurant',\n",
       "       'Financial Office, Office, Other, Parking, Restaurant, Retail Store',\n",
       "       'Office, Parking, Retail Store', 'Office, Other, Retail Store',\n",
       "       'Office, Restaurant, Retail Store',\n",
       "       'Bank Branch, Office, Other, Parking, Restaurant',\n",
       "       'Medical Office, Office, Supermarket/Grocery Store',\n",
       "       'Food Sales, Multifamily Housing, Office, Other - Education, Other - Restaurant/Bar, Pre-school/Daycare, Restaurant, Retail Store, Supermarket/Grocery Store',\n",
       "       'Office, Other - Restaurant/Bar, Parking, Retail Store',\n",
       "       'Movie Theater, Other - Restaurant/Bar, Parking',\n",
       "       'Laboratory, Office',\n",
       "       'Data Center, Office, Parking, Restaurant, Retail Store',\n",
       "       'Other, Retail Store', 'Convention Center, Parking',\n",
       "       'Urgent Care/Clinic/Other Outpatient', 'Medical Office, Parking',\n",
       "       'Data Center, Office, Parking, Performing Arts, Restaurant, Retail Store',\n",
       "       'Data Center, Financial Office, Office, Other, Parking, Restaurant',\n",
       "       'Distribution Center, Office', 'Distribution Center',\n",
       "       'Adult Education, Bank Branch, Office, Parking',\n",
       "       'Data Center, Office, Other, Restaurant',\n",
       "       'Parking, Retail Store, Supermarket/Grocery Store',\n",
       "       'Data Center, Laboratory', 'Laboratory',\n",
       "       'Financial Office, Food Service, Office, Other, Parking',\n",
       "       'Medical Office, Office, Parking',\n",
       "       'Fitness Center/Health Club/Gym, Office, Parking, Restaurant',\n",
       "       'Bank Branch, Office, Parking',\n",
       "       'Non-Refrigerated Warehouse, Office, Other, Other - Entertainment/Public Assembly, Parking',\n",
       "       'Fitness Center/Health Club/Gym, Office, Other - Education, Other - Recreation, Other - Restaurant/Bar, Outpatient Rehabilitation/Physical Therapy, Personal Services (Health/Beauty, Dry Cleaning, etc), Restaurant, Retail Store, Self-Storage Facility, Vocat',\n",
       "       'Parking, Supermarket/Grocery Store', 'Office, Other - Services',\n",
       "       'Parking, Strip Mall', 'Wholesale Club/Supercenter',\n",
       "       'Retail Store, Supermarket/Grocery Store',\n",
       "       'Data Center, Office, Parking, Restaurant',\n",
       "       'Data Center, Library, Non-Refrigerated Warehouse, Office, Other - Entertainment/Public Assembly, Other - Recreation, Other - Services, Restaurant, Social/Meeting Hall',\n",
       "       'Multifamily Housing, Non-Refrigerated Warehouse, Office, Parking, Retail Store',\n",
       "       'Parking, Retail Store', 'Parking, Self-Storage Facility',\n",
       "       'Distribution Center, Parking',\n",
       "       'Office, Parking, Refrigerated Warehouse',\n",
       "       'Office, Other - Services, Parking', 'Strip Mall',\n",
       "       'Medical Office, Retail Store', 'Restaurant',\n",
       "       'Refrigerated Warehouse',\n",
       "       'Multifamily Housing, Parking, Restaurant, Retail Store',\n",
       "       'Food Service, Office, Parking, Restaurant',\n",
       "       'Enclosed Mall, Office',\n",
       "       'Data Center, Office, Other, Other - Entertainment/Public Assembly',\n",
       "       'Non-Refrigerated Warehouse, Retail Store',\n",
       "       'Distribution Center, Office, Other',\n",
       "       'Manufacturing/Industrial Plant',\n",
       "       'Multifamily Housing, Non-Refrigerated Warehouse, Office, Parking',\n",
       "       'Distribution Center, Office, Parking',\n",
       "       'Distribution Center, Non-Refrigerated Warehouse, Office, Retail Store',\n",
       "       'Distribution Center, Office, Other, Other - Recreation, Parking',\n",
       "       'Medical Office, Other, Parking',\n",
       "       'Financial Office, Hotel, Multifamily Housing, Other, Parking, Restaurant, Supermarket/Grocery Store',\n",
       "       'Data Center, Office, Restaurant',\n",
       "       'Data Center, Financial Office, Office, Parking, Restaurant',\n",
       "       'Other - Recreation, Parking, Swimming Pool', 'Lifestyle Center',\n",
       "       'Personal Services (Health/Beauty, Dry Cleaning, etc), Retail Store, Supermarket/Grocery Store',\n",
       "       'Non-Refrigerated Warehouse, Office, Other, Other - Recreation, Other - Services, Restaurant',\n",
       "       'Adult Education, Fitness Center/Health Club/Gym, Office, Other - Restaurant/Bar, Parking, Retail Store',\n",
       "       'Non-Refrigerated Warehouse, Office, Other',\n",
       "       'Distribution Center, Office, Retail Store',\n",
       "       'Other - Public Services, Parking',\n",
       "       'Multifamily Housing, Non-Refrigerated Warehouse, Office, Parking, Retail Store, Worship Facility',\n",
       "       'Data Center, Office, Other, Parking',\n",
       "       'Bar/Nightclub, Office, Personal Services (Health/Beauty, Dry Cleaning, etc)',\n",
       "       'Medical Office, Parking, Retail Store',\n",
       "       'Office, Other - Entertainment/Public Assembly, Other - Mall, Restaurant',\n",
       "       'Office, Performing Arts, Restaurant, Retail Store, Self-Storage Facility',\n",
       "       'Office, Other - Restaurant/Bar, Other - Technology/Science, Parking',\n",
       "       'Office, Other - Technology/Science, Parking',\n",
       "       'Financial Office, Food Service, Office, Other',\n",
       "       'Data Center, Medical Office, Office, Parking, Restaurant', nan,\n",
       "       'College/University, Parking',\n",
       "       'Data Center, Non-Refrigerated Warehouse, Office, Retail Store',\n",
       "       'Non-Refrigerated Warehouse, Other, Parking, Retail Store',\n",
       "       'Other, Parking, Restaurant, Retail Store',\n",
       "       'Distribution Center, Non-Refrigerated Warehouse, Refrigerated Warehouse',\n",
       "       'Non-Refrigerated Warehouse, Office, Other - Services, Retail Store',\n",
       "       'Multifamily Housing, Office, Parking, Retail Store',\n",
       "       'Non-Refrigerated Warehouse, Other, Restaurant, Retail Store',\n",
       "       'Financial Office',\n",
       "       'Other - Entertainment/Public Assembly, Restaurant',\n",
       "       'Hotel, Parking, Restaurant, Swimming Pool',\n",
       "       'Data Center, Non-Refrigerated Warehouse, Other, Refrigerated Warehouse, Repair Services (Vehicle, Shoe, Locksmith, etc), Restaurant',\n",
       "       'Laboratory, Medical Office', 'Automobile Dealership, Office',\n",
       "       'Manufacturing/Industrial Plant, Office, Parking, Retail Store',\n",
       "       'Multifamily Housing',\n",
       "       'Office, Other, Retail Store, Swimming Pool',\n",
       "       'Medical Office, Office, Other, Other - Services, Parking, Retail Store',\n",
       "       'Parking, Restaurant', 'Social/Meeting Hall',\n",
       "       'Office, Other - Lodging/Residential', 'Bank Branch, Office',\n",
       "       'Other - Education', 'K-12 School, Worship Facility',\n",
       "       'Bank Branch, Other, Parking', 'Fire Station',\n",
       "       'Other - Entertainment/Public Assembly, Parking, Social/Meeting Hall, Swimming Pool',\n",
       "       'Non-Refrigerated Warehouse, Office, Other, Retail Store',\n",
       "       'Non-Refrigerated Warehouse, Other, Retail Store',\n",
       "       'Bank Branch, Financial Office',\n",
       "       'Bank Branch, Parking, Senior Care Community',\n",
       "       'Parking, Worship Facility',\n",
       "       'Medical Office, Multifamily Housing, Office, Restaurant, Retail Store',\n",
       "       'Multifamily Housing, Other - Entertainment/Public Assembly',\n",
       "       'Other, Worship Facility', 'Hotel, Restaurant',\n",
       "       'Office, Social/Meeting Hall', 'Performing Arts',\n",
       "       'Non-Refrigerated Warehouse, Office, Other - Recreation, Restaurant',\n",
       "       'Other - Recreation, Parking, Restaurant',\n",
       "       'Fitness Center/Health Club/Gym, Swimming Pool',\n",
       "       'Food Service, Retail Store, Supermarket/Grocery Store',\n",
       "       'Other - Mall, Restaurant',\n",
       "       'Distribution Center, Office, Refrigerated Warehouse',\n",
       "       'K-12 School, Office, Retail Store', 'Other - Recreation',\n",
       "       'Other - Services',\n",
       "       'Fitness Center/Health Club/Gym, Office, Other - Recreation, Pre-school/Daycare',\n",
       "       'Non-Refrigerated Warehouse, Office, Self-Storage Facility',\n",
       "       'Automobile Dealership, Parking',\n",
       "       'Non-Refrigerated Warehouse, Other - Recreation',\n",
       "       'Multifamily Housing, Office, Other - Mall, Parking, Restaurant',\n",
       "       'Hotel, Retail Store',\n",
       "       'Bank Branch, Bar/Nightclub, Office, Parking',\n",
       "       'Multifamily Housing, Office', 'Residential Care Facility',\n",
       "       'Bank Branch', 'Office, Worship Facility',\n",
       "       'Other - Education, Parking',\n",
       "       'Food Service, Office, Other - Entertainment/Public Assembly',\n",
       "       'Office, Other, Other - Services, Residence Hall/Dormitory, Restaurant',\n",
       "       'Food Service, Office, Parking',\n",
       "       'Bank Branch, Office, Parking, Restaurant',\n",
       "       'Other - Entertainment/Public Assembly, Restaurant, Retail Store',\n",
       "       'Food Sales, Office, Restaurant, Retail Store, Self-Storage Facility, Social/Meeting Hall',\n",
       "       'Bar/Nightclub, Food Sales, Multifamily Housing, Restaurant, Retail Store, Self-Storage Facility',\n",
       "       'Food Sales, Office, Restaurant',\n",
       "       'Food Sales, Manufacturing/Industrial Plant, Office, Other - Entertainment/Public Assembly, Other - Restaurant/Bar, Restaurant, Retail Store, Self-Storage Facility',\n",
       "       'Multifamily Housing, Office, Restaurant', 'Food Service',\n",
       "       'Hotel, Multifamily Housing, Parking, Retail Store',\n",
       "       'Medical Office, Office, Retail Store',\n",
       "       'Other - Recreation, Self-Storage Facility',\n",
       "       'Office, Repair Services (Vehicle, Shoe, Locksmith, etc), Retail Store',\n",
       "       'Adult Education, Parking', 'Office, Other - Recreation',\n",
       "       'Medical Office, Non-Refrigerated Warehouse, Office, Retail Store',\n",
       "       'Bank Branch, Medical Office, Parking, Retail Store',\n",
       "       'Library, Other - Services',\n",
       "       'Fitness Center/Health Club/Gym, Office',\n",
       "       'Distribution Center, Non-Refrigerated Warehouse',\n",
       "       'Multifamily Housing, Office, Other, Strip Mall',\n",
       "       'Fitness Center/Health Club/Gym, Other - Recreation, Swimming Pool',\n",
       "       'Office, Parking, Self-Storage Facility',\n",
       "       'Office, Repair Services (Vehicle, Shoe, Locksmith, etc)',\n",
       "       'Data Center, Non-Refrigerated Warehouse, Office',\n",
       "       'Medical Office, Office, Worship Facility',\n",
       "       'Medical Office, Other/Specialty Hospital, Outpatient Rehabilitation/Physical Therapy, Parking',\n",
       "       'Adult Education', 'Museum, Parking',\n",
       "       'Bank Branch, Multifamily Housing, Office, Other, Retail Store',\n",
       "       'Office, Other - Utility, Parking',\n",
       "       'Office, Restaurant, Supermarket/Grocery Store',\n",
       "       'Multifamily Housing, Non-Refrigerated Warehouse, Office, Retail Store',\n",
       "       'Other - Recreation, Worship Facility',\n",
       "       'Non-Refrigerated Warehouse, Office, Other, Parking, Retail Store',\n",
       "       'Medical Office, Non-Refrigerated Warehouse, Office, Other',\n",
       "       'Other - Lodging/Residential, Parking',\n",
       "       'Manufacturing/Industrial Plant, Parking',\n",
       "       'Office, Refrigerated Warehouse',\n",
       "       'Office, Other - Public Services',\n",
       "       'Non-Refrigerated Warehouse, Parking, Repair Services (Vehicle, Shoe, Locksmith, etc), Retail Store',\n",
       "       'Food Service, Non-Refrigerated Warehouse, Retail Store',\n",
       "       'Fitness Center/Health Club/Gym, Office, Other - Recreation',\n",
       "       'Distribution Center, Non-Refrigerated Warehouse, Office, Other - Education, Parking',\n",
       "       'Movie Theater',\n",
       "       'Fast Food Restaurant, Other, Other - Entertainment/Public Assembly',\n",
       "       'College/University, Medical Office',\n",
       "       'Fitness Center/Health Club/Gym, Office, Other - Recreation, Other - Technology/Science, Pre-school/Daycare, Swimming Pool',\n",
       "       'Food Service, Other, Other - Education, Other - Entertainment/Public Assembly, Other - Recreation, Social/Meeting Hall',\n",
       "       'Other, Other - Entertainment/Public Assembly, Self-Storage Facility',\n",
       "       'Other, Refrigerated Warehouse',\n",
       "       'Non-Refrigerated Warehouse, Office, Social/Meeting Hall',\n",
       "       'Other, Supermarket/Grocery Store', 'Bank Branch, Retail Store',\n",
       "       'Non-Refrigerated Warehouse, Other, Refrigerated Warehouse',\n",
       "       'Other - Mall, Parking',\n",
       "       'Non-Refrigerated Warehouse, Worship Facility',\n",
       "       'Personal Services (Health/Beauty, Dry Cleaning, etc)',\n",
       "       'Non-Refrigerated Warehouse, Office, Repair Services (Vehicle, Shoe, Locksmith, etc)',\n",
       "       'Hotel, Multifamily Housing, Parking',\n",
       "       'College/University, Restaurant',\n",
       "       'Office, Other, Refrigerated Warehouse',\n",
       "       'Other, Parking, Restaurant',\n",
       "       'Multifamily Housing, Office, Other, Parking',\n",
       "       'Financial Office, Multifamily Housing, Parking, Residence Hall/Dormitory',\n",
       "       'Office, Restaurant, Retail Store, Self-Storage Facility',\n",
       "       'Bar/Nightclub, Multifamily Housing',\n",
       "       'Office, Other, Worship Facility',\n",
       "       'Food Sales, Non-Refrigerated Warehouse, Office',\n",
       "       'Multifamily Housing, Office, Other - Entertainment/Public Assembly, Parking',\n",
       "       'Medical Office, Office, Other, Restaurant, Retail Store',\n",
       "       'Pre-school/Daycare, Worship Facility',\n",
       "       'Parking, Senior Care Community, Worship Facility',\n",
       "       'Multifamily Housing, Office, Parking, Restaurant',\n",
       "       'Fitness Center/Health Club/Gym, Office, Other, Other - Utility, Restaurant, Retail Store',\n",
       "       'Bank Branch, Parking', 'Office, Other - Restaurant/Bar',\n",
       "       'Manufacturing/Industrial Plant, Office, Retail Store',\n",
       "       'Food Service, Library, Office, Parking',\n",
       "       'K-12 School, Office, Supermarket/Grocery Store, Worship Facility',\n",
       "       'Bar/Nightclub, Food Sales, Museum, Retail Store, Supermarket/Grocery Store',\n",
       "       'Office, Other - Entertainment/Public Assembly',\n",
       "       'Other - Lodging/Residential',\n",
       "       'Multifamily Housing, Retail Store, Social/Meeting Hall',\n",
       "       'Multifamily Housing, Office, Other',\n",
       "       'Fitness Center/Health Club/Gym, Office, Other - Recreation, Other - Technology/Science, Parking, Pre-school/Daycare',\n",
       "       'Other - Education, Performing Arts, Social/Meeting Hall',\n",
       "       'Office, Supermarket/Grocery Store',\n",
       "       'Fitness Center/Health Club/Gym, Medical Office, Office, Parking, Restaurant',\n",
       "       'Non-Refrigerated Warehouse, Office, Parking',\n",
       "       'Non-Refrigerated Warehouse, Office, Restaurant, Retail Store',\n",
       "       'Office, Other - Entertainment/Public Assembly, Other - Public Services, Restaurant, Urgent Care/Clinic/Other Outpatient',\n",
       "       'Other - Education, Worship Facility', 'Library, Parking',\n",
       "       'Multifamily Housing, Parking, Supermarket/Grocery Store',\n",
       "       'Other - Services, Retail Store',\n",
       "       'K-12 School, Office, Social/Meeting Hall, Worship Facility',\n",
       "       'Multifamily Housing, Parking, Retail Store', 'Laboratory, Other',\n",
       "       'Distribution Center, Non-Refrigerated Warehouse, Supermarket/Grocery Store',\n",
       "       'Office, Other, Other - Restaurant/Bar, Strip Mall',\n",
       "       'Multifamily Housing, Parking, Personal Services (Health/Beauty, Dry Cleaning, etc), Retail Store, Supermarket/Grocery Store',\n",
       "       'Multifamily Housing, Office, Parking', 'Other - Utility',\n",
       "       'Hospital (General Medical & Surgical), Other',\n",
       "       'Hotel, Parking, Retail Store',\n",
       "       'Data Center, Multifamily Housing, Office, Other, Parking',\n",
       "       'Data Center, Parking',\n",
       "       'Convenience Store without Gas Station, Laboratory, Parking',\n",
       "       'Lifestyle Center, Medical Office', 'Parking, Pre-school/Daycare',\n",
       "       'Fitness Center/Health Club/Gym, Office, Other - Education, Other - Recreation, Other - Technology/Science, Pre-school/Daycare, Swimming Pool',\n",
       "       'Movie Theater, Office, Vocational School',\n",
       "       'Office, Other - Public Services, Personal Services (Health/Beauty, Dry Cleaning, etc), Senior Care Community',\n",
       "       'Pre-school/Daycare',\n",
       "       'Multifamily Housing, Office, Parking, Restaurant, Retail Store',\n",
       "       'Data Center, Laboratory, Museum, Office, Other, Parking',\n",
       "       'Fitness Center/Health Club/Gym, Office, Other - Recreation, Pre-school/Daycare, Social/Meeting Hall',\n",
       "       'Prison/Incarceration',\n",
       "       'Fitness Center/Health Club/Gym, Food Service, Office, Other - Recreation, Pre-school/Daycare',\n",
       "       'Fitness Center/Health Club/Gym, Office, Other - Recreation, Swimming Pool',\n",
       "       'Fitness Center/Health Club/Gym, Office, Other - Recreation, Other - Technology/Science'],\n",
       "      dtype=object)"
      ]
     },
     "execution_count": 467,
     "metadata": {},
     "output_type": "execute_result"
    }
   ],
   "source": [
    "DF_non_residential['ListOfAllPropertyUseTypes'].unique()"
   ]
  },
  {
   "cell_type": "code",
   "execution_count": 468,
   "metadata": {},
   "outputs": [
    {
     "data": {
      "text/plain": [
       "dtype('O')"
      ]
     },
     "execution_count": 468,
     "metadata": {},
     "output_type": "execute_result"
    }
   ],
   "source": [
    "DF_non_residential['ListOfAllPropertyUseTypes'].dtype"
   ]
  },
  {
   "cell_type": "code",
   "execution_count": 469,
   "metadata": {},
   "outputs": [],
   "source": [
    "DF_non_residential['ListOfAllPropertyUseTypes'] = DF_non_residential['ListOfAllPropertyUseTypes'].astype(str)"
   ]
  },
  {
   "cell_type": "code",
   "execution_count": 470,
   "metadata": {},
   "outputs": [],
   "source": [
    "Liste_à_exclure=['Senior Care Community','Hotel','Lodging/Residential','Residence Hall/Dormitory',\n",
    "                 'Multifamily Housing','Comments']\n",
    "pattern='|'.join(Liste_à_exclure)"
   ]
  },
  {
   "cell_type": "code",
   "execution_count": 471,
   "metadata": {},
   "outputs": [],
   "source": [
    "DF_non_residential = DF_non_residential[pd.notna(DF_non_residential['ListOfAllPropertyUseTypes']) &\n",
    "                                        ~DF_non_residential['ListOfAllPropertyUseTypes']\n",
    "                                        .str.contains(pattern)]\n"
   ]
  },
  {
   "cell_type": "markdown",
   "metadata": {},
   "source": [
    "'Prison/Incarceration' "
   ]
  },
  {
   "cell_type": "code",
   "execution_count": 472,
   "metadata": {},
   "outputs": [
    {
     "name": "stdout",
     "output_type": "stream",
     "text": [
      "<class 'pandas.core.frame.DataFrame'>\n",
      "RangeIndex: 1501 entries, 0 to 1500\n",
      "Data columns (total 46 columns):\n",
      " #   Column                           Non-Null Count  Dtype  \n",
      "---  ------                           --------------  -----  \n",
      " 0   OSEBuildingID                    1501 non-null   int64  \n",
      " 1   DataYear                         1501 non-null   int64  \n",
      " 2   BuildingType                     1501 non-null   object \n",
      " 3   PrimaryPropertyType              1501 non-null   object \n",
      " 4   PropertyName                     1501 non-null   object \n",
      " 5   Address                          1501 non-null   object \n",
      " 6   City                             1501 non-null   object \n",
      " 7   State                            1501 non-null   object \n",
      " 8   ZipCode                          1485 non-null   float64\n",
      " 9   TaxParcelIdentificationNumber    1501 non-null   object \n",
      " 10  CouncilDistrictCode              1501 non-null   int64  \n",
      " 11  Neighborhood                     1501 non-null   object \n",
      " 12  Latitude                         1501 non-null   float64\n",
      " 13  Longitude                        1501 non-null   float64\n",
      " 14  YearBuilt                        1501 non-null   int64  \n",
      " 15  NumberofBuildings                1499 non-null   float64\n",
      " 16  NumberofFloors                   1501 non-null   int64  \n",
      " 17  PropertyGFATotal                 1501 non-null   int64  \n",
      " 18  PropertyGFAParking               1501 non-null   int64  \n",
      " 19  PropertyGFABuilding(s)           1501 non-null   int64  \n",
      " 20  ListOfAllPropertyUseTypes        1501 non-null   object \n",
      " 21  LargestPropertyUseType           1496 non-null   object \n",
      " 22  LargestPropertyUseTypeGFA        1496 non-null   float64\n",
      " 23  SecondLargestPropertyUseType     758 non-null    object \n",
      " 24  SecondLargestPropertyUseTypeGFA  758 non-null    float64\n",
      " 25  ThirdLargestPropertyUseType      295 non-null    object \n",
      " 26  ThirdLargestPropertyUseTypeGFA   295 non-null    float64\n",
      " 27  YearsENERGYSTARCertified         95 non-null     object \n",
      " 28  ENERGYSTARScore                  971 non-null    float64\n",
      " 29  SiteEUI(kBtu/sf)                 1498 non-null   float64\n",
      " 30  SiteEUIWN(kBtu/sf)               1498 non-null   float64\n",
      " 31  SourceEUI(kBtu/sf)               1499 non-null   float64\n",
      " 32  SourceEUIWN(kBtu/sf)             1499 non-null   float64\n",
      " 33  SiteEnergyUse(kBtu)              1499 non-null   float64\n",
      " 34  SiteEnergyUseWN(kBtu)            1498 non-null   float64\n",
      " 35  SteamUse(kBtu)                   1499 non-null   float64\n",
      " 36  Electricity(kWh)                 1499 non-null   float64\n",
      " 37  Electricity(kBtu)                1499 non-null   float64\n",
      " 38  NaturalGas(therms)               1499 non-null   float64\n",
      " 39  NaturalGas(kBtu)                 1499 non-null   float64\n",
      " 40  DefaultData                      1501 non-null   bool   \n",
      " 41  Comments                         0 non-null      float64\n",
      " 42  ComplianceStatus                 1501 non-null   object \n",
      " 43  Outlier                          15 non-null     object \n",
      " 44  TotalGHGEmissions                1499 non-null   float64\n",
      " 45  GHGEmissionsIntensity            1499 non-null   float64\n",
      "dtypes: bool(1), float64(22), int64(8), object(15)\n",
      "memory usage: 529.3+ KB\n"
     ]
    }
   ],
   "source": [
    "DF_non_residential.reset_index(inplace=True)\n",
    "DF_non_residential=DF_non_residential.drop(['index'],axis=1)\n",
    "DF_non_residential.info()"
   ]
  },
  {
   "cell_type": "code",
   "execution_count": 473,
   "metadata": {},
   "outputs": [],
   "source": [
    "Liste_a_drop=['State','City','TaxParcelIdentificationNumber','YearBuilt','Address','DataYear']\n",
    "DF_non_residential = DF_non_residential.drop(Liste_a_drop,axis=1)"
   ]
  },
  {
   "cell_type": "code",
   "execution_count": 474,
   "metadata": {},
   "outputs": [
    {
     "data": {
      "text/plain": [
       "array(['Police Station', 'Other - Entertainment/Public Assembly',\n",
       "       'Library', 'Fitness Center/Health Club/Gym', 'Courthouse', 'Other',\n",
       "       'K-12 School', 'College/University', 'Automobile Dealership',\n",
       "       'Self-Storage Facility', 'Office', 'Non-Refrigerated Warehouse',\n",
       "       'Other - Mall', 'Medical Office', 'Retail Store',\n",
       "       'Hospital (General Medical & Surgical)', 'Museum',\n",
       "       'Repair Services (Vehicle, Shoe, Locksmith, etc)',\n",
       "       'Other/Specialty Hospital', 'Financial Office',\n",
       "       'Distribution Center', 'Parking', 'Worship Facility', 'Restaurant',\n",
       "       'Data Center', 'Laboratory', 'Supermarket/Grocery Store',\n",
       "       'Convention Center', 'Urgent Care/Clinic/Other Outpatient', nan,\n",
       "       'Other - Services', 'Strip Mall', 'Wholesale Club/Supercenter',\n",
       "       'Refrigerated Warehouse', 'Manufacturing/Industrial Plant',\n",
       "       'Other - Recreation', 'Lifestyle Center',\n",
       "       'Other - Public Services', 'Social/Meeting Hall',\n",
       "       'Other - Education', 'Fire Station', 'Performing Arts',\n",
       "       'Residential Care Facility', 'Bank Branch',\n",
       "       'Other - Restaurant/Bar', 'Food Service', 'Adult Education',\n",
       "       'Other - Utility', 'Movie Theater',\n",
       "       'Personal Services (Health/Beauty, Dry Cleaning, etc)',\n",
       "       'Pre-school/Daycare', 'Prison/Incarceration'], dtype=object)"
      ]
     },
     "execution_count": 474,
     "metadata": {},
     "output_type": "execute_result"
    }
   ],
   "source": [
    "DF_non_residential['LargestPropertyUseType'].unique()"
   ]
  },
  {
   "cell_type": "code",
   "execution_count": 475,
   "metadata": {},
   "outputs": [
    {
     "data": {
      "text/plain": [
       "array([nan, 'Parking', 'Office', 'Laboratory', 'Refrigerated Warehouse',\n",
       "       'Non-Refrigerated Warehouse', 'Other - Education',\n",
       "       'Vocational School', 'Retail Store',\n",
       "       'Personal Services (Health/Beauty, Dry Cleaning, etc)',\n",
       "       'Restaurant', 'Data Center', 'Other', 'Courthouse',\n",
       "       'Distribution Center', 'Self-Storage Facility', 'Other - Services',\n",
       "       'Movie Theater', 'Other - Recreation',\n",
       "       'Convenience Store without Gas Station', 'Performing Arts',\n",
       "       'College/University', 'Supermarket/Grocery Store',\n",
       "       'Adult Education', 'Medical Office', 'Enclosed Mall',\n",
       "       'Bar/Nightclub', 'Other - Entertainment/Public Assembly',\n",
       "       'Financial Office',\n",
       "       'Repair Services (Vehicle, Shoe, Locksmith, etc)',\n",
       "       'Manufacturing/Industrial Plant', 'Bank Branch', 'K-12 School',\n",
       "       'Swimming Pool', 'Fitness Center/Health Club/Gym',\n",
       "       'Worship Facility', 'Food Sales', 'Other - Public Services',\n",
       "       'Food Service', 'Pre-school/Daycare', 'Other - Restaurant/Bar',\n",
       "       'Social/Meeting Hall', 'Hospital (General Medical & Surgical)',\n",
       "       'Automobile Dealership'], dtype=object)"
      ]
     },
     "execution_count": 475,
     "metadata": {},
     "output_type": "execute_result"
    }
   ],
   "source": [
    "DF_non_residential['SecondLargestPropertyUseType'].unique()"
   ]
  },
  {
   "cell_type": "code",
   "execution_count": 476,
   "metadata": {},
   "outputs": [
    {
     "data": {
      "text/plain": [
       "array([nan, 'Data Center', 'Swimming Pool', 'Non-Refrigerated Warehouse',\n",
       "       'Office', 'Other', 'Distribution Center', 'Other - Services',\n",
       "       'Medical Office', 'Parking', 'Restaurant', 'Other - Utility',\n",
       "       'Retail Store', 'Fitness Center/Health Club/Gym',\n",
       "       'Social/Meeting Hall', 'Food Service', 'Pre-school/Daycare',\n",
       "       'Convenience Store without Gas Station', 'Financial Office',\n",
       "       'Other - Restaurant/Bar', 'Other - Education', 'Laboratory',\n",
       "       'Bank Branch', 'Other - Entertainment/Public Assembly',\n",
       "       'Personal Services (Health/Beauty, Dry Cleaning, etc)',\n",
       "       'Other - Recreation', 'Self-Storage Facility',\n",
       "       'Other - Technology/Science', 'Refrigerated Warehouse',\n",
       "       'Bar/Nightclub', 'Manufacturing/Industrial Plant',\n",
       "       'Other/Specialty Hospital', 'Fast Food Restaurant', 'K-12 School',\n",
       "       'Supermarket/Grocery Store', 'Strip Mall', 'Vocational School'],\n",
       "      dtype=object)"
      ]
     },
     "execution_count": 476,
     "metadata": {},
     "output_type": "execute_result"
    }
   ],
   "source": [
    "DF_non_residential['ThirdLargestPropertyUseType'].unique()"
   ]
  },
  {
   "cell_type": "markdown",
   "metadata": {},
   "source": [
    "# VARIABLES CIBLES"
   ]
  },
  {
   "cell_type": "markdown",
   "metadata": {},
   "source": [
    "## SiteEnergyUse"
   ]
  },
  {
   "cell_type": "markdown",
   "metadata": {},
   "source": [
    "## TotalGHGEmissions"
   ]
  },
  {
   "cell_type": "code",
   "execution_count": null,
   "metadata": {},
   "outputs": [],
   "source": []
  }
 ],
 "metadata": {
  "kernelspec": {
   "display_name": "environnement_virtuel_projet_4",
   "language": "python",
   "name": "python3"
  },
  "language_info": {
   "codemirror_mode": {
    "name": "ipython",
    "version": 3
   },
   "file_extension": ".py",
   "mimetype": "text/x-python",
   "name": "python",
   "nbconvert_exporter": "python",
   "pygments_lexer": "ipython3",
   "version": "3.12.3"
  }
 },
 "nbformat": 4,
 "nbformat_minor": 2
}
